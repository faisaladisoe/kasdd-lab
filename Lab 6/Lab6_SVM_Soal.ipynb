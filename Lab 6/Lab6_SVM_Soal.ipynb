{
  "cells": [
    {
      "cell_type": "markdown",
      "metadata": {
        "id": "0k_j9vD93i96"
      },
      "source": [
        "<center>\n",
        "<img src=\"https://drive.google.com/uc?id=1f1gGVI-rxcHjA90WEGNvvtSXF1pAxQwg\" alt=\"Fasilkom UI\" width=\"300\"/>\n",
        "\n",
        "Kecerdasan Artifisial dan Sains Data Dasar\n",
        "\n",
        "Semester Genap 2021/2022\n",
        "\n",
        "Fakultas Ilmu Komputer, Universitas Indonesia\n",
        "\n",
        "##**Lab *6*: *SVM***\n",
        "\n",
        "</center>\n",
        "\n",
        "####**Ketentuan:**\n",
        "\n",
        "1. Dokumen *template* lab dengan format .ipynb dan dataset (jika dibutuhkan) telah disediakan di SCeLe\n",
        "2. Jalankan kode pada dokumen .ipynb dan perhatikan dengan saksama apa yang potongan kode tersebut lakukan beserta dengan keluarannya. Jawablah **pertanyaan yang disisipkan** pada potongan program yang diberikan.\n",
        "3. Dokumen Jupyter Notebook yang telah dilengkapi dengan jawaban dikumpulkan dengan format penamaan **Kelas_LabX_NPM_Nama.ipynb**. Contoh: F_Lab1_1706979341_Lulu Ilmaknun Qurotaini.ipynb\n",
        "4. Kumpulkan dokumen tersebut pada submisi yang telah disediakan di SCeLe sesuai dengan kelas masing-masing sebelum **25 Mei 2022, 23.55 WIB**. Keterlambatan pengumpulan akan dikenakan pinalti.\n",
        "5. Lab ini dirancang sebagai **tugas mandiri**. Plagiarisme tidak diperkenankan dalam bentuk apapun. Adapun kolaborasi berupa diskusi (tanpa menyalin maupun mengambil jawaban orang lain) dan literasi masih diperbolehkan dengan mencantumkan kolaborator dan sumber.\n"
      ]
    },
    {
      "cell_type": "markdown",
      "metadata": {
        "id": "JnRUE1Ul62_R"
      },
      "source": [
        "## **Pertanyataan Integritas**\n",
        "\n",
        "Wajib diisi. Tanpa pernyataan integritas submisi akan dikenakan pinalti."
      ]
    },
    {
      "cell_type": "code",
      "execution_count": 1,
      "metadata": {
        "id": "9tnfWWpN7vjq"
      },
      "outputs": [],
      "source": [
        "# Isi dengan data diri Anda\n",
        "NAMA = \"Muhammad Faisal Adi Soesatyo\"\n",
        "KELAS = \"B\"\n",
        "NPM = \"1906293184\"\n",
        "\n",
        "# Isi dengan NPM teman yang berdiskusi dengan Anda\n",
        "KOLABORATOR = []\n",
        "\n",
        "# Isi dengan sumber referensi yang Anda gunakan dalam mengerjakan\n",
        "REFERENSI = [\n",
        "    \"https://www.geeksforgeeks.org/find-duplicate-rows-in-a-dataframe-based-on-all-or-selected-columns/\",\n",
        "    \"https://towardsdatascience.com/categorical-encoding-using-label-encoding-and-one-hot-encoder-911ef77fb5bd\",\n",
        "    \"https://scikit-learn.org/stable/modules/generated/sklearn.model_selection.GridSearchCV.html\",\n",
        "    \"https://scikit-learn.org/stable/modules/generated/sklearn.metrics.f1_score.html\",\n",
        "    \"https://scikit-learn.org/stable/modules/generated/sklearn.svm.LinearSVC.html#sklearn.svm.LinearSVC\",\n",
        "    \"https://stats.stackexchange.com/questions/90736/the-difference-of-kernels-in-svm\",\n",
        "    \"\"\n",
        "]"
      ]
    },
    {
      "cell_type": "code",
      "execution_count": 2,
      "metadata": {
        "colab": {
          "base_uri": "https://localhost:8080/"
        },
        "id": "KVEdteyu3hot",
        "outputId": "17e4de64-0f2d-4146-c1f2-66e764d7bc97"
      },
      "outputs": [
        {
          "output_type": "stream",
          "name": "stdout",
          "text": [
            "Saya, Muhammad Faisal Adi Soesatyo dari kelas B dengan NPM 1906293184, menyatakan bahwa seluruh jawaban pada pekerjaan ini murni saya kerjakan sendiri.\n",
            "Saya tidak mencontek jawaban, memberikan jawaban, maupun menyalin dari sumber manapun.\n",
            " \n",
            "Jika saya melanggar pernyataan tersebut, saya siap menerima konsekuensi apapun yang diberikan.\n",
            "   (Muhammad Faisal Adi Soesatyo)\n"
          ]
        }
      ],
      "source": [
        "PERNYATAAN_INTEGRITAS = \"Saya, %s dari kelas %s dengan NPM %s, menyatakan bahwa seluruh jawaban pada pekerjaan ini murni saya kerjakan sendiri.\\n\\\n",
        "Saya tidak mencontek jawaban, memberikan jawaban, maupun menyalin dari sumber manapun.\\n \\\n",
        "\\n\\\n",
        "Jika saya melanggar pernyataan tersebut, saya siap menerima konsekuensi apapun yang diberikan.\\n   \\\n",
        "(%s)\" % (NAMA, KELAS, NPM, NAMA)\n",
        "\n",
        "print(PERNYATAAN_INTEGRITAS)"
      ]
    },
    {
      "cell_type": "markdown",
      "metadata": {
        "id": "Wp2A8EivPH-e"
      },
      "source": [
        "#SVM\n",
        "\n",
        "Support Vector Machine (SVM) adalah salah satu metode supervised learning yang biasanya digunakan untuk klasifikasi (seperti Support Vector Classification) dan regresi (Support Vector Regression). Dalam pemodelan klasifikasi, SVM memiliki konsep yang lebih matang dan lebih jelas secara matematis dibandingkan dengan teknik-teknik klasifikasi lainnya. SVM juga dapat mengatasi masalah klasifikasi dan regresi dengan linear maupun non linear.\n",
        "\n",
        "SVM digunakan untuk mencari hyperplane terbaik dengan memaksimalkan jarak terdekat antar kelas. Hyperplane adalah sebuah fungsi yang dapat digunakan untuk pemisah antar kelas. \n",
        "\n",
        "Dalam tutorial kali ini, kita menggunakan SVC, yaitu model klasifikasi yang menggunakan SVM dan juga SVR, yaitu model regresi yang menggunakan SVM\n",
        "\n"
      ]
    },
    {
      "cell_type": "markdown",
      "metadata": {
        "id": "G1SjtklmLJ-2"
      },
      "source": [
        "## Contoh penggunaan SVM\n",
        "\n",
        "**Perlu diperhatikan kalau SVM hanya menerima dataset yang telah diubah ke numpy.ndarray, sehingga jika datasetnya masih dalam bentuk pandas, maka ubah ke numpy.ndarray**\n",
        "\n",
        "Diambil dari : https://www.datacamp.com/community/tutorials/svm-classification-scikit-learn-python"
      ]
    },
    {
      "cell_type": "code",
      "execution_count": 97,
      "metadata": {
        "id": "SC59CnqYKWkC"
      },
      "outputs": [],
      "source": [
        "#Import scikit-learn dataset library\n",
        "from sklearn import datasets\n",
        "\n",
        "#Load dataset\n",
        "cancer = datasets.load_breast_cancer()"
      ]
    },
    {
      "cell_type": "code",
      "execution_count": 4,
      "metadata": {
        "colab": {
          "base_uri": "https://localhost:8080/"
        },
        "id": "-t40tZ5pKdWQ",
        "outputId": "0a044019-fc46-439b-a4e2-9e863d3d51f0"
      },
      "outputs": [
        {
          "output_type": "stream",
          "name": "stdout",
          "text": [
            "Features:  ['mean radius' 'mean texture' 'mean perimeter' 'mean area'\n",
            " 'mean smoothness' 'mean compactness' 'mean concavity'\n",
            " 'mean concave points' 'mean symmetry' 'mean fractal dimension'\n",
            " 'radius error' 'texture error' 'perimeter error' 'area error'\n",
            " 'smoothness error' 'compactness error' 'concavity error'\n",
            " 'concave points error' 'symmetry error' 'fractal dimension error'\n",
            " 'worst radius' 'worst texture' 'worst perimeter' 'worst area'\n",
            " 'worst smoothness' 'worst compactness' 'worst concavity'\n",
            " 'worst concave points' 'worst symmetry' 'worst fractal dimension']\n",
            "Labels:  ['malignant' 'benign']\n"
          ]
        }
      ],
      "source": [
        "# print the names of the 13 features\n",
        "print(\"Features: \", cancer.feature_names)\n",
        "\n",
        "# print the label type of cancer('malignant' 'benign')\n",
        "print(\"Labels: \", cancer.target_names)\n"
      ]
    },
    {
      "cell_type": "code",
      "execution_count": 5,
      "metadata": {
        "colab": {
          "base_uri": "https://localhost:8080/"
        },
        "id": "PRV1wX2IKi1c",
        "outputId": "9cd0f21f-6596-40d5-d576-a05aff58359b"
      },
      "outputs": [
        {
          "output_type": "execute_result",
          "data": {
            "text/plain": [
              "(569, 30)"
            ]
          },
          "metadata": {},
          "execution_count": 5
        }
      ],
      "source": [
        "# print data(feature)shape\n",
        "cancer.data.shape"
      ]
    },
    {
      "cell_type": "code",
      "execution_count": 6,
      "metadata": {
        "colab": {
          "base_uri": "https://localhost:8080/"
        },
        "id": "FdEfvrOzKv4U",
        "outputId": "400e7af5-eae1-44c0-a8a3-5c734445f7e1"
      },
      "outputs": [
        {
          "output_type": "stream",
          "name": "stdout",
          "text": [
            "[[1.799e+01 1.038e+01 1.228e+02 1.001e+03 1.184e-01 2.776e-01 3.001e-01\n",
            "  1.471e-01 2.419e-01 7.871e-02 1.095e+00 9.053e-01 8.589e+00 1.534e+02\n",
            "  6.399e-03 4.904e-02 5.373e-02 1.587e-02 3.003e-02 6.193e-03 2.538e+01\n",
            "  1.733e+01 1.846e+02 2.019e+03 1.622e-01 6.656e-01 7.119e-01 2.654e-01\n",
            "  4.601e-01 1.189e-01]\n",
            " [2.057e+01 1.777e+01 1.329e+02 1.326e+03 8.474e-02 7.864e-02 8.690e-02\n",
            "  7.017e-02 1.812e-01 5.667e-02 5.435e-01 7.339e-01 3.398e+00 7.408e+01\n",
            "  5.225e-03 1.308e-02 1.860e-02 1.340e-02 1.389e-02 3.532e-03 2.499e+01\n",
            "  2.341e+01 1.588e+02 1.956e+03 1.238e-01 1.866e-01 2.416e-01 1.860e-01\n",
            "  2.750e-01 8.902e-02]\n",
            " [1.969e+01 2.125e+01 1.300e+02 1.203e+03 1.096e-01 1.599e-01 1.974e-01\n",
            "  1.279e-01 2.069e-01 5.999e-02 7.456e-01 7.869e-01 4.585e+00 9.403e+01\n",
            "  6.150e-03 4.006e-02 3.832e-02 2.058e-02 2.250e-02 4.571e-03 2.357e+01\n",
            "  2.553e+01 1.525e+02 1.709e+03 1.444e-01 4.245e-01 4.504e-01 2.430e-01\n",
            "  3.613e-01 8.758e-02]\n",
            " [1.142e+01 2.038e+01 7.758e+01 3.861e+02 1.425e-01 2.839e-01 2.414e-01\n",
            "  1.052e-01 2.597e-01 9.744e-02 4.956e-01 1.156e+00 3.445e+00 2.723e+01\n",
            "  9.110e-03 7.458e-02 5.661e-02 1.867e-02 5.963e-02 9.208e-03 1.491e+01\n",
            "  2.650e+01 9.887e+01 5.677e+02 2.098e-01 8.663e-01 6.869e-01 2.575e-01\n",
            "  6.638e-01 1.730e-01]\n",
            " [2.029e+01 1.434e+01 1.351e+02 1.297e+03 1.003e-01 1.328e-01 1.980e-01\n",
            "  1.043e-01 1.809e-01 5.883e-02 7.572e-01 7.813e-01 5.438e+00 9.444e+01\n",
            "  1.149e-02 2.461e-02 5.688e-02 1.885e-02 1.756e-02 5.115e-03 2.254e+01\n",
            "  1.667e+01 1.522e+02 1.575e+03 1.374e-01 2.050e-01 4.000e-01 1.625e-01\n",
            "  2.364e-01 7.678e-02]]\n"
          ]
        }
      ],
      "source": [
        "# print the cancer data features (top 5 records)\n",
        "print(cancer.data[0:5])"
      ]
    },
    {
      "cell_type": "code",
      "execution_count": 7,
      "metadata": {
        "colab": {
          "base_uri": "https://localhost:8080/"
        },
        "id": "vCLyRIqjKy8j",
        "outputId": "f78618b7-502f-47ce-d634-274058d7228a"
      },
      "outputs": [
        {
          "output_type": "stream",
          "name": "stdout",
          "text": [
            "[0 0 0 0 0 0 0 0 0 0 0 0 0 0 0 0 0 0 0 1 1 1 0 0 0 0 0 0 0 0 0 0 0 0 0 0 0\n",
            " 1 0 0 0 0 0 0 0 0 1 0 1 1 1 1 1 0 0 1 0 0 1 1 1 1 0 1 0 0 1 1 1 1 0 1 0 0\n",
            " 1 0 1 0 0 1 1 1 0 0 1 0 0 0 1 1 1 0 1 1 0 0 1 1 1 0 0 1 1 1 1 0 1 1 0 1 1\n",
            " 1 1 1 1 1 1 0 0 0 1 0 0 1 1 1 0 0 1 0 1 0 0 1 0 0 1 1 0 1 1 0 1 1 1 1 0 1\n",
            " 1 1 1 1 1 1 1 1 0 1 1 1 1 0 0 1 0 1 1 0 0 1 1 0 0 1 1 1 1 0 1 1 0 0 0 1 0\n",
            " 1 0 1 1 1 0 1 1 0 0 1 0 0 0 0 1 0 0 0 1 0 1 0 1 1 0 1 0 0 0 0 1 1 0 0 1 1\n",
            " 1 0 1 1 1 1 1 0 0 1 1 0 1 1 0 0 1 0 1 1 1 1 0 1 1 1 1 1 0 1 0 0 0 0 0 0 0\n",
            " 0 0 0 0 0 0 0 1 1 1 1 1 1 0 1 0 1 1 0 1 1 0 1 0 0 1 1 1 1 1 1 1 1 1 1 1 1\n",
            " 1 0 1 1 0 1 0 1 1 1 1 1 1 1 1 1 1 1 1 1 1 0 1 1 1 0 1 0 1 1 1 1 0 0 0 1 1\n",
            " 1 1 0 1 0 1 0 1 1 1 0 1 1 1 1 1 1 1 0 0 0 1 1 1 1 1 1 1 1 1 1 1 0 0 1 0 0\n",
            " 0 1 0 0 1 1 1 1 1 0 1 1 1 1 1 0 1 1 1 0 1 1 0 0 1 1 1 1 1 1 0 1 1 1 1 1 1\n",
            " 1 0 1 1 1 1 1 0 1 1 0 1 1 1 1 1 1 1 1 1 1 1 1 0 1 0 0 1 0 1 1 1 1 1 0 1 1\n",
            " 0 1 0 1 1 0 1 0 1 1 1 1 1 1 1 1 0 0 1 1 1 1 1 1 0 1 1 1 1 1 1 1 1 1 1 0 1\n",
            " 1 1 1 1 1 1 0 1 0 1 1 0 1 1 1 1 1 0 0 1 0 1 0 1 1 1 1 1 0 1 1 0 1 0 1 0 0\n",
            " 1 1 1 0 1 1 1 1 1 1 1 1 1 1 1 0 1 0 0 1 1 1 1 1 1 1 1 1 1 1 1 1 1 1 1 1 1\n",
            " 1 1 1 1 1 1 1 0 0 0 0 0 0 1]\n"
          ]
        }
      ],
      "source": [
        "# print the cancer labels (0:malignant, 1:benign)\n",
        "print(cancer.target)"
      ]
    },
    {
      "cell_type": "code",
      "execution_count": 8,
      "metadata": {
        "id": "QldeEsN6K1Rf"
      },
      "outputs": [],
      "source": [
        "# Import train_test_split function\n",
        "from sklearn.model_selection import train_test_split\n",
        "\n",
        "# Split dataset into training set and test set\n",
        "X_train, X_test, y_train, y_test = train_test_split(cancer.data, cancer.target, test_size=0.3,random_state=109) # 70% training and 30% test"
      ]
    },
    {
      "cell_type": "code",
      "execution_count": 9,
      "metadata": {
        "id": "ys8KZye-K6-a"
      },
      "outputs": [],
      "source": [
        "#Import svm model\n",
        "from sklearn import svm\n",
        "\n",
        "#Create a svm Classifier\n",
        "clf = svm.SVC(kernel='linear') # Linear Kernel\n",
        "\n",
        "#Train the model using the training sets\n",
        "clf.fit(X_train, y_train)\n",
        "\n",
        "#Predict the response for test dataset\n",
        "y_pred_clf = clf.predict(X_test)"
      ]
    },
    {
      "cell_type": "code",
      "execution_count": 10,
      "metadata": {
        "colab": {
          "base_uri": "https://localhost:8080/"
        },
        "id": "Fkn1X6JQK_8Y",
        "outputId": "952d3478-6011-4fe1-c3ca-0449515db77a"
      },
      "outputs": [
        {
          "output_type": "stream",
          "name": "stdout",
          "text": [
            "Accuracy Classification: 0.9649122807017544\n",
            "Precision Classification: 0.9811320754716981\n",
            "Recall Classification: 0.9629629629629629\n"
          ]
        }
      ],
      "source": [
        "#Import scikit-learn metrics module for accuracy calculation\n",
        "from sklearn import metrics\n",
        "\n",
        "# Model Accuracy: how often is the classifier correct?\n",
        "print(\"Accuracy Classification:\",metrics.accuracy_score(y_test, y_pred_clf))\n",
        "# Model Precision: what percentage of positive tuples are labeled as such?\n",
        "print(\"Precision Classification:\",metrics.precision_score(y_test, y_pred_clf))\n",
        "# Model Recall: what percentage of positive tuples are labelled as such?\n",
        "print(\"Recall Classification:\",metrics.recall_score(y_test, y_pred_clf))"
      ]
    },
    {
      "cell_type": "markdown",
      "metadata": {
        "id": "XFsOiUS1L3jU"
      },
      "source": [
        "## Perbedaan tiap kernel SVC"
      ]
    },
    {
      "cell_type": "code",
      "execution_count": 11,
      "metadata": {
        "colab": {
          "base_uri": "https://localhost:8080/",
          "height": 278
        },
        "id": "W0fMDsqkL89d",
        "outputId": "e0171cb1-ebb5-4ecc-e0f1-25fb6944ecfd"
      },
      "outputs": [
        {
          "output_type": "display_data",
          "data": {
            "text/plain": [
              "<Figure size 432x288 with 4 Axes>"
            ],
            "image/png": "[encoded data removed]"
          },
          "metadata": {}
        }
      ],
      "source": [
        "#source : https://scikit-learn.org/stable/auto_examples/svm/plot_iris_svc.html#sphx-glr-auto-examples-svm-plot-iris-svc-py\n",
        "import numpy as np\n",
        "import matplotlib.pyplot as plt\n",
        "from sklearn import svm, datasets\n",
        "\n",
        "\n",
        "def make_meshgrid(x, y, h=.02):\n",
        "    \"\"\"Create a mesh of points to plot in\n",
        "\n",
        "    Parameters\n",
        "    ----------\n",
        "    x: data to base x-axis meshgrid on\n",
        "    y: data to base y-axis meshgrid on\n",
        "    h: stepsize for meshgrid, optional\n",
        "\n",
        "    Returns\n",
        "    -------\n",
        "    xx, yy : ndarray\n",
        "    \"\"\"\n",
        "    x_min, x_max = x.min() - 1, x.max() + 1\n",
        "    y_min, y_max = y.min() - 1, y.max() + 1\n",
        "    xx, yy = np.meshgrid(np.arange(x_min, x_max, h),\n",
        "                         np.arange(y_min, y_max, h))\n",
        "    return xx, yy\n",
        "\n",
        "\n",
        "def plot_contours(ax, clf, xx, yy, **params):\n",
        "    \"\"\"Plot the decision boundaries for a classifier.\n",
        "\n",
        "    Parameters\n",
        "    ----------\n",
        "    ax: matplotlib axes object\n",
        "    clf: a classifier\n",
        "    xx: meshgrid ndarray\n",
        "    yy: meshgrid ndarray\n",
        "    params: dictionary of params to pass to contourf, optional\n",
        "    \"\"\"\n",
        "    Z = clf.predict(np.c_[xx.ravel(), yy.ravel()])\n",
        "    Z = Z.reshape(xx.shape)\n",
        "    out = ax.contourf(xx, yy, Z, **params)\n",
        "    return out\n",
        "\n",
        "\n",
        "# import some data to play with\n",
        "iris = datasets.load_iris()\n",
        "# Take the first two features. We could avoid this by using a two-dim dataset\n",
        "X = iris.data[:, :2]\n",
        "y = iris.target\n",
        "\n",
        "# we create an instance of SVM and fit out data. We do not scale our\n",
        "# data since we want to plot the support vectors\n",
        "C = 1.0  # SVM regularization parameter\n",
        "models = (svm.SVC(kernel='linear', C=C),\n",
        "          svm.LinearSVC(C=C, max_iter=10000),\n",
        "          svm.SVC(kernel='rbf', gamma=0.7, C=C),\n",
        "          svm.SVC(kernel='poly', degree=3, gamma='auto', C=C))\n",
        "models = (clf.fit(X, y) for clf in models)\n",
        "\n",
        "# title for the plots\n",
        "titles = ('SVC with linear kernel',\n",
        "          'LinearSVC (linear kernel)',\n",
        "          'SVC with RBF kernel',\n",
        "          'SVC with polynomial (degree 3) kernel')\n",
        "\n",
        "# Set-up 2x2 grid for plotting.\n",
        "fig, sub = plt.subplots(2, 2)\n",
        "plt.subplots_adjust(wspace=0.4, hspace=0.4)\n",
        "\n",
        "X0, X1 = X[:, 0], X[:, 1]\n",
        "xx, yy = make_meshgrid(X0, X1)\n",
        "\n",
        "for clf, title, ax in zip(models, titles, sub.flatten()):\n",
        "    plot_contours(ax, clf, xx, yy,\n",
        "                  cmap=plt.cm.coolwarm, alpha=0.8)\n",
        "    ax.scatter(X0, X1, c=y, cmap=plt.cm.coolwarm, s=20, edgecolors='k')\n",
        "    ax.set_xlim(xx.min(), xx.max())\n",
        "    ax.set_ylim(yy.min(), yy.max())\n",
        "    ax.set_xlabel('Sepal length')\n",
        "    ax.set_ylabel('Sepal width')\n",
        "    ax.set_xticks(())\n",
        "    ax.set_yticks(())\n",
        "    ax.set_title(title)\n",
        "\n",
        "plt.show()"
      ]
    },
    {
      "cell_type": "markdown",
      "source": [
        "This example shows how to plot the decision surface for four SVM classifiers with different kernels.\n",
        "\n",
        "The linear models LinearSVC() and SVC(kernel='linear') yield slightly different decision boundaries. This can be a consequence of the following differences:\n",
        "\n",
        "1. LinearSVC minimizes the squared hinge loss while SVC minimizes the regular hinge loss.\n",
        "\n",
        "2. LinearSVC uses the One-vs-All (also known as One-vs-Rest) multiclass reduction while SVC uses the One-vs-One multiclass reduction.\n",
        "\n",
        "Both linear models have linear decision boundaries (intersecting hyperplanes) while the non-linear kernel models (polynomial or Gaussian RBF) have more flexible non-linear decision boundaries with shapes that depend on the kind of kernel and its parameters."
      ],
      "metadata": {
        "id": "kszcov6RkGAh"
      }
    },
    {
      "cell_type": "markdown",
      "metadata": {
        "id": "dR6NSUqzCy63"
      },
      "source": [
        "## Perbedaan tiap kernel di SVR"
      ]
    },
    {
      "cell_type": "code",
      "execution_count": 12,
      "metadata": {
        "id": "Djk4-PiRC5Zs",
        "colab": {
          "base_uri": "https://localhost:8080/",
          "height": 713
        },
        "outputId": "64e885b1-012e-4aad-9a7b-1a2b4033cac2"
      },
      "outputs": [
        {
          "output_type": "display_data",
          "data": {
            "text/plain": [
              "<Figure size 1080x720 with 3 Axes>"
            ],
            "image/png": "[encoded data removed]"
          },
          "metadata": {
            "needs_background": "light"
          }
        }
      ],
      "source": [
        "#source https://scikit-learn.org/stable/auto_examples/svm/plot_svm_regression.html#sphx-glr-auto-examples-svm-plot-svm-regression-py\n",
        "import numpy as np\n",
        "from sklearn.svm import SVR\n",
        "import matplotlib.pyplot as plt\n",
        "\n",
        "# #############################################################################\n",
        "# Generate sample data\n",
        "X = np.sort(5 * np.random.rand(40, 1), axis=0)\n",
        "y = np.sin(X).ravel()\n",
        "\n",
        "# #############################################################################\n",
        "# Add noise to targets\n",
        "y[::5] += 3 * (0.5 - np.random.rand(8))\n",
        "\n",
        "# #############################################################################\n",
        "# Fit regression model\n",
        "svr_rbf = SVR(kernel=\"rbf\", C=100, gamma=0.1, epsilon=0.1)\n",
        "svr_lin = SVR(kernel=\"linear\", C=100, gamma=\"auto\")\n",
        "svr_poly = SVR(kernel=\"poly\", C=100, gamma=\"auto\", degree=3, epsilon=0.1, coef0=1)\n",
        "\n",
        "# #############################################################################\n",
        "# Look at the results\n",
        "lw = 2\n",
        "\n",
        "svrs = [svr_rbf, svr_lin, svr_poly]\n",
        "kernel_label = [\"RBF\", \"Linear\", \"Polynomial\"]\n",
        "model_color = [\"m\", \"c\", \"g\"]\n",
        "\n",
        "fig, axes = plt.subplots(nrows=1, ncols=3, figsize=(15, 10), sharey=True)\n",
        "for ix, svr in enumerate(svrs):\n",
        "    axes[ix].plot(\n",
        "        X,\n",
        "        svr.fit(X, y).predict(X),\n",
        "        color=model_color[ix],\n",
        "        lw=lw,\n",
        "        label=\"{} model\".format(kernel_label[ix]),\n",
        "    )\n",
        "    axes[ix].scatter(\n",
        "        X[svr.support_],\n",
        "        y[svr.support_],\n",
        "        facecolor=\"none\",\n",
        "        edgecolor=model_color[ix],\n",
        "        s=50,\n",
        "        label=\"{} support vectors\".format(kernel_label[ix]),\n",
        "    )\n",
        "    axes[ix].scatter(\n",
        "        X[np.setdiff1d(np.arange(len(X)), svr.support_)],\n",
        "        y[np.setdiff1d(np.arange(len(X)), svr.support_)],\n",
        "        facecolor=\"none\",\n",
        "        edgecolor=\"k\",\n",
        "        s=50,\n",
        "        label=\"other training data\",\n",
        "    )\n",
        "    axes[ix].legend(\n",
        "        loc=\"upper center\",\n",
        "        bbox_to_anchor=(0.5, 1.1),\n",
        "        ncol=1,\n",
        "        fancybox=True,\n",
        "        shadow=True,\n",
        "    )\n",
        "\n",
        "fig.text(0.5, 0.04, \"data\", ha=\"center\", va=\"center\")\n",
        "fig.text(0.06, 0.5, \"target\", ha=\"center\", va=\"center\", rotation=\"vertical\")\n",
        "fig.suptitle(\"Support Vector Regression\", fontsize=14)\n",
        "plt.show()"
      ]
    },
    {
      "cell_type": "markdown",
      "metadata": {
        "id": "nLbD7hf9KnJ8"
      },
      "source": [
        "## Import Libraries and Data"
      ]
    },
    {
      "cell_type": "code",
      "execution_count": 13,
      "metadata": {
        "id": "EK27FheIFqrt"
      },
      "outputs": [],
      "source": [
        "import numpy as np\n",
        "import pandas as pd\n",
        "import seaborn as sns\n",
        "import matplotlib.pyplot as plt"
      ]
    },
    {
      "cell_type": "code",
      "execution_count": 77,
      "metadata": {
        "id": "0CQBH358Kz-y"
      },
      "outputs": [],
      "source": [
        "mushroom = pd.read_csv('jamur.csv')"
      ]
    },
    {
      "cell_type": "code",
      "execution_count": 15,
      "metadata": {
        "colab": {
          "base_uri": "https://localhost:8080/"
        },
        "id": "m7h5-4_sL9T4",
        "outputId": "f4f31eef-6274-43d0-8c8b-693f3998f315"
      },
      "outputs": [
        {
          "output_type": "stream",
          "name": "stdout",
          "text": [
            "data:  (8124, 23)\n"
          ]
        }
      ],
      "source": [
        "# Mencetak dimensi data\n",
        "print(\"data: \", mushroom.shape)"
      ]
    },
    {
      "cell_type": "code",
      "execution_count": 16,
      "metadata": {
        "colab": {
          "base_uri": "https://localhost:8080/",
          "height": 320
        },
        "id": "w-24ni0kMByd",
        "outputId": "0a57214f-6331-42a1-e096-a1930a5cf692"
      },
      "outputs": [
        {
          "output_type": "execute_result",
          "data": {
            "text/plain": [
              "       class cap-shape cap-surface cap-color bruises  odor gill-attachment  \\\n",
              "count   8124      8124        8124      8124    8124  8124            8124   \n",
              "unique     2         6           4        10       2     9               2   \n",
              "top        e         x           y         n       f     n               f   \n",
              "freq    4208      3656        3244      2284    4748  3528            7914   \n",
              "\n",
              "       gill-spacing gill-size gill-color  ... stalk-surface-below-ring  \\\n",
              "count          8124      8124       8124  ...                     8124   \n",
              "unique            2         2         12  ...                        4   \n",
              "top               c         b          b  ...                        s   \n",
              "freq           6812      5612       1728  ...                     4936   \n",
              "\n",
              "       stalk-color-above-ring stalk-color-below-ring veil-type veil-color  \\\n",
              "count                    8124                   8124      8124       8124   \n",
              "unique                      9                      9         1          4   \n",
              "top                         w                      w         p          w   \n",
              "freq                     4464                   4384      8124       7924   \n",
              "\n",
              "       ring-number ring-type spore-print-color population habitat  \n",
              "count         8124      8124              8124       8124    8124  \n",
              "unique           3         5                 9          6       7  \n",
              "top              o         p                 w          v       d  \n",
              "freq          7488      3968              2388       4040    3148  \n",
              "\n",
              "[4 rows x 23 columns]"
            ],
            "text/html": [
              "\n",
              "  <div id=\"df-e70d9661-f7e3-4657-a5c1-1b50365c02db\">\n",
              "    <div class=\"colab-df-container\">\n",
              "      <div>\n",
              "<style scoped>\n",
              "    .dataframe tbody tr th:only-of-type {\n",
              "        vertical-align: middle;\n",
              "    }\n",
              "\n",
              "    .dataframe tbody tr th {\n",
              "        vertical-align: top;\n",
              "    }\n",
              "\n",
              "    .dataframe thead th {\n",
              "        text-align: right;\n",
              "    }\n",
              "</style>\n",
              "<table border=\"1\" class=\"dataframe\">\n",
              "  <thead>\n",
              "    <tr style=\"text-align: right;\">\n",
              "      <th></th>\n",
              "      <th>class</th>\n",
              "      <th>cap-shape</th>\n",
              "      <th>cap-surface</th>\n",
              "      <th>cap-color</th>\n",
              "      <th>bruises</th>\n",
              "      <th>odor</th>\n",
              "      <th>gill-attachment</th>\n",
              "      <th>gill-spacing</th>\n",
              "      <th>gill-size</th>\n",
              "      <th>gill-color</th>\n",
              "      <th>...</th>\n",
              "      <th>stalk-surface-below-ring</th>\n",
              "      <th>stalk-color-above-ring</th>\n",
              "      <th>stalk-color-below-ring</th>\n",
              "      <th>veil-type</th>\n",
              "      <th>veil-color</th>\n",
              "      <th>ring-number</th>\n",
              "      <th>ring-type</th>\n",
              "      <th>spore-print-color</th>\n",
              "      <th>population</th>\n",
              "      <th>habitat</th>\n",
              "    </tr>\n",
              "  </thead>\n",
              "  <tbody>\n",
              "    <tr>\n",
              "      <th>count</th>\n",
              "      <td>8124</td>\n",
              "      <td>8124</td>\n",
              "      <td>8124</td>\n",
              "      <td>8124</td>\n",
              "      <td>8124</td>\n",
              "      <td>8124</td>\n",
              "      <td>8124</td>\n",
              "      <td>8124</td>\n",
              "      <td>8124</td>\n",
              "      <td>8124</td>\n",
              "      <td>...</td>\n",
              "      <td>8124</td>\n",
              "      <td>8124</td>\n",
              "      <td>8124</td>\n",
              "      <td>8124</td>\n",
              "      <td>8124</td>\n",
              "      <td>8124</td>\n",
              "      <td>8124</td>\n",
              "      <td>8124</td>\n",
              "      <td>8124</td>\n",
              "      <td>8124</td>\n",
              "    </tr>\n",
              "    <tr>\n",
              "      <th>unique</th>\n",
              "      <td>2</td>\n",
              "      <td>6</td>\n",
              "      <td>4</td>\n",
              "      <td>10</td>\n",
              "      <td>2</td>\n",
              "      <td>9</td>\n",
              "      <td>2</td>\n",
              "      <td>2</td>\n",
              "      <td>2</td>\n",
              "      <td>12</td>\n",
              "      <td>...</td>\n",
              "      <td>4</td>\n",
              "      <td>9</td>\n",
              "      <td>9</td>\n",
              "      <td>1</td>\n",
              "      <td>4</td>\n",
              "      <td>3</td>\n",
              "      <td>5</td>\n",
              "      <td>9</td>\n",
              "      <td>6</td>\n",
              "      <td>7</td>\n",
              "    </tr>\n",
              "    <tr>\n",
              "      <th>top</th>\n",
              "      <td>e</td>\n",
              "      <td>x</td>\n",
              "      <td>y</td>\n",
              "      <td>n</td>\n",
              "      <td>f</td>\n",
              "      <td>n</td>\n",
              "      <td>f</td>\n",
              "      <td>c</td>\n",
              "      <td>b</td>\n",
              "      <td>b</td>\n",
              "      <td>...</td>\n",
              "      <td>s</td>\n",
              "      <td>w</td>\n",
              "      <td>w</td>\n",
              "      <td>p</td>\n",
              "      <td>w</td>\n",
              "      <td>o</td>\n",
              "      <td>p</td>\n",
              "      <td>w</td>\n",
              "      <td>v</td>\n",
              "      <td>d</td>\n",
              "    </tr>\n",
              "    <tr>\n",
              "      <th>freq</th>\n",
              "      <td>4208</td>\n",
              "      <td>3656</td>\n",
              "      <td>3244</td>\n",
              "      <td>2284</td>\n",
              "      <td>4748</td>\n",
              "      <td>3528</td>\n",
              "      <td>7914</td>\n",
              "      <td>6812</td>\n",
              "      <td>5612</td>\n",
              "      <td>1728</td>\n",
              "      <td>...</td>\n",
              "      <td>4936</td>\n",
              "      <td>4464</td>\n",
              "      <td>4384</td>\n",
              "      <td>8124</td>\n",
              "      <td>7924</td>\n",
              "      <td>7488</td>\n",
              "      <td>3968</td>\n",
              "      <td>2388</td>\n",
              "      <td>4040</td>\n",
              "      <td>3148</td>\n",
              "    </tr>\n",
              "  </tbody>\n",
              "</table>\n",
              "<p>4 rows × 23 columns</p>\n",
              "</div>\n",
              "      <button class=\"colab-df-convert\" onclick=\"convertToInteractive('df-e70d9661-f7e3-4657-a5c1-1b50365c02db')\"\n",
              "              title=\"Convert this dataframe to an interactive table.\"\n",
              "              style=\"display:none;\">\n",
              "        \n",
              "  <svg xmlns=\"http://www.w3.org/2000/svg\" height=\"24px\"viewBox=\"0 0 24 24\"\n",
              "       width=\"24px\">\n",
              "    <path d=\"M0 0h24v24H0V0z\" fill=\"none\"/>\n",
              "    <path d=\"M18.56 5.44l.94 2.06.94-2.06 2.06-.94-2.06-.94-.94-2.06-.94 2.06-2.06.94zm-11 1L8.5 8.5l.94-2.06 2.06-.94-2.06-.94L8.5 2.5l-.94 2.06-2.06.94zm10 10l.94 2.06.94-2.06 2.06-.94-2.06-.94-.94-2.06-.94 2.06-2.06.94z\"/><path d=\"M17.41 7.96l-1.37-1.37c-.4-.4-.92-.59-1.43-.59-.52 0-1.04.2-1.43.59L10.3 9.45l-7.72 7.72c-.78.78-.78 2.05 0 2.83L4 21.41c.39.39.9.59 1.41.59.51 0 1.02-.2 1.41-.59l7.78-7.78 2.81-2.81c.8-.78.8-2.07 0-2.86zM5.41 20L4 18.59l7.72-7.72 1.47 1.35L5.41 20z\"/>\n",
              "  </svg>\n",
              "      </button>\n",
              "      \n",
              "  <style>\n",
              "    .colab-df-container {\n",
              "      display:flex;\n",
              "      flex-wrap:wrap;\n",
              "      gap: 12px;\n",
              "    }\n",
              "\n",
              "    .colab-df-convert {\n",
              "      background-color: #E8F0FE;\n",
              "      border: none;\n",
              "      border-radius: 50%;\n",
              "      cursor: pointer;\n",
              "      display: none;\n",
              "      fill: #1967D2;\n",
              "      height: 32px;\n",
              "      padding: 0 0 0 0;\n",
              "      width: 32px;\n",
              "    }\n",
              "\n",
              "    .colab-df-convert:hover {\n",
              "      background-color: #E2EBFA;\n",
              "      box-shadow: 0px 1px 2px rgba(60, 64, 67, 0.3), 0px 1px 3px 1px rgba(60, 64, 67, 0.15);\n",
              "      fill: #174EA6;\n",
              "    }\n",
              "\n",
              "    [theme=dark] .colab-df-convert {\n",
              "      background-color: #3B4455;\n",
              "      fill: #D2E3FC;\n",
              "    }\n",
              "\n",
              "    [theme=dark] .colab-df-convert:hover {\n",
              "      background-color: #434B5C;\n",
              "      box-shadow: 0px 1px 3px 1px rgba(0, 0, 0, 0.15);\n",
              "      filter: drop-shadow(0px 1px 2px rgba(0, 0, 0, 0.3));\n",
              "      fill: #FFFFFF;\n",
              "    }\n",
              "  </style>\n",
              "\n",
              "      <script>\n",
              "        const buttonEl =\n",
              "          document.querySelector('#df-e70d9661-f7e3-4657-a5c1-1b50365c02db button.colab-df-convert');\n",
              "        buttonEl.style.display =\n",
              "          google.colab.kernel.accessAllowed ? 'block' : 'none';\n",
              "\n",
              "        async function convertToInteractive(key) {\n",
              "          const element = document.querySelector('#df-e70d9661-f7e3-4657-a5c1-1b50365c02db');\n",
              "          const dataTable =\n",
              "            await google.colab.kernel.invokeFunction('convertToInteractive',\n",
              "                                                     [key], {});\n",
              "          if (!dataTable) return;\n",
              "\n",
              "          const docLinkHtml = 'Like what you see? Visit the ' +\n",
              "            '<a target=\"_blank\" href=https://colab.research.google.com/notebooks/data_table.ipynb>data table notebook</a>'\n",
              "            + ' to learn more about interactive tables.';\n",
              "          element.innerHTML = '';\n",
              "          dataTable['output_type'] = 'display_data';\n",
              "          await google.colab.output.renderOutput(dataTable, element);\n",
              "          const docLink = document.createElement('div');\n",
              "          docLink.innerHTML = docLinkHtml;\n",
              "          element.appendChild(docLink);\n",
              "        }\n",
              "      </script>\n",
              "    </div>\n",
              "  </div>\n",
              "  "
            ]
          },
          "metadata": {},
          "execution_count": 16
        }
      ],
      "source": [
        "mushroom.describe()"
      ]
    },
    {
      "cell_type": "markdown",
      "metadata": {
        "id": "8JeqB4ZRMNGB"
      },
      "source": [
        "### Penjelasan Dataset\n",
        "\n",
        "Dataset yang digunakan adalah dataset mengenai jamur dimana jamur tersebut dibagi menjadi 2 class yaitu poisonous dan edible.\n",
        "\n",
        "Attribute Information: (classes: edible=e, poisonous=p)\n",
        "\n",
        "* cap-shape: bell=b, conical=c, convex=x, flat=f, knobbed=k, sunken=s\n",
        "\n",
        "* cap-surface: fibrous=f, grooves=g, scaly=y, smooth=s\n",
        "\n",
        "* cap-color: brown=n, buff=b, cinnamon=c, gray=g, green=r, pink=p, purple=u, red=e, white=w, yellow=y\n",
        "\n",
        "* bruises: bruises=t, no=f\n",
        "\n",
        "* odor: almond=a, anise=l, creosote=c, fishy=y, foul=f, musty=m, none=n, pungent=p, spicy=s\n",
        "\n",
        "* gill-attachment: attached=a, descending=d, free=f, notched=n\n",
        "\n",
        "* gill-spacing: close=c, crowded=w, distant=d\n",
        "\n",
        "* gill-size: broad=b, narrow=n\n",
        "\n",
        "* gill-color: black=k, brown=n, buff=b, chocolate=h, gray=g, green=r, orange=o, pink=p, purple=u, red=e, white=w, yellow=y\n",
        "\n",
        "* stalk-shape: enlarging=e, tapering=t\n",
        "\n",
        "* stalk-root: bulbous=b, club=c, cup=u, equal=e, rhizomorphs=z, rooted=r, missing=?\n",
        "\n",
        "* stalk-surface-above-ring: fibrous=f, scaly=y, silky=k, smooth=s\n",
        "\n",
        "* stalk-surface-below-ring: fibrous=f, scaly=y, silky=k, smooth=s\n",
        "\n",
        "* stalk-color-above-ring: brown=n, buff=b, cinnamon=c, gray=g, orange=o, pink=p, red=e, white=w, yellow=y\n",
        "\n",
        "* stalk-color-below-ring: brown=n, buff=b, cinnamon=c, gray=g, orange=o, pink=p, red=e, white=w, yellow=y\n",
        "\n",
        "* veil-type: partial=p, universal=u\n",
        "\n",
        "* veil-color: brown=n, orange=o, white=w, yellow=y\n",
        "\n",
        "* ring-number: none=n, one=o, two=t\n",
        "\n",
        "* ring-type: cobwebby=c, evanescent=e, flaring=f, large=l, none=n, pendant=p, sheathing=s, zone=z\n",
        "\n",
        "* spore-print-color: black=k, brown=n, buff=b, chocolate=h, green=r, orange=o, purple=u, white=w, yellow=y\n",
        "\n",
        "* population: abundant=a, clustered=c, numerous=n, scattered=s, several=v, solitary=y\n",
        "\n",
        "* habitat: grasses=g, leaves=l, meadows=m, paths=p, urban=u, waste=w, woods=d"
      ]
    },
    {
      "cell_type": "markdown",
      "metadata": {
        "id": "7O2crMhckhqi"
      },
      "source": [
        "## SOAL 1\n",
        "\n",
        "Lakukanlah preprocessing terhadap data terlebih dahulu. Untuk memudahkan, silakan ikut langkah-langkah di bawah ini:"
      ]
    },
    {
      "cell_type": "markdown",
      "metadata": {
        "id": "CrP-xvwQkvGw"
      },
      "source": [
        "### SOAL 1a\n",
        "\n",
        "Lakukan penanganan terhadap missing value pada data (Jika ada). Sertakan juga alasan dalam pemilihan penanganan missing value tersebut."
      ]
    },
    {
      "cell_type": "markdown",
      "source": [
        "Check ukuran masing-masing kolom, untuk melihat apakah ada NaN"
      ],
      "metadata": {
        "id": "K5_MUZA0i-XM"
      }
    },
    {
      "cell_type": "code",
      "source": [
        "display(mushroom.info())"
      ],
      "metadata": {
        "id": "isTPgXSpi-Cz"
      },
      "execution_count": null,
      "outputs": []
    },
    {
      "cell_type": "markdown",
      "source": [
        "Dapat dilihat bahwa pada RangeIndex terdapat 8124 entries. Dapat dilihat pula bahwa masing-masing kolom pun juga terdapat 8124 non-null value. Itu artinya pada masing-masing kolom tidak terdapat missing value atau NaN"
      ],
      "metadata": {
        "id": "jERcxhCNjIDZ"
      }
    },
    {
      "cell_type": "markdown",
      "source": [
        "Untuk memastikan lebih lanjut, perlu diperiksa sekali lagi menggunakan isnull(). Terkadang apabila jumlah kolom terlalu banyak dapat merepotkan untuk memeriksa satu persatu."
      ],
      "metadata": {
        "id": "iqXzDDIgjYOt"
      }
    },
    {
      "cell_type": "code",
      "execution_count": null,
      "metadata": {
        "id": "Y97glxEMkhqz"
      },
      "outputs": [],
      "source": [
        "# Implementasi code di sini\n",
        "display(mushroom.isnull().sum())"
      ]
    },
    {
      "cell_type": "markdown",
      "source": [
        "Dari data diatas dapat dilihat bahwa pada masing-masing kolom tidak ditemukan adanya missing value atau NaN. Hal ini ditandai dengan hasil 0 pada masing-masing kolom."
      ],
      "metadata": {
        "id": "zqnbZdUyjnpl"
      }
    },
    {
      "cell_type": "markdown",
      "metadata": {
        "id": "8OFhLSumlDjE"
      },
      "source": [
        "### SOAL 1b\n",
        "\n",
        "Lakukan penanganan terhadap duplikasi pada data (Jika ada). Sertakan juga alasan dalam pemilihan penanganan duplikasi data tersebut."
      ]
    },
    {
      "cell_type": "code",
      "execution_count": 54,
      "metadata": {
        "id": "W9o2zpnOlDjF",
        "colab": {
          "base_uri": "https://localhost:8080/",
          "height": 34
        },
        "outputId": "0a15e941-cf1e-465e-bca1-934320de44f4"
      },
      "outputs": [
        {
          "output_type": "display_data",
          "data": {
            "text/plain": [
              "0"
            ]
          },
          "metadata": {}
        }
      ],
      "source": [
        "# Implementasi code di sini\n",
        "display(mushroom.duplicated().sum())"
      ]
    },
    {
      "cell_type": "markdown",
      "source": [
        "Berdasarkan pemeriksaan duplikasi pada baris data tidak ditemukan adanya duplikasi data pada antar baris. Dapat dilihat bahwa return value dari sum of duplicated adalah 0.\n",
        "\n",
        "Untuk duplikasi data pada column tentu ada, namun saya memutuskan untuk tidak tangani hal tersebut. Karena itu akan merusak keseluruhan data."
      ],
      "metadata": {
        "id": "SwKdhUAjm1jl"
      }
    },
    {
      "cell_type": "markdown",
      "metadata": {
        "id": "bf0wCEnzwfsr"
      },
      "source": [
        "### SOAL 1c\n",
        "\n",
        "Gunakan Label Encoder untuk mengubah data huruf menjadi data numerik!"
      ]
    },
    {
      "cell_type": "code",
      "execution_count": null,
      "metadata": {
        "id": "_Yt33BnRwfsr"
      },
      "outputs": [],
      "source": [
        "# Implementasi code di sini\n",
        "from sklearn.preprocessing import LabelEncoder\n",
        "labelencoder = LabelEncoder()\n",
        "\n",
        "mushroom_label_encoded = mushroom.copy()\n",
        "mushroom_columns = mushroom.columns\n",
        "for item in mushroom_columns:\n",
        "  mushroom_label_encoded[item] = labelencoder.fit_transform(mushroom[item])\n",
        "\n",
        "display(mushroom_label_encoded.head())"
      ]
    },
    {
      "cell_type": "markdown",
      "metadata": {
        "id": "A01LbUuxwfsr"
      },
      "source": [
        "### SOAL 1d\n",
        "\n",
        "Gunakan pandas.get_dummies untuk sepenuhnya mengubah data kategorikal menjadi numerikal!"
      ]
    },
    {
      "cell_type": "code",
      "execution_count": null,
      "metadata": {
        "id": "xPfFrEPxwfsr"
      },
      "outputs": [],
      "source": [
        "# Implementasi code di sini\n",
        "mushroom_one_hot_encoded = pd.get_dummies(mushroom)\n",
        "display(mushroom_one_hot_encoded.head())"
      ]
    },
    {
      "cell_type": "markdown",
      "metadata": {
        "id": "pbeY-Ra4ljgu"
      },
      "source": [
        "### SOAL 1e \n",
        "\n",
        "Lakukan train test split menggunakan sklearn model selection!"
      ]
    },
    {
      "cell_type": "markdown",
      "source": [
        "Pemisahan menjadi feature dan target"
      ],
      "metadata": {
        "id": "9rto9OwuxMIw"
      }
    },
    {
      "cell_type": "code",
      "source": [
        "mushroom_features = mushroom_label_encoded.drop('class', axis = 1)\n",
        "mushroom_target = mushroom_label_encoded['class']\n",
        "\n",
        "display(mushroom_features.shape)\n",
        "display(mushroom_target.shape)"
      ],
      "metadata": {
        "colab": {
          "base_uri": "https://localhost:8080/",
          "height": 52
        },
        "id": "VNVtIXLYxOVV",
        "outputId": "6bd55337-b561-4b8b-c8b1-a931c5680d99"
      },
      "execution_count": 119,
      "outputs": [
        {
          "output_type": "display_data",
          "data": {
            "text/plain": [
              "(8124, 22)"
            ]
          },
          "metadata": {}
        },
        {
          "output_type": "display_data",
          "data": {
            "text/plain": [
              "(8124,)"
            ]
          },
          "metadata": {}
        }
      ]
    },
    {
      "cell_type": "markdown",
      "source": [
        "Implementasi split antara test dan train"
      ],
      "metadata": {
        "id": "lFA9tgwBxmd5"
      }
    },
    {
      "cell_type": "code",
      "execution_count": 120,
      "metadata": {
        "id": "kr9WezKxwfsr"
      },
      "outputs": [],
      "source": [
        "# Implementasi code di sini\n",
        "from sklearn.model_selection import train_test_split\n",
        "\n",
        "x_train, x_test, y_train, y_test = train_test_split(mushroom_features, mushroom_target, test_size=0.3, random_state=196)"
      ]
    },
    {
      "cell_type": "markdown",
      "metadata": {
        "id": "xmIvyvfPO9Pa"
      },
      "source": [
        "## SOAL 2 (Linear SVC)\n",
        "\n",
        "Implementasikan Linear SVC. Untuk soal ini gunakan library SVC dengan kernel linear dan LinearSVC kemudian bandingkan kedua library tersebut, sekalian lakukan hyperparameter tuning C untuk meningkatan akurasi model (Coba gunakan GridSearchCV).\n",
        "* C merupakan parameter penalty, yang merepresentasikan\n",
        "misklasifikasi atau error term. Misklasifikasi menjelaskan seberapa\n",
        "besar error yang dapat ditoleransi untuk optimisasi SVM. Parameter ini\n",
        "berkaitan dengan bagaimana kita mengontrol tradeoff antara\n",
        "penetapan decision boundary (hyperplane) dengan error term. \n",
        "\n",
        "Tampilkan nilai akurasi, presisi, recall, dan F1-Score dari hasil prediksi yang didapat.\n",
        "\n",
        "Hint: Coba [1, 10, 100,500, 1000] sebagai value C!"
      ]
    },
    {
      "cell_type": "markdown",
      "metadata": {
        "id": "GVJO6FnvTjAk"
      },
      "source": [
        "### SOAL 2a (SVC dengan kernel linear)"
      ]
    },
    {
      "cell_type": "code",
      "execution_count": 107,
      "metadata": {
        "id": "fV78bqPxUXcw"
      },
      "outputs": [],
      "source": [
        "# Implementasi Kode Disini\n",
        "from sklearn.svm import SVC\n",
        "from sklearn.model_selection import GridSearchCV\n",
        "\n",
        "svc = SVC()\n",
        "parameters = {'kernel': ['linear'], 'C': [1, 10, 100, 500, 1000]}\n",
        "clf = GridSearchCV(svc, parameters)\n",
        "clf.fit(x_train, y_train)\n",
        "y_pred_svc_linear = clf.predict(x_test)"
      ]
    },
    {
      "cell_type": "code",
      "source": [
        "from sklearn import metrics\n",
        "\n",
        "# Model Accuracy: how often is the classifier correct?\n",
        "print(\"Accuracy Classification:\", metrics.accuracy_score(y_test, y_pred_svc_linear))\n",
        "# Model Precision: what percentage of positive tuples are labeled as such?\n",
        "print(\"Precision Classification:\", metrics.precision_score(y_test, y_pred_svc_linear))\n",
        "# Model Recall: what percentage of positive tuples are labelled as such?\n",
        "print(\"Recall Classification:\", metrics.recall_score(y_test, y_pred_svc_linear))\n",
        "print(\"F1-Score Classification:\", metrics.f1_score(y_test, y_pred_svc_linear))"
      ],
      "metadata": {
        "colab": {
          "base_uri": "https://localhost:8080/"
        },
        "id": "KfEUiiWk9Lny",
        "outputId": "facbf42a-0bff-4a29-8e63-f4f1cbcf1e22"
      },
      "execution_count": 109,
      "outputs": [
        {
          "output_type": "stream",
          "name": "stdout",
          "text": [
            "Accuracy Classification: 0.9897456931911403\n",
            "Precision Classification: 0.9792186201163757\n",
            "Recall Classification: 1.0\n",
            "F1-Score Classification: 0.9895002099958001\n"
          ]
        }
      ]
    },
    {
      "cell_type": "markdown",
      "metadata": {
        "id": "_14YvNcKUcqw"
      },
      "source": [
        "### SOAL 2b (LinearSVC)"
      ]
    },
    {
      "cell_type": "code",
      "execution_count": 112,
      "metadata": {
        "id": "zp35Q4qKUbmi"
      },
      "outputs": [],
      "source": [
        "# Implementasi Kode Disini\n",
        "from sklearn.svm import LinearSVC\n",
        "\n",
        "linear_svc = LinearSVC(random_state = 169, tol = 1e-5, max_iter = 100000)\n",
        "linear_svc.fit(x_train, y_train)\n",
        "y_pred_linear_svc = linear_svc.predict(x_test)"
      ]
    },
    {
      "cell_type": "code",
      "source": [
        "from sklearn import metrics\n",
        "\n",
        "# Model Accuracy: how often is the classifier correct?\n",
        "print(\"Accuracy Classification:\", metrics.accuracy_score(y_test, y_pred_linear_svc))\n",
        "# Model Precision: what percentage of positive tuples are labeled as such?\n",
        "print(\"Precision Classification:\", metrics.precision_score(y_test, y_pred_linear_svc))\n",
        "# Model Recall: what percentage of positive tuples are labelled as such?\n",
        "print(\"Recall Classification:\", metrics.recall_score(y_test, y_pred_linear_svc))\n",
        "print(\"F1-Score Classification:\", metrics.f1_score(y_test, y_pred_linear_svc))"
      ],
      "metadata": {
        "colab": {
          "base_uri": "https://localhost:8080/"
        },
        "id": "ZiJxZ8ciBwu5",
        "outputId": "42d7e83a-897c-40e1-9829-fd32562d9bc7"
      },
      "execution_count": 113,
      "outputs": [
        {
          "output_type": "stream",
          "name": "stdout",
          "text": [
            "Accuracy Classification: 0.955701394585726\n",
            "Precision Classification: 0.9549319727891157\n",
            "Recall Classification: 0.9533106960950763\n",
            "F1-Score Classification: 0.9541206457094308\n"
          ]
        }
      ]
    },
    {
      "cell_type": "markdown",
      "metadata": {
        "id": "XvKIQxLFVWgO"
      },
      "source": [
        "### SOAL 2c\n",
        "\n",
        "Lakukan perbandingan terhadap hasil yang didapat pada soal nomor 2a dan 2b. Lakukan analisis terhadap kedua hasil tersebut dan tuliskan hasil analisis yang didapat.\n",
        "\n",
        "*Dari docs sklearn, sebenarnya keduanya mirip, tetapi yang membedakan adalah bagaimana kedua library tersebut meng-handle multi-class. Di LinearSVC(), menggunakan One-vs-All multiclass reduction, sementara SVC() menggunakan One-vs-One multiclass reduction.*\n"
      ]
    },
    {
      "cell_type": "code",
      "source": [
        "print(\"Accuracy Diff: \", abs(metrics.accuracy_score(y_test, y_pred_svc_linear) - metrics.accuracy_score(y_test, y_pred_linear_svc)))\n",
        "print(\"Precision Diff: \", abs(metrics.precision_score(y_test, y_pred_svc_linear) - metrics.precision_score(y_test, y_pred_linear_svc)))\n",
        "print(\"Recall Diff: \", abs(metrics.recall_score(y_test, y_pred_svc_linear) - metrics.recall_score(y_test, y_pred_linear_svc)))\n",
        "print(\"F1-Score Diff: \", abs(metrics.f1_score(y_test, y_pred_svc_linear) - metrics.f1_score(y_test, y_pred_linear_svc)))"
      ],
      "metadata": {
        "colab": {
          "base_uri": "https://localhost:8080/"
        },
        "id": "7UY7tFA1HPrr",
        "outputId": "69b63826-4eec-48d3-9656-eee375bf6f79"
      },
      "execution_count": 114,
      "outputs": [
        {
          "output_type": "stream",
          "name": "stdout",
          "text": [
            "Accuracy Diff:  0.03404429860541425\n",
            "Precision Diff:  0.024286647327260047\n",
            "Recall Diff:  0.04668930390492365\n",
            "F1-Score Diff:  0.03537956428636935\n"
          ]
        }
      ]
    },
    {
      "cell_type": "markdown",
      "source": [
        "Berdasarkan hasil yang saya dapat, keempat metric seperti akurasi, presisi, recall dan F1 score jauh lebih tinggi pada SVC(linear) ketimbang linearSVC. Hal ini dikarenakan pada SVC(linear) dilakukan optimisasi menggunakan GridSearchCV dengan berbagai macam jenis C. Sehingga hasil yang didapat dari SVC(linear) pun sudah cukup optimum ketimbang linearSVC.\n",
        "\n",
        "Namun berdasarkan penghitungan selisih nilai pada masing-masing metric menunjukkan perbedaan yang tidak begitu jauh. Sebagian besar selisih kurang dari .05. Yang mana hal ini cukup tolerable dan dapat dikatakan cukup baik performance untuk masing-masing algoritma."
      ],
      "metadata": {
        "id": "PLYsuiyepaaW"
      }
    },
    {
      "cell_type": "markdown",
      "metadata": {
        "id": "GhNFMnOWUu6Q"
      },
      "source": [
        "## SOAL 3 (Non-Linear SVC)\n",
        "\n",
        "Implementasikan Non-Linear SVC. Untuk soal ini gunakan library SVC dengan kernel poly, rbf, dan sigmoid kemudian bandingkan ketiga library tersebut, sekalian lakukan hyperparameter tuning C untuk meningkatan akurasi model (Coba gunakan GridSearchCV). \n",
        "\n",
        "Tampilkan nilai akurasi, presisi, recall, dan F1-Score dari hasil prediksi yang didapat."
      ]
    },
    {
      "cell_type": "markdown",
      "metadata": {
        "id": "puUP0JkhVwLv"
      },
      "source": [
        "### SOAL 3a (Poly)"
      ]
    },
    {
      "cell_type": "code",
      "execution_count": 127,
      "metadata": {
        "id": "Yk00Q0Cnwfss"
      },
      "outputs": [],
      "source": [
        "# Implementasi code di sini\n",
        "from sklearn.svm import SVC\n",
        "from sklearn.model_selection import GridSearchCV\n",
        "\n",
        "svc_poly = SVC()\n",
        "parameters = {'kernel': ['poly'], 'C': [1, 10, 100, 500, 1000]}\n",
        "clf_poly = GridSearchCV(svc_poly, parameters)\n",
        "clf_poly.fit(x_train, y_train)\n",
        "y_pred_svc_poly = clf_poly.predict(x_test)"
      ]
    },
    {
      "cell_type": "code",
      "source": [
        "from sklearn import metrics\n",
        "\n",
        "# Model Accuracy: how often is the classifier correct?\n",
        "print(\"Accuracy Classification:\", metrics.accuracy_score(y_test, y_pred_svc_poly))\n",
        "# Model Precision: what percentage of positive tuples are labeled as such?\n",
        "print(\"Precision Classification:\", metrics.precision_score(y_test, y_pred_svc_poly))\n",
        "# Model Recall: what percentage of positive tuples are labelled as such?\n",
        "print(\"Recall Classification:\", metrics.recall_score(y_test, y_pred_svc_poly))\n",
        "print(\"F1-Score Classification:\", metrics.f1_score(y_test, y_pred_svc_poly))"
      ],
      "metadata": {
        "id": "lK2A9sKmKiTr",
        "outputId": "f64f03ef-7a45-48f6-edef-659ea606aa5d",
        "colab": {
          "base_uri": "https://localhost:8080/"
        }
      },
      "execution_count": 128,
      "outputs": [
        {
          "output_type": "stream",
          "name": "stdout",
          "text": [
            "Accuracy Classification: 1.0\n",
            "Precision Classification: 1.0\n",
            "Recall Classification: 1.0\n",
            "F1-Score Classification: 1.0\n"
          ]
        }
      ]
    },
    {
      "cell_type": "markdown",
      "metadata": {
        "id": "9AjNvQ4_V2PU"
      },
      "source": [
        "### SOAL 3b (RBF)"
      ]
    },
    {
      "cell_type": "code",
      "execution_count": 129,
      "metadata": {
        "id": "gdH1z1oIV5Nn"
      },
      "outputs": [],
      "source": [
        "# Implementasi code di sini\n",
        "from sklearn.svm import SVC\n",
        "from sklearn.model_selection import GridSearchCV\n",
        "\n",
        "svc_rbf = SVC()\n",
        "parameters = {'kernel': ['rbf'], 'C': [1, 10, 100, 500, 1000]}\n",
        "clf_rbf = GridSearchCV(svc_rbf, parameters)\n",
        "clf_rbf.fit(x_train, y_train)\n",
        "y_pred_svc_rbf = clf_rbf.predict(x_test)"
      ]
    },
    {
      "cell_type": "code",
      "source": [
        "from sklearn import metrics\n",
        "\n",
        "# Model Accuracy: how often is the classifier correct?\n",
        "print(\"Accuracy Classification:\", metrics.accuracy_score(y_test, y_pred_svc_rbf))\n",
        "# Model Precision: what percentage of positive tuples are labeled as such?\n",
        "print(\"Precision Classification:\", metrics.precision_score(y_test, y_pred_svc_rbf))\n",
        "# Model Recall: what percentage of positive tuples are labelled as such?\n",
        "print(\"Recall Classification:\", metrics.recall_score(y_test, y_pred_svc_rbf))\n",
        "print(\"F1-Score Classification:\", metrics.f1_score(y_test, y_pred_svc_rbf))"
      ],
      "metadata": {
        "id": "Wpx4QSrBKuQf",
        "outputId": "7c1d8bd9-bd32-4687-c037-cb5b2a3f0b5b",
        "colab": {
          "base_uri": "https://localhost:8080/"
        }
      },
      "execution_count": 130,
      "outputs": [
        {
          "output_type": "stream",
          "name": "stdout",
          "text": [
            "Accuracy Classification: 1.0\n",
            "Precision Classification: 1.0\n",
            "Recall Classification: 1.0\n",
            "F1-Score Classification: 1.0\n"
          ]
        }
      ]
    },
    {
      "cell_type": "markdown",
      "metadata": {
        "id": "JEjQ8faYV7-3"
      },
      "source": [
        "### SOAL 3c (Sigmoid)"
      ]
    },
    {
      "cell_type": "code",
      "execution_count": 131,
      "metadata": {
        "id": "Ht0T3Q6fWA_H"
      },
      "outputs": [],
      "source": [
        "# Implementasi code di sini\n",
        "# Implementasi code di sini\n",
        "from sklearn.svm import SVC\n",
        "from sklearn.model_selection import GridSearchCV\n",
        "\n",
        "svc_sigmoid = SVC()\n",
        "parameters = {'kernel': ['sigmoid'], 'C': [1, 10, 100, 500, 1000]}\n",
        "clf_sigmoid = GridSearchCV(svc_sigmoid, parameters)\n",
        "clf_sigmoid.fit(x_train, y_train)\n",
        "y_pred_svc_sigmoid = clf_sigmoid.predict(x_test)"
      ]
    },
    {
      "cell_type": "code",
      "source": [
        "from sklearn import metrics\n",
        "\n",
        "# Model Accuracy: how often is the classifier correct?\n",
        "print(\"Accuracy Classification:\", metrics.accuracy_score(y_test, y_pred_svc_sigmoid))\n",
        "# Model Precision: what percentage of positive tuples are labeled as such?\n",
        "print(\"Precision Classification:\", metrics.precision_score(y_test, y_pred_svc_sigmoid))\n",
        "# Model Recall: what percentage of positive tuples are labelled as such?\n",
        "print(\"Recall Classification:\", metrics.recall_score(y_test, y_pred_svc_sigmoid))\n",
        "print(\"F1-Score Classification:\", metrics.f1_score(y_test, y_pred_svc_sigmoid))"
      ],
      "metadata": {
        "id": "wLkbQzzvLEPX",
        "outputId": "8df094f0-3fb4-4727-baa8-ea84b0237242",
        "colab": {
          "base_uri": "https://localhost:8080/"
        }
      },
      "execution_count": 132,
      "outputs": [
        {
          "output_type": "stream",
          "name": "stdout",
          "text": [
            "Accuracy Classification: 0.6780147662018048\n",
            "Precision Classification: 0.6686695278969957\n",
            "Recall Classification: 0.6612903225806451\n",
            "F1-Score Classification: 0.6649594536918481\n"
          ]
        }
      ]
    },
    {
      "cell_type": "markdown",
      "metadata": {
        "id": "VlcYvaCAYErR"
      },
      "source": [
        "### SOAL 3d\n",
        "\n",
        "Lakukan perbandingan terhadap hasil yang didapat pada soal nomor 3a, 3b dan 3c. Lakukan analisis terhadap ketiga hasil tersebut dan tuliskan hasil analisis yang didapat."
      ]
    },
    {
      "cell_type": "markdown",
      "source": [
        "Berdasarkan proses komputasi yang sudah saya lakukan, didapatkan hasil bahwa pada masing-masing metric SVC kernel poly menghasilkan hasil yang sama dengan SVC kernel RBF. Yakni sama-sama menghasilkan 1 untuk masing-masing metric akurasi, presisi, recall dan F1-score.\n",
        "\n",
        "Hasil yang berbeda ditampilkan oleh SVC kernel sigmoid. Metric akurasi, presisi, recall dan F1-Score masing-masing adalah .68, .67, .66, .66; Nilai ini jauh lebih rendah dibandingkan pada SVC kernel poly dan RBF.\n",
        "\n",
        "Berdasarkan hasil penelusuran yang saya lakukan, kernel sigmoid disini menggunakan model matematika yang sama dengan sigmoid function pada logistic regression. Yakni, K(X,Y) = tanh(γ⋅X'Y+r). Sebenarnya model matematis dari sigmoid mirip dengan polynomial, yakni K(X,Y) = (γ⋅X'Y+r)^d, γ > 0. Yang membedakan hanyalah penggunaan hyperbolic tan function pada sigmoid dan penggunaan pangkat degree pada polynomial."
      ],
      "metadata": {
        "id": "bKrKWIh8pKtt"
      }
    },
    {
      "cell_type": "markdown",
      "metadata": {
        "id": "yIBXjXwAHiyl"
      },
      "source": [
        "## SOAL 4 (SVR)\n",
        "\n",
        "Explore sendiri tentang SVR dan jawab pertanyaan di bawah ini:\n",
        "\n",
        "\n",
        "1.   Apakah ada perbedaan LinearSVR dengan SVR(kernel = 'linear')? Jelaskan.\n",
        "2.   Dari masing-masing kernel SVR, jelaskan kapan data cocok dengan kernel linear atau polynomial.\n",
        "3. Jelaskan pengaruh parameter epsilon dan C dalam SVR.\n",
        "\n",
        "\n",
        "\n"
      ]
    },
    {
      "cell_type": "code",
      "source": [
        ""
      ],
      "metadata": {
        "id": "BeR2hrG8dIlv"
      },
      "execution_count": null,
      "outputs": []
    }
  ],
  "metadata": {
    "colab": {
      "collapsed_sections": [],
      "name": "Lab6_SVM - Soal.ipynb",
      "provenance": [],
      "toc_visible": true
    },
    "kernelspec": {
      "display_name": "Python 3 (ipykernel)",
      "language": "python",
      "name": "python3"
    },
    "language_info": {
      "codemirror_mode": {
        "name": "ipython",
        "version": 3
      },
      "file_extension": ".py",
      "mimetype": "text/x-python",
      "name": "python",
      "nbconvert_exporter": "python",
      "pygments_lexer": "ipython3",
      "version": "3.7.0"
    }
  },
  "nbformat": 4,
  "nbformat_minor": 0
}