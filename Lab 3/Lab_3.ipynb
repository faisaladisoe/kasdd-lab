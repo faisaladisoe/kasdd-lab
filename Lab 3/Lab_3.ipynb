{
  "nbformat": 4,
  "nbformat_minor": 0,
  "metadata": {
    "colab": {
      "name": "Lab_3.ipynb",
      "provenance": [],
      "collapsed_sections": [],
      "toc_visible": true
    },
    "kernelspec": {
      "display_name": "Python 3",
      "language": "python",
      "name": "python3"
    },
    "language_info": {
      "codemirror_mode": {
        "name": "ipython",
        "version": 3
      },
      "file_extension": ".py",
      "mimetype": "text/x-python",
      "name": "python",
      "nbconvert_exporter": "python",
      "pygments_lexer": "ipython3",
      "version": "3.8.1"
    }
  },
  "cells": [
    {
      "cell_type": "markdown",
      "metadata": {
        "id": "TKTOBclz75se"
      },
      "source": [
        "<center>\n",
        "<img src=\"https://drive.google.com/uc?id=1f1gGVI-rxcHjA90WEGNvvtSXF1pAxQwg\" alt=\"Fasilkom UI\" width=\"300\"/>\n",
        "\n",
        "CSGE603130 • Kecerdasan Artifisial dan Sains Data Dasar\n",
        "\n",
        "Semester Genap 2021/2022\n",
        "\n",
        "Fakultas Ilmu Komputer, Universitas Indonesia\n",
        "\n",
        "##**Lab 3: *Data Preparation***\n",
        "\n",
        "###**Tenggat Waktu: 06 Maret 2022, 23.55 WIB**\n",
        "</center>\n",
        "\n",
        "####**Ketentuan:**\n",
        "\n",
        "1. Dokumen template lab dengan format .ipynb dan dataset (jika dibutuhkan) telah disediakan di SCeLe\n",
        "2. Jalankan kode pada dokumen .ipynb dan perhatikan dengan saksama apa yang potongan kode tersebut lakukan beserta dengan keluarannya. Jawablah **pertanyaan yang disisipkan** pada potongan program yang diberikan.\n",
        "3. Dokumen Jupyter Notebook yang telah dilengkapi dengan jawaban dikumpulkan dengan format penamaan **Kelas_Lab3_NPM_Nama.ipynb**. Contoh: F_Lab3_1806205773_Abdurrafi Arief.ipynb\n",
        "4. Kumpulkan dokumen tersebut pada submisi yang telah disediakan di SCeLe sesuai dengan kelas masing-masing sebelum **06 Maret 2022, 23.55 WIB**. Keterlambatan pengumpulan akan dikenakan penalti.\n",
        "5. Praktikum ini dirancang sebagai **tugas mandiri**. Plagiarisme tidak diperkenankan dalam bentuk apapun. Adapun kolaborasi berupa diskusi (tanpa menyalin maupun mengambil jawaban orang lain) dan literasi masih diperbolehkan dengan mencantumkan kolaborator dan sumber.\n"
      ]
    },
    {
      "cell_type": "markdown",
      "metadata": {
        "id": "HloCaoZB8Hdr"
      },
      "source": [
        "## **Pernyataan Integritas**\n",
        "\n",
        "Wajib diisi. Tanpa pernyataan integritas submisi akan dikenakan pinalti."
      ]
    },
    {
      "cell_type": "code",
      "metadata": {
        "id": "hFvDp8qSz-RU"
      },
      "source": [
        "# Isi dengan data diri Anda\n",
        "NAMA = \"Muhammad Faisal Adi Soesatyo\"\n",
        "KELAS = \"B\"\n",
        "NPM = \"1906293184\"\n",
        "\n",
        "# Isi dengan NPM teman yang berdiskusi dengan Anda\n",
        "KOLABORATOR = []\n",
        "\n",
        "# Isi dengan sumber referensi yang Anda gunakan dalam mengerjakan\n",
        "REFERENSI = [\n",
        "  \"https://pandas.pydata.org/docs/reference/api/pandas.DataFrame.duplicated.html\",\n",
        "  \"https://pandas.pydata.org/docs/reference/api/pandas.DataFrame.drop_duplicates.html#pandas.DataFrame.drop_duplicates\",\n",
        "  \"https://medium.datadriveninvestor.com/finding-outliers-in-dataset-using-python-efc3fce6ce32\",\n",
        "  \"https://stackoverflow.com/questions/39068214/how-to-count-outliers-for-all-columns-in-python\",\n",
        "  \"https://www.kite.com/python/answers/how-to-drop-empty-rows-from-a-pandas-dataframe-in-python#:~:text=Use%20df.,contain%20NaN%20under%20those%20columns.\",\n",
        "  \"https://pandas.pydata.org/docs/reference/api/pandas.DataFrame.replace.html\",\n",
        "  \"https://www.analyticsvidhya.com/blog/2020/04/feature-scaling-machine-learning-normalization-standardization/#:~:text=Normalization%20is%20good%20to%20use,Nearest%20Neighbors%20and%20Neural%20Networks.\",\n",
        "  \n",
        "]"
      ],
      "execution_count": 139,
      "outputs": []
    },
    {
      "cell_type": "code",
      "metadata": {
        "colab": {
          "base_uri": "https://localhost:8080/"
        },
        "id": "y-k0CCamOkcZ",
        "outputId": "4ef45ceb-16eb-464e-ccee-71bd0494ee9b"
      },
      "source": [
        "PERNYATAAN_INTEGRITAS = \"Saya, %s dari kelas %s dengan NPM %s, menyatakan bahwa seluruh jawaban pada pekerjaan ini murni saya kerjakan sendiri.\\n\\\n",
        "Saya tidak mencontek jawaban, memberikan jawaban, maupun menyalin dari sumber manapun.\\n \\\n",
        "\\n\\\n",
        "Jika saya melanggar pernyataan tersebut, saya siap menerima konsekuensi apapun yang diberikan.\\n   \\\n",
        "(%s)\" % (NAMA, KELAS, NPM, NAMA)\n",
        "\n",
        "print(PERNYATAAN_INTEGRITAS)"
      ],
      "execution_count": 140,
      "outputs": [
        {
          "output_type": "stream",
          "name": "stdout",
          "text": [
            "Saya, Muhammad Faisal Adi Soesatyo dari kelas B dengan NPM 1906293184, menyatakan bahwa seluruh jawaban pada pekerjaan ini murni saya kerjakan sendiri.\n",
            "Saya tidak mencontek jawaban, memberikan jawaban, maupun menyalin dari sumber manapun.\n",
            " \n",
            "Jika saya melanggar pernyataan tersebut, saya siap menerima konsekuensi apapun yang diberikan.\n",
            "   (Muhammad Faisal Adi Soesatyo)\n"
          ]
        }
      ]
    },
    {
      "cell_type": "markdown",
      "metadata": {
        "id": "b-rPY0F5Vevh"
      },
      "source": [
        "## **Preprocessing pada Melbourne Housing Dataset**\n",
        "\n",
        "Sumber: https://www.kaggle.com/anthonypino/melbourne-housing-market dengan beberapa perubahan\n"
      ]
    },
    {
      "cell_type": "markdown",
      "metadata": {
        "id": "ThEcWldxOVFe"
      },
      "source": [
        "### Import Library dan Data"
      ]
    },
    {
      "cell_type": "code",
      "metadata": {
        "id": "o0LtLOPfOVFl"
      },
      "source": [
        "import pandas as pd\n",
        "import numpy as np\n",
        "\n",
        "import matplotlib.pyplot as plt\n",
        "import seaborn as sns\n",
        "import scipy.stats as scp\n",
        "\n",
        "from sklearn.preprocessing import LabelEncoder, Normalizer, StandardScaler"
      ],
      "execution_count": 141,
      "outputs": []
    },
    {
      "cell_type": "code",
      "source": [
        "housing1 = pd.read_csv('data_melbourne_housing.csv')"
      ],
      "metadata": {
        "id": "RPyectEaDKcH"
      },
      "execution_count": 142,
      "outputs": []
    },
    {
      "cell_type": "code",
      "metadata": {
        "colab": {
          "base_uri": "https://localhost:8080/"
        },
        "id": "fHeTQl_1OVFp",
        "outputId": "15ff6541-bdad-463b-ad74-599d2d42f921"
      },
      "source": [
        "# Mencetak dimensi data\n",
        "print(\"data: \", housing1.shape)"
      ],
      "execution_count": 143,
      "outputs": [
        {
          "output_type": "stream",
          "name": "stdout",
          "text": [
            "data:  (34857, 21)\n"
          ]
        }
      ]
    },
    {
      "cell_type": "code",
      "metadata": {
        "colab": {
          "base_uri": "https://localhost:8080/"
        },
        "id": "TLc6noNLOVFr",
        "outputId": "1085f8a1-7970-4a20-d8a2-57a5d42f90b8"
      },
      "source": [
        "# Membaca kolom-kolom pada DataFrame\n",
        "housing1.info()"
      ],
      "execution_count": 144,
      "outputs": [
        {
          "output_type": "stream",
          "name": "stdout",
          "text": [
            "<class 'pandas.core.frame.DataFrame'>\n",
            "RangeIndex: 34857 entries, 0 to 34856\n",
            "Data columns (total 21 columns):\n",
            " #   Column         Non-Null Count  Dtype  \n",
            "---  ------         --------------  -----  \n",
            " 0   Suburb         34857 non-null  object \n",
            " 1   Address        34857 non-null  object \n",
            " 2   Rooms          34857 non-null  int64  \n",
            " 3   Type           34857 non-null  object \n",
            " 4   Price          27247 non-null  float64\n",
            " 5   Method         34857 non-null  object \n",
            " 6   SellerG        34857 non-null  object \n",
            " 7   Date           34857 non-null  object \n",
            " 8   Distance       34856 non-null  float64\n",
            " 9   Postcode       34856 non-null  float64\n",
            " 10  Bedroom2       26640 non-null  float64\n",
            " 11  Bathroom       26631 non-null  float64\n",
            " 12  Car            26129 non-null  float64\n",
            " 13  Landsize       23047 non-null  float64\n",
            " 14  BuildingArea   13742 non-null  float64\n",
            " 15  YearBuilt      15551 non-null  float64\n",
            " 16  CouncilArea    34854 non-null  object \n",
            " 17  Lattitude      26881 non-null  float64\n",
            " 18  Longtitude     26881 non-null  float64\n",
            " 19  Regionname     34854 non-null  object \n",
            " 20  Propertycount  34854 non-null  float64\n",
            "dtypes: float64(12), int64(1), object(8)\n",
            "memory usage: 5.6+ MB\n"
          ]
        }
      ]
    },
    {
      "cell_type": "markdown",
      "metadata": {
        "id": "j9pb-VsmOVFs"
      },
      "source": [
        "### **Variable Descriptions:**\n",
        "\n",
        "`Suburb`:          Name of suburb area\n",
        "\n",
        "`Address`:        Address\n",
        "\n",
        "`Rooms`:           Number of rooms\n",
        "\n",
        "`Type`:             Housing Type (h=House, u=Unit, t=Townhouse)\n",
        "\n",
        "`Price`:             Price\n",
        "\n",
        "`Method`:           Method sold. \n",
        "\n",
        "(S - property sold;\n",
        "\n",
        "SP - property sold prior;\n",
        "\n",
        "PI - property passed in;\n",
        "\n",
        "PN - sold prior not disclosed;\n",
        "\n",
        "SN - sold not disclosed;\n",
        "\n",
        "NB - no bid;\n",
        "\n",
        "VB - vendor bid;\n",
        "\n",
        "W - withdrawn prior to auction;\n",
        "\n",
        "SA - sold after auction;\n",
        "\n",
        "SS - sold after auction price not disclosed.\n",
        "\n",
        "N/A - price or highest bid not available.)\n",
        "\n",
        "\n",
        "\n",
        "`SellerG`:           The sellers name\n",
        "\n",
        "`Date`:          Date sold\n",
        "\n",
        "`Postcode`:            Postcode\n",
        "\n",
        "`Bedroom2`: Scraped # of Bedrooms (from different source)\n",
        "\n",
        "`Bathroom`: Number of bathrooms\n",
        "\n",
        "`Car`: Number of carspots\n",
        "\n",
        "`Landsize`: Land size in meters\n",
        "\n",
        "`BuildingArea`: Area of building in meters\n",
        "\n",
        "`YearBuilt`: Year the house was built\n",
        "\n",
        "`CouncilArea`:            Area of council\n",
        "\n",
        "`Lattitude`: Lattitude\n",
        "\n",
        "`Longitude`: Longitude\n",
        "\n",
        "`Regionname`:           Name of region\n",
        "\n",
        "`Propertycount`:        Number of properties that exist in the suburb.\n",
        "\n",
        "`Distance`:            Distance from CBD in Kilometres\n",
        "\n",
        "\n"
      ]
    },
    {
      "cell_type": "code",
      "metadata": {
        "colab": {
          "base_uri": "https://localhost:8080/",
          "height": 374
        },
        "id": "nJaxL3fNOVFu",
        "outputId": "027772c0-6f5e-4b90-e685-77d982d98b48"
      },
      "source": [
        "housing1.head()"
      ],
      "execution_count": 145,
      "outputs": [
        {
          "output_type": "execute_result",
          "data": {
            "text/html": [
              "\n",
              "  <div id=\"df-0e40c57e-56cf-47f6-8765-0f437ee967d7\">\n",
              "    <div class=\"colab-df-container\">\n",
              "      <div>\n",
              "<style scoped>\n",
              "    .dataframe tbody tr th:only-of-type {\n",
              "        vertical-align: middle;\n",
              "    }\n",
              "\n",
              "    .dataframe tbody tr th {\n",
              "        vertical-align: top;\n",
              "    }\n",
              "\n",
              "    .dataframe thead th {\n",
              "        text-align: right;\n",
              "    }\n",
              "</style>\n",
              "<table border=\"1\" class=\"dataframe\">\n",
              "  <thead>\n",
              "    <tr style=\"text-align: right;\">\n",
              "      <th></th>\n",
              "      <th>Suburb</th>\n",
              "      <th>Address</th>\n",
              "      <th>Rooms</th>\n",
              "      <th>Type</th>\n",
              "      <th>Price</th>\n",
              "      <th>Method</th>\n",
              "      <th>SellerG</th>\n",
              "      <th>Date</th>\n",
              "      <th>Distance</th>\n",
              "      <th>Postcode</th>\n",
              "      <th>Bedroom2</th>\n",
              "      <th>Bathroom</th>\n",
              "      <th>Car</th>\n",
              "      <th>Landsize</th>\n",
              "      <th>BuildingArea</th>\n",
              "      <th>YearBuilt</th>\n",
              "      <th>CouncilArea</th>\n",
              "      <th>Lattitude</th>\n",
              "      <th>Longtitude</th>\n",
              "      <th>Regionname</th>\n",
              "      <th>Propertycount</th>\n",
              "    </tr>\n",
              "  </thead>\n",
              "  <tbody>\n",
              "    <tr>\n",
              "      <th>0</th>\n",
              "      <td>Abbotsford</td>\n",
              "      <td>68 Studley St</td>\n",
              "      <td>2</td>\n",
              "      <td>h</td>\n",
              "      <td>NaN</td>\n",
              "      <td>SS</td>\n",
              "      <td>Jellis</td>\n",
              "      <td>3/09/2016</td>\n",
              "      <td>2.5</td>\n",
              "      <td>3067.0</td>\n",
              "      <td>2.0</td>\n",
              "      <td>1.0</td>\n",
              "      <td>1.0</td>\n",
              "      <td>126.0</td>\n",
              "      <td>NaN</td>\n",
              "      <td>NaN</td>\n",
              "      <td>Yarra City Council</td>\n",
              "      <td>-37.8014</td>\n",
              "      <td>144.9958</td>\n",
              "      <td>Northern Metropolitan</td>\n",
              "      <td>4019.0</td>\n",
              "    </tr>\n",
              "    <tr>\n",
              "      <th>1</th>\n",
              "      <td>Abbotsford</td>\n",
              "      <td>85 Turner St</td>\n",
              "      <td>2</td>\n",
              "      <td>h</td>\n",
              "      <td>1480000.0</td>\n",
              "      <td>S</td>\n",
              "      <td>Biggin</td>\n",
              "      <td>3/12/2016</td>\n",
              "      <td>2.5</td>\n",
              "      <td>3067.0</td>\n",
              "      <td>2.0</td>\n",
              "      <td>1.0</td>\n",
              "      <td>1.0</td>\n",
              "      <td>202.0</td>\n",
              "      <td>NaN</td>\n",
              "      <td>NaN</td>\n",
              "      <td>Yarra City Council</td>\n",
              "      <td>-37.7996</td>\n",
              "      <td>144.9984</td>\n",
              "      <td>Northern Metropolitan</td>\n",
              "      <td>4019.0</td>\n",
              "    </tr>\n",
              "    <tr>\n",
              "      <th>2</th>\n",
              "      <td>Abbotsford</td>\n",
              "      <td>25 Bloomburg St</td>\n",
              "      <td>2</td>\n",
              "      <td>h</td>\n",
              "      <td>1035000.0</td>\n",
              "      <td>S</td>\n",
              "      <td>Biggin</td>\n",
              "      <td>4/02/2016</td>\n",
              "      <td>2.5</td>\n",
              "      <td>3067.0</td>\n",
              "      <td>2.0</td>\n",
              "      <td>1.0</td>\n",
              "      <td>0.0</td>\n",
              "      <td>156.0</td>\n",
              "      <td>79.0</td>\n",
              "      <td>1900.0</td>\n",
              "      <td>Yarra City Council</td>\n",
              "      <td>-37.8079</td>\n",
              "      <td>144.9934</td>\n",
              "      <td>Northern Metropolitan</td>\n",
              "      <td>4019.0</td>\n",
              "    </tr>\n",
              "    <tr>\n",
              "      <th>3</th>\n",
              "      <td>Abbotsford</td>\n",
              "      <td>18/659 Victoria St</td>\n",
              "      <td>3</td>\n",
              "      <td>u</td>\n",
              "      <td>NaN</td>\n",
              "      <td>VB</td>\n",
              "      <td>Rounds</td>\n",
              "      <td>4/02/2016</td>\n",
              "      <td>2.5</td>\n",
              "      <td>3067.0</td>\n",
              "      <td>3.0</td>\n",
              "      <td>2.0</td>\n",
              "      <td>1.0</td>\n",
              "      <td>0.0</td>\n",
              "      <td>NaN</td>\n",
              "      <td>NaN</td>\n",
              "      <td>Yarra City Council</td>\n",
              "      <td>-37.8114</td>\n",
              "      <td>145.0116</td>\n",
              "      <td>Northern Metropolitan</td>\n",
              "      <td>4019.0</td>\n",
              "    </tr>\n",
              "    <tr>\n",
              "      <th>4</th>\n",
              "      <td>Abbotsford</td>\n",
              "      <td>5 Charles St</td>\n",
              "      <td>3</td>\n",
              "      <td>h</td>\n",
              "      <td>1465000.0</td>\n",
              "      <td>SP</td>\n",
              "      <td>Biggin</td>\n",
              "      <td>4/03/2017</td>\n",
              "      <td>2.5</td>\n",
              "      <td>3067.0</td>\n",
              "      <td>3.0</td>\n",
              "      <td>2.0</td>\n",
              "      <td>0.0</td>\n",
              "      <td>134.0</td>\n",
              "      <td>150.0</td>\n",
              "      <td>1900.0</td>\n",
              "      <td>Yarra City Council</td>\n",
              "      <td>-37.8093</td>\n",
              "      <td>144.9944</td>\n",
              "      <td>Northern Metropolitan</td>\n",
              "      <td>4019.0</td>\n",
              "    </tr>\n",
              "  </tbody>\n",
              "</table>\n",
              "</div>\n",
              "      <button class=\"colab-df-convert\" onclick=\"convertToInteractive('df-0e40c57e-56cf-47f6-8765-0f437ee967d7')\"\n",
              "              title=\"Convert this dataframe to an interactive table.\"\n",
              "              style=\"display:none;\">\n",
              "        \n",
              "  <svg xmlns=\"http://www.w3.org/2000/svg\" height=\"24px\"viewBox=\"0 0 24 24\"\n",
              "       width=\"24px\">\n",
              "    <path d=\"M0 0h24v24H0V0z\" fill=\"none\"/>\n",
              "    <path d=\"M18.56 5.44l.94 2.06.94-2.06 2.06-.94-2.06-.94-.94-2.06-.94 2.06-2.06.94zm-11 1L8.5 8.5l.94-2.06 2.06-.94-2.06-.94L8.5 2.5l-.94 2.06-2.06.94zm10 10l.94 2.06.94-2.06 2.06-.94-2.06-.94-.94-2.06-.94 2.06-2.06.94z\"/><path d=\"M17.41 7.96l-1.37-1.37c-.4-.4-.92-.59-1.43-.59-.52 0-1.04.2-1.43.59L10.3 9.45l-7.72 7.72c-.78.78-.78 2.05 0 2.83L4 21.41c.39.39.9.59 1.41.59.51 0 1.02-.2 1.41-.59l7.78-7.78 2.81-2.81c.8-.78.8-2.07 0-2.86zM5.41 20L4 18.59l7.72-7.72 1.47 1.35L5.41 20z\"/>\n",
              "  </svg>\n",
              "      </button>\n",
              "      \n",
              "  <style>\n",
              "    .colab-df-container {\n",
              "      display:flex;\n",
              "      flex-wrap:wrap;\n",
              "      gap: 12px;\n",
              "    }\n",
              "\n",
              "    .colab-df-convert {\n",
              "      background-color: #E8F0FE;\n",
              "      border: none;\n",
              "      border-radius: 50%;\n",
              "      cursor: pointer;\n",
              "      display: none;\n",
              "      fill: #1967D2;\n",
              "      height: 32px;\n",
              "      padding: 0 0 0 0;\n",
              "      width: 32px;\n",
              "    }\n",
              "\n",
              "    .colab-df-convert:hover {\n",
              "      background-color: #E2EBFA;\n",
              "      box-shadow: 0px 1px 2px rgba(60, 64, 67, 0.3), 0px 1px 3px 1px rgba(60, 64, 67, 0.15);\n",
              "      fill: #174EA6;\n",
              "    }\n",
              "\n",
              "    [theme=dark] .colab-df-convert {\n",
              "      background-color: #3B4455;\n",
              "      fill: #D2E3FC;\n",
              "    }\n",
              "\n",
              "    [theme=dark] .colab-df-convert:hover {\n",
              "      background-color: #434B5C;\n",
              "      box-shadow: 0px 1px 3px 1px rgba(0, 0, 0, 0.15);\n",
              "      filter: drop-shadow(0px 1px 2px rgba(0, 0, 0, 0.3));\n",
              "      fill: #FFFFFF;\n",
              "    }\n",
              "  </style>\n",
              "\n",
              "      <script>\n",
              "        const buttonEl =\n",
              "          document.querySelector('#df-0e40c57e-56cf-47f6-8765-0f437ee967d7 button.colab-df-convert');\n",
              "        buttonEl.style.display =\n",
              "          google.colab.kernel.accessAllowed ? 'block' : 'none';\n",
              "\n",
              "        async function convertToInteractive(key) {\n",
              "          const element = document.querySelector('#df-0e40c57e-56cf-47f6-8765-0f437ee967d7');\n",
              "          const dataTable =\n",
              "            await google.colab.kernel.invokeFunction('convertToInteractive',\n",
              "                                                     [key], {});\n",
              "          if (!dataTable) return;\n",
              "\n",
              "          const docLinkHtml = 'Like what you see? Visit the ' +\n",
              "            '<a target=\"_blank\" href=https://colab.research.google.com/notebooks/data_table.ipynb>data table notebook</a>'\n",
              "            + ' to learn more about interactive tables.';\n",
              "          element.innerHTML = '';\n",
              "          dataTable['output_type'] = 'display_data';\n",
              "          await google.colab.output.renderOutput(dataTable, element);\n",
              "          const docLink = document.createElement('div');\n",
              "          docLink.innerHTML = docLinkHtml;\n",
              "          element.appendChild(docLink);\n",
              "        }\n",
              "      </script>\n",
              "    </div>\n",
              "  </div>\n",
              "  "
            ],
            "text/plain": [
              "       Suburb             Address  ...             Regionname Propertycount\n",
              "0  Abbotsford       68 Studley St  ...  Northern Metropolitan        4019.0\n",
              "1  Abbotsford        85 Turner St  ...  Northern Metropolitan        4019.0\n",
              "2  Abbotsford     25 Bloomburg St  ...  Northern Metropolitan        4019.0\n",
              "3  Abbotsford  18/659 Victoria St  ...  Northern Metropolitan        4019.0\n",
              "4  Abbotsford        5 Charles St  ...  Northern Metropolitan        4019.0\n",
              "\n",
              "[5 rows x 21 columns]"
            ]
          },
          "metadata": {},
          "execution_count": 145
        }
      ]
    },
    {
      "cell_type": "markdown",
      "metadata": {
        "id": "svLumBnvOVFv"
      },
      "source": [
        "### Basic Summary Statistic"
      ]
    },
    {
      "cell_type": "code",
      "metadata": {
        "colab": {
          "base_uri": "https://localhost:8080/",
          "height": 364
        },
        "id": "RdUnkeRvOVFv",
        "outputId": "8a79a8ec-b668-4b26-c0e1-ac8457c1fa12"
      },
      "source": [
        "housing1.describe()"
      ],
      "execution_count": 146,
      "outputs": [
        {
          "output_type": "execute_result",
          "data": {
            "text/html": [
              "\n",
              "  <div id=\"df-1954a0a2-e0cd-4d60-9934-cd63993bd580\">\n",
              "    <div class=\"colab-df-container\">\n",
              "      <div>\n",
              "<style scoped>\n",
              "    .dataframe tbody tr th:only-of-type {\n",
              "        vertical-align: middle;\n",
              "    }\n",
              "\n",
              "    .dataframe tbody tr th {\n",
              "        vertical-align: top;\n",
              "    }\n",
              "\n",
              "    .dataframe thead th {\n",
              "        text-align: right;\n",
              "    }\n",
              "</style>\n",
              "<table border=\"1\" class=\"dataframe\">\n",
              "  <thead>\n",
              "    <tr style=\"text-align: right;\">\n",
              "      <th></th>\n",
              "      <th>Rooms</th>\n",
              "      <th>Price</th>\n",
              "      <th>Distance</th>\n",
              "      <th>Postcode</th>\n",
              "      <th>Bedroom2</th>\n",
              "      <th>Bathroom</th>\n",
              "      <th>Car</th>\n",
              "      <th>Landsize</th>\n",
              "      <th>BuildingArea</th>\n",
              "      <th>YearBuilt</th>\n",
              "      <th>Lattitude</th>\n",
              "      <th>Longtitude</th>\n",
              "      <th>Propertycount</th>\n",
              "    </tr>\n",
              "  </thead>\n",
              "  <tbody>\n",
              "    <tr>\n",
              "      <th>count</th>\n",
              "      <td>34857.000000</td>\n",
              "      <td>2.724700e+04</td>\n",
              "      <td>34856.000000</td>\n",
              "      <td>34856.000000</td>\n",
              "      <td>26640.000000</td>\n",
              "      <td>26631.000000</td>\n",
              "      <td>26129.000000</td>\n",
              "      <td>23047.000000</td>\n",
              "      <td>13742.00000</td>\n",
              "      <td>15551.000000</td>\n",
              "      <td>26881.000000</td>\n",
              "      <td>26881.000000</td>\n",
              "      <td>34854.000000</td>\n",
              "    </tr>\n",
              "    <tr>\n",
              "      <th>mean</th>\n",
              "      <td>3.031012</td>\n",
              "      <td>1.050173e+06</td>\n",
              "      <td>11.184929</td>\n",
              "      <td>3116.062859</td>\n",
              "      <td>3.084647</td>\n",
              "      <td>1.624798</td>\n",
              "      <td>1.728845</td>\n",
              "      <td>593.598993</td>\n",
              "      <td>160.25640</td>\n",
              "      <td>1965.289885</td>\n",
              "      <td>-37.810634</td>\n",
              "      <td>145.001851</td>\n",
              "      <td>7572.888306</td>\n",
              "    </tr>\n",
              "    <tr>\n",
              "      <th>std</th>\n",
              "      <td>0.969933</td>\n",
              "      <td>6.414671e+05</td>\n",
              "      <td>6.788892</td>\n",
              "      <td>109.023903</td>\n",
              "      <td>0.980690</td>\n",
              "      <td>0.724212</td>\n",
              "      <td>1.010771</td>\n",
              "      <td>3398.841946</td>\n",
              "      <td>401.26706</td>\n",
              "      <td>37.328178</td>\n",
              "      <td>0.090279</td>\n",
              "      <td>0.120169</td>\n",
              "      <td>4428.090313</td>\n",
              "    </tr>\n",
              "    <tr>\n",
              "      <th>min</th>\n",
              "      <td>1.000000</td>\n",
              "      <td>8.500000e+04</td>\n",
              "      <td>0.000000</td>\n",
              "      <td>3000.000000</td>\n",
              "      <td>0.000000</td>\n",
              "      <td>0.000000</td>\n",
              "      <td>0.000000</td>\n",
              "      <td>0.000000</td>\n",
              "      <td>0.00000</td>\n",
              "      <td>1196.000000</td>\n",
              "      <td>-38.190430</td>\n",
              "      <td>144.423790</td>\n",
              "      <td>83.000000</td>\n",
              "    </tr>\n",
              "    <tr>\n",
              "      <th>25%</th>\n",
              "      <td>2.000000</td>\n",
              "      <td>6.350000e+05</td>\n",
              "      <td>6.400000</td>\n",
              "      <td>3051.000000</td>\n",
              "      <td>2.000000</td>\n",
              "      <td>1.000000</td>\n",
              "      <td>1.000000</td>\n",
              "      <td>224.000000</td>\n",
              "      <td>102.00000</td>\n",
              "      <td>1940.000000</td>\n",
              "      <td>-37.862950</td>\n",
              "      <td>144.933500</td>\n",
              "      <td>4385.000000</td>\n",
              "    </tr>\n",
              "    <tr>\n",
              "      <th>50%</th>\n",
              "      <td>3.000000</td>\n",
              "      <td>8.700000e+05</td>\n",
              "      <td>10.300000</td>\n",
              "      <td>3103.000000</td>\n",
              "      <td>3.000000</td>\n",
              "      <td>2.000000</td>\n",
              "      <td>2.000000</td>\n",
              "      <td>521.000000</td>\n",
              "      <td>136.00000</td>\n",
              "      <td>1970.000000</td>\n",
              "      <td>-37.807600</td>\n",
              "      <td>145.007800</td>\n",
              "      <td>6763.000000</td>\n",
              "    </tr>\n",
              "    <tr>\n",
              "      <th>75%</th>\n",
              "      <td>4.000000</td>\n",
              "      <td>1.295000e+06</td>\n",
              "      <td>14.000000</td>\n",
              "      <td>3156.000000</td>\n",
              "      <td>4.000000</td>\n",
              "      <td>2.000000</td>\n",
              "      <td>2.000000</td>\n",
              "      <td>670.000000</td>\n",
              "      <td>188.00000</td>\n",
              "      <td>2000.000000</td>\n",
              "      <td>-37.754100</td>\n",
              "      <td>145.071900</td>\n",
              "      <td>10412.000000</td>\n",
              "    </tr>\n",
              "    <tr>\n",
              "      <th>max</th>\n",
              "      <td>16.000000</td>\n",
              "      <td>1.120000e+07</td>\n",
              "      <td>48.100000</td>\n",
              "      <td>3978.000000</td>\n",
              "      <td>30.000000</td>\n",
              "      <td>12.000000</td>\n",
              "      <td>26.000000</td>\n",
              "      <td>433014.000000</td>\n",
              "      <td>44515.00000</td>\n",
              "      <td>2106.000000</td>\n",
              "      <td>-37.390200</td>\n",
              "      <td>145.526350</td>\n",
              "      <td>21650.000000</td>\n",
              "    </tr>\n",
              "  </tbody>\n",
              "</table>\n",
              "</div>\n",
              "      <button class=\"colab-df-convert\" onclick=\"convertToInteractive('df-1954a0a2-e0cd-4d60-9934-cd63993bd580')\"\n",
              "              title=\"Convert this dataframe to an interactive table.\"\n",
              "              style=\"display:none;\">\n",
              "        \n",
              "  <svg xmlns=\"http://www.w3.org/2000/svg\" height=\"24px\"viewBox=\"0 0 24 24\"\n",
              "       width=\"24px\">\n",
              "    <path d=\"M0 0h24v24H0V0z\" fill=\"none\"/>\n",
              "    <path d=\"M18.56 5.44l.94 2.06.94-2.06 2.06-.94-2.06-.94-.94-2.06-.94 2.06-2.06.94zm-11 1L8.5 8.5l.94-2.06 2.06-.94-2.06-.94L8.5 2.5l-.94 2.06-2.06.94zm10 10l.94 2.06.94-2.06 2.06-.94-2.06-.94-.94-2.06-.94 2.06-2.06.94z\"/><path d=\"M17.41 7.96l-1.37-1.37c-.4-.4-.92-.59-1.43-.59-.52 0-1.04.2-1.43.59L10.3 9.45l-7.72 7.72c-.78.78-.78 2.05 0 2.83L4 21.41c.39.39.9.59 1.41.59.51 0 1.02-.2 1.41-.59l7.78-7.78 2.81-2.81c.8-.78.8-2.07 0-2.86zM5.41 20L4 18.59l7.72-7.72 1.47 1.35L5.41 20z\"/>\n",
              "  </svg>\n",
              "      </button>\n",
              "      \n",
              "  <style>\n",
              "    .colab-df-container {\n",
              "      display:flex;\n",
              "      flex-wrap:wrap;\n",
              "      gap: 12px;\n",
              "    }\n",
              "\n",
              "    .colab-df-convert {\n",
              "      background-color: #E8F0FE;\n",
              "      border: none;\n",
              "      border-radius: 50%;\n",
              "      cursor: pointer;\n",
              "      display: none;\n",
              "      fill: #1967D2;\n",
              "      height: 32px;\n",
              "      padding: 0 0 0 0;\n",
              "      width: 32px;\n",
              "    }\n",
              "\n",
              "    .colab-df-convert:hover {\n",
              "      background-color: #E2EBFA;\n",
              "      box-shadow: 0px 1px 2px rgba(60, 64, 67, 0.3), 0px 1px 3px 1px rgba(60, 64, 67, 0.15);\n",
              "      fill: #174EA6;\n",
              "    }\n",
              "\n",
              "    [theme=dark] .colab-df-convert {\n",
              "      background-color: #3B4455;\n",
              "      fill: #D2E3FC;\n",
              "    }\n",
              "\n",
              "    [theme=dark] .colab-df-convert:hover {\n",
              "      background-color: #434B5C;\n",
              "      box-shadow: 0px 1px 3px 1px rgba(0, 0, 0, 0.15);\n",
              "      filter: drop-shadow(0px 1px 2px rgba(0, 0, 0, 0.3));\n",
              "      fill: #FFFFFF;\n",
              "    }\n",
              "  </style>\n",
              "\n",
              "      <script>\n",
              "        const buttonEl =\n",
              "          document.querySelector('#df-1954a0a2-e0cd-4d60-9934-cd63993bd580 button.colab-df-convert');\n",
              "        buttonEl.style.display =\n",
              "          google.colab.kernel.accessAllowed ? 'block' : 'none';\n",
              "\n",
              "        async function convertToInteractive(key) {\n",
              "          const element = document.querySelector('#df-1954a0a2-e0cd-4d60-9934-cd63993bd580');\n",
              "          const dataTable =\n",
              "            await google.colab.kernel.invokeFunction('convertToInteractive',\n",
              "                                                     [key], {});\n",
              "          if (!dataTable) return;\n",
              "\n",
              "          const docLinkHtml = 'Like what you see? Visit the ' +\n",
              "            '<a target=\"_blank\" href=https://colab.research.google.com/notebooks/data_table.ipynb>data table notebook</a>'\n",
              "            + ' to learn more about interactive tables.';\n",
              "          element.innerHTML = '';\n",
              "          dataTable['output_type'] = 'display_data';\n",
              "          await google.colab.output.renderOutput(dataTable, element);\n",
              "          const docLink = document.createElement('div');\n",
              "          docLink.innerHTML = docLinkHtml;\n",
              "          element.appendChild(docLink);\n",
              "        }\n",
              "      </script>\n",
              "    </div>\n",
              "  </div>\n",
              "  "
            ],
            "text/plain": [
              "              Rooms         Price  ...    Longtitude  Propertycount\n",
              "count  34857.000000  2.724700e+04  ...  26881.000000   34854.000000\n",
              "mean       3.031012  1.050173e+06  ...    145.001851    7572.888306\n",
              "std        0.969933  6.414671e+05  ...      0.120169    4428.090313\n",
              "min        1.000000  8.500000e+04  ...    144.423790      83.000000\n",
              "25%        2.000000  6.350000e+05  ...    144.933500    4385.000000\n",
              "50%        3.000000  8.700000e+05  ...    145.007800    6763.000000\n",
              "75%        4.000000  1.295000e+06  ...    145.071900   10412.000000\n",
              "max       16.000000  1.120000e+07  ...    145.526350   21650.000000\n",
              "\n",
              "[8 rows x 13 columns]"
            ]
          },
          "metadata": {},
          "execution_count": 146
        }
      ]
    },
    {
      "cell_type": "markdown",
      "metadata": {
        "id": "zOVsKq4-XXR2"
      },
      "source": [
        "Dengan method \"describe\" kita mendapatkan basic statistics untuk atribut numerik. \n",
        "\n",
        "Apa yang bisa diamati?\n",
        "Pada atribut \"Landsize\", standard deviasi tampak tinggi, jauh di atas mean, perlu dilihat lebih jauh distribusi datanya."
      ]
    },
    {
      "cell_type": "code",
      "metadata": {
        "colab": {
          "base_uri": "https://localhost:8080/",
          "height": 174
        },
        "id": "rn2CQNiqgK4A",
        "outputId": "a68ebdd5-6f4e-4d5d-d433-06a55a40def8"
      },
      "source": [
        "# Menampilkan summary dari nonnumeric atribute\n",
        "display(housing1.describe(include=object))"
      ],
      "execution_count": 147,
      "outputs": [
        {
          "output_type": "display_data",
          "data": {
            "text/html": [
              "\n",
              "  <div id=\"df-acfff60c-a21f-4c6f-a2d2-3566695df804\">\n",
              "    <div class=\"colab-df-container\">\n",
              "      <div>\n",
              "<style scoped>\n",
              "    .dataframe tbody tr th:only-of-type {\n",
              "        vertical-align: middle;\n",
              "    }\n",
              "\n",
              "    .dataframe tbody tr th {\n",
              "        vertical-align: top;\n",
              "    }\n",
              "\n",
              "    .dataframe thead th {\n",
              "        text-align: right;\n",
              "    }\n",
              "</style>\n",
              "<table border=\"1\" class=\"dataframe\">\n",
              "  <thead>\n",
              "    <tr style=\"text-align: right;\">\n",
              "      <th></th>\n",
              "      <th>Suburb</th>\n",
              "      <th>Address</th>\n",
              "      <th>Type</th>\n",
              "      <th>Method</th>\n",
              "      <th>SellerG</th>\n",
              "      <th>Date</th>\n",
              "      <th>CouncilArea</th>\n",
              "      <th>Regionname</th>\n",
              "    </tr>\n",
              "  </thead>\n",
              "  <tbody>\n",
              "    <tr>\n",
              "      <th>count</th>\n",
              "      <td>34857</td>\n",
              "      <td>34857</td>\n",
              "      <td>34857</td>\n",
              "      <td>34857</td>\n",
              "      <td>34857</td>\n",
              "      <td>34857</td>\n",
              "      <td>34854</td>\n",
              "      <td>34854</td>\n",
              "    </tr>\n",
              "    <tr>\n",
              "      <th>unique</th>\n",
              "      <td>351</td>\n",
              "      <td>34009</td>\n",
              "      <td>4</td>\n",
              "      <td>9</td>\n",
              "      <td>388</td>\n",
              "      <td>78</td>\n",
              "      <td>33</td>\n",
              "      <td>8</td>\n",
              "    </tr>\n",
              "    <tr>\n",
              "      <th>top</th>\n",
              "      <td>Reservoir</td>\n",
              "      <td>5 Charles St</td>\n",
              "      <td>h</td>\n",
              "      <td>S</td>\n",
              "      <td>Jellis</td>\n",
              "      <td>28/10/2017</td>\n",
              "      <td>Boroondara City Council</td>\n",
              "      <td>Southern Metropolitan</td>\n",
              "    </tr>\n",
              "    <tr>\n",
              "      <th>freq</th>\n",
              "      <td>844</td>\n",
              "      <td>6</td>\n",
              "      <td>23965</td>\n",
              "      <td>19744</td>\n",
              "      <td>3359</td>\n",
              "      <td>1119</td>\n",
              "      <td>3675</td>\n",
              "      <td>11836</td>\n",
              "    </tr>\n",
              "  </tbody>\n",
              "</table>\n",
              "</div>\n",
              "      <button class=\"colab-df-convert\" onclick=\"convertToInteractive('df-acfff60c-a21f-4c6f-a2d2-3566695df804')\"\n",
              "              title=\"Convert this dataframe to an interactive table.\"\n",
              "              style=\"display:none;\">\n",
              "        \n",
              "  <svg xmlns=\"http://www.w3.org/2000/svg\" height=\"24px\"viewBox=\"0 0 24 24\"\n",
              "       width=\"24px\">\n",
              "    <path d=\"M0 0h24v24H0V0z\" fill=\"none\"/>\n",
              "    <path d=\"M18.56 5.44l.94 2.06.94-2.06 2.06-.94-2.06-.94-.94-2.06-.94 2.06-2.06.94zm-11 1L8.5 8.5l.94-2.06 2.06-.94-2.06-.94L8.5 2.5l-.94 2.06-2.06.94zm10 10l.94 2.06.94-2.06 2.06-.94-2.06-.94-.94-2.06-.94 2.06-2.06.94z\"/><path d=\"M17.41 7.96l-1.37-1.37c-.4-.4-.92-.59-1.43-.59-.52 0-1.04.2-1.43.59L10.3 9.45l-7.72 7.72c-.78.78-.78 2.05 0 2.83L4 21.41c.39.39.9.59 1.41.59.51 0 1.02-.2 1.41-.59l7.78-7.78 2.81-2.81c.8-.78.8-2.07 0-2.86zM5.41 20L4 18.59l7.72-7.72 1.47 1.35L5.41 20z\"/>\n",
              "  </svg>\n",
              "      </button>\n",
              "      \n",
              "  <style>\n",
              "    .colab-df-container {\n",
              "      display:flex;\n",
              "      flex-wrap:wrap;\n",
              "      gap: 12px;\n",
              "    }\n",
              "\n",
              "    .colab-df-convert {\n",
              "      background-color: #E8F0FE;\n",
              "      border: none;\n",
              "      border-radius: 50%;\n",
              "      cursor: pointer;\n",
              "      display: none;\n",
              "      fill: #1967D2;\n",
              "      height: 32px;\n",
              "      padding: 0 0 0 0;\n",
              "      width: 32px;\n",
              "    }\n",
              "\n",
              "    .colab-df-convert:hover {\n",
              "      background-color: #E2EBFA;\n",
              "      box-shadow: 0px 1px 2px rgba(60, 64, 67, 0.3), 0px 1px 3px 1px rgba(60, 64, 67, 0.15);\n",
              "      fill: #174EA6;\n",
              "    }\n",
              "\n",
              "    [theme=dark] .colab-df-convert {\n",
              "      background-color: #3B4455;\n",
              "      fill: #D2E3FC;\n",
              "    }\n",
              "\n",
              "    [theme=dark] .colab-df-convert:hover {\n",
              "      background-color: #434B5C;\n",
              "      box-shadow: 0px 1px 3px 1px rgba(0, 0, 0, 0.15);\n",
              "      filter: drop-shadow(0px 1px 2px rgba(0, 0, 0, 0.3));\n",
              "      fill: #FFFFFF;\n",
              "    }\n",
              "  </style>\n",
              "\n",
              "      <script>\n",
              "        const buttonEl =\n",
              "          document.querySelector('#df-acfff60c-a21f-4c6f-a2d2-3566695df804 button.colab-df-convert');\n",
              "        buttonEl.style.display =\n",
              "          google.colab.kernel.accessAllowed ? 'block' : 'none';\n",
              "\n",
              "        async function convertToInteractive(key) {\n",
              "          const element = document.querySelector('#df-acfff60c-a21f-4c6f-a2d2-3566695df804');\n",
              "          const dataTable =\n",
              "            await google.colab.kernel.invokeFunction('convertToInteractive',\n",
              "                                                     [key], {});\n",
              "          if (!dataTable) return;\n",
              "\n",
              "          const docLinkHtml = 'Like what you see? Visit the ' +\n",
              "            '<a target=\"_blank\" href=https://colab.research.google.com/notebooks/data_table.ipynb>data table notebook</a>'\n",
              "            + ' to learn more about interactive tables.';\n",
              "          element.innerHTML = '';\n",
              "          dataTable['output_type'] = 'display_data';\n",
              "          await google.colab.output.renderOutput(dataTable, element);\n",
              "          const docLink = document.createElement('div');\n",
              "          docLink.innerHTML = docLinkHtml;\n",
              "          element.appendChild(docLink);\n",
              "        }\n",
              "      </script>\n",
              "    </div>\n",
              "  </div>\n",
              "  "
            ],
            "text/plain": [
              "           Suburb       Address  ...              CouncilArea             Regionname\n",
              "count       34857         34857  ...                    34854                  34854\n",
              "unique        351         34009  ...                       33                      8\n",
              "top     Reservoir  5 Charles St  ...  Boroondara City Council  Southern Metropolitan\n",
              "freq          844             6  ...                     3675                  11836\n",
              "\n",
              "[4 rows x 8 columns]"
            ]
          },
          "metadata": {}
        }
      ]
    },
    {
      "cell_type": "markdown",
      "metadata": {
        "id": "M0qUBTe_z-Rd"
      },
      "source": [
        "Pada tabel di atas, \"unique\" menunjukkan ada berapa variasi nilai dalam suatu atribut. \n",
        "Jika \"unique\" bernilai 1, atribut tersebut dapat dihapus, karena nilainya sama untuk semua baris."
      ]
    },
    {
      "cell_type": "code",
      "metadata": {
        "id": "kKVHi9L-OVFw"
      },
      "source": [
        "# Plot beberapa kolom untuk melihat distribusi frekuensinya\n",
        "def countplot(column):\n",
        "    sns.set(rc = {'figure.figsize':(20,8)}) # Untuk mengatur size dari plotnya\n",
        "    return sns.countplot(x= column, data= housing1)"
      ],
      "execution_count": 148,
      "outputs": []
    },
    {
      "cell_type": "code",
      "metadata": {
        "colab": {
          "base_uri": "https://localhost:8080/",
          "height": 489
        },
        "id": "FgsVsOaOOVFx",
        "outputId": "2faae839-618e-4b84-cb55-c900a69347ff"
      },
      "source": [
        "countplot('Type')"
      ],
      "execution_count": 149,
      "outputs": [
        {
          "output_type": "execute_result",
          "data": {
            "text/plain": [
              "<matplotlib.axes._subplots.AxesSubplot at 0x7fd6ff1170d0>"
            ]
          },
          "metadata": {},
          "execution_count": 149
        },
        {
          "output_type": "display_data",
          "data": {
            "image/png": "[encoded data removed]",
            "text/plain": [
              "<Figure size 1440x576 with 1 Axes>"
            ]
          },
          "metadata": {}
        }
      ]
    },
    {
      "cell_type": "markdown",
      "metadata": {
        "id": "MkhbKU6-z-Re"
      },
      "source": [
        "Berdasarkan plot di atas, terlihat bahwa yang tinggi frekuensinya adalah rumah dengan type 'h'."
      ]
    },
    {
      "cell_type": "code",
      "metadata": {
        "colab": {
          "base_uri": "https://localhost:8080/",
          "height": 488
        },
        "id": "eSx2cSccOVFy",
        "outputId": "30b05eb0-5311-4d94-a6a0-1a7b683a38e7"
      },
      "source": [
        "countplot('Method')"
      ],
      "execution_count": 150,
      "outputs": [
        {
          "output_type": "execute_result",
          "data": {
            "text/plain": [
              "<matplotlib.axes._subplots.AxesSubplot at 0x7fd6ff07e750>"
            ]
          },
          "metadata": {},
          "execution_count": 150
        },
        {
          "output_type": "display_data",
          "data": {
            "image/png": "[encoded data removed]",
            "text/plain": [
              "<Figure size 1440x576 with 1 Axes>"
            ]
          },
          "metadata": {}
        }
      ]
    },
    {
      "cell_type": "markdown",
      "metadata": {
        "id": "J2oE58L9z-Rf"
      },
      "source": [
        "Berdasarkan plot di atas, terlihat bahwa method terbanyak adalah 'S'. (S=property sold)"
      ]
    },
    {
      "cell_type": "code",
      "metadata": {
        "colab": {
          "base_uri": "https://localhost:8080/",
          "height": 488
        },
        "id": "W4f-aGxWOVFy",
        "outputId": "c23653d1-6a85-4376-9012-6ddcae4f74ec"
      },
      "source": [
        "countplot('Regionname')"
      ],
      "execution_count": 151,
      "outputs": [
        {
          "output_type": "execute_result",
          "data": {
            "text/plain": [
              "<matplotlib.axes._subplots.AxesSubplot at 0x7fd6ff07ce90>"
            ]
          },
          "metadata": {},
          "execution_count": 151
        },
        {
          "output_type": "display_data",
          "data": {
            "image/png": "[encoded data removed]",
            "text/plain": [
              "<Figure size 1440x576 with 1 Axes>"
            ]
          },
          "metadata": {}
        }
      ]
    },
    {
      "cell_type": "markdown",
      "metadata": {
        "id": "NxdAv3jHz-Rg"
      },
      "source": [
        "Berdasarkan plot di atas, kebanyakan rumah terdapat di region \"southern metropolitan\"."
      ]
    },
    {
      "cell_type": "code",
      "metadata": {
        "id": "-kkujCiWl4Aq",
        "colab": {
          "base_uri": "https://localhost:8080/",
          "height": 521
        },
        "outputId": "f7e600ab-234f-4d88-8cf4-aa34a9df12f5"
      },
      "source": [
        "# Mendapatkan nilai korelasi (koefisien Person) atribut numerik, dengan method \"corr\"\n",
        "housing1.corr(method='pearson')"
      ],
      "execution_count": 152,
      "outputs": [
        {
          "output_type": "execute_result",
          "data": {
            "text/html": [
              "\n",
              "  <div id=\"df-de190edf-36f7-49aa-8cd5-cff600153f06\">\n",
              "    <div class=\"colab-df-container\">\n",
              "      <div>\n",
              "<style scoped>\n",
              "    .dataframe tbody tr th:only-of-type {\n",
              "        vertical-align: middle;\n",
              "    }\n",
              "\n",
              "    .dataframe tbody tr th {\n",
              "        vertical-align: top;\n",
              "    }\n",
              "\n",
              "    .dataframe thead th {\n",
              "        text-align: right;\n",
              "    }\n",
              "</style>\n",
              "<table border=\"1\" class=\"dataframe\">\n",
              "  <thead>\n",
              "    <tr style=\"text-align: right;\">\n",
              "      <th></th>\n",
              "      <th>Rooms</th>\n",
              "      <th>Price</th>\n",
              "      <th>Distance</th>\n",
              "      <th>Postcode</th>\n",
              "      <th>Bedroom2</th>\n",
              "      <th>Bathroom</th>\n",
              "      <th>Car</th>\n",
              "      <th>Landsize</th>\n",
              "      <th>BuildingArea</th>\n",
              "      <th>YearBuilt</th>\n",
              "      <th>Lattitude</th>\n",
              "      <th>Longtitude</th>\n",
              "      <th>Propertycount</th>\n",
              "    </tr>\n",
              "  </thead>\n",
              "  <tbody>\n",
              "    <tr>\n",
              "      <th>Rooms</th>\n",
              "      <td>1.000000</td>\n",
              "      <td>0.465238</td>\n",
              "      <td>0.271511</td>\n",
              "      <td>0.085890</td>\n",
              "      <td>0.946755</td>\n",
              "      <td>0.611826</td>\n",
              "      <td>0.393878</td>\n",
              "      <td>0.037402</td>\n",
              "      <td>0.156229</td>\n",
              "      <td>-0.012749</td>\n",
              "      <td>0.004872</td>\n",
              "      <td>0.103235</td>\n",
              "      <td>-0.071677</td>\n",
              "    </tr>\n",
              "    <tr>\n",
              "      <th>Price</th>\n",
              "      <td>0.465238</td>\n",
              "      <td>1.000000</td>\n",
              "      <td>-0.211384</td>\n",
              "      <td>0.044950</td>\n",
              "      <td>0.430275</td>\n",
              "      <td>0.429878</td>\n",
              "      <td>0.201803</td>\n",
              "      <td>0.032748</td>\n",
              "      <td>0.100754</td>\n",
              "      <td>-0.333306</td>\n",
              "      <td>-0.215607</td>\n",
              "      <td>0.197874</td>\n",
              "      <td>-0.059017</td>\n",
              "    </tr>\n",
              "    <tr>\n",
              "      <th>Distance</th>\n",
              "      <td>0.271511</td>\n",
              "      <td>-0.211384</td>\n",
              "      <td>1.000000</td>\n",
              "      <td>0.481566</td>\n",
              "      <td>0.269524</td>\n",
              "      <td>0.126201</td>\n",
              "      <td>0.241835</td>\n",
              "      <td>0.060862</td>\n",
              "      <td>0.076301</td>\n",
              "      <td>0.323059</td>\n",
              "      <td>-0.100417</td>\n",
              "      <td>0.200946</td>\n",
              "      <td>-0.018140</td>\n",
              "    </tr>\n",
              "    <tr>\n",
              "      <th>Postcode</th>\n",
              "      <td>0.085890</td>\n",
              "      <td>0.044950</td>\n",
              "      <td>0.481566</td>\n",
              "      <td>1.000000</td>\n",
              "      <td>0.089292</td>\n",
              "      <td>0.120080</td>\n",
              "      <td>0.067886</td>\n",
              "      <td>0.040664</td>\n",
              "      <td>0.042437</td>\n",
              "      <td>0.089805</td>\n",
              "      <td>-0.231027</td>\n",
              "      <td>0.362895</td>\n",
              "      <td>0.017108</td>\n",
              "    </tr>\n",
              "    <tr>\n",
              "      <th>Bedroom2</th>\n",
              "      <td>0.946755</td>\n",
              "      <td>0.430275</td>\n",
              "      <td>0.269524</td>\n",
              "      <td>0.089292</td>\n",
              "      <td>1.000000</td>\n",
              "      <td>0.614892</td>\n",
              "      <td>0.388491</td>\n",
              "      <td>0.037019</td>\n",
              "      <td>0.154157</td>\n",
              "      <td>-0.002022</td>\n",
              "      <td>0.003447</td>\n",
              "      <td>0.106164</td>\n",
              "      <td>-0.053451</td>\n",
              "    </tr>\n",
              "    <tr>\n",
              "      <th>Bathroom</th>\n",
              "      <td>0.611826</td>\n",
              "      <td>0.429878</td>\n",
              "      <td>0.126201</td>\n",
              "      <td>0.120080</td>\n",
              "      <td>0.614892</td>\n",
              "      <td>1.000000</td>\n",
              "      <td>0.307518</td>\n",
              "      <td>0.036333</td>\n",
              "      <td>0.147558</td>\n",
              "      <td>0.167955</td>\n",
              "      <td>-0.059183</td>\n",
              "      <td>0.106531</td>\n",
              "      <td>-0.032887</td>\n",
              "    </tr>\n",
              "    <tr>\n",
              "      <th>Car</th>\n",
              "      <td>0.393878</td>\n",
              "      <td>0.201803</td>\n",
              "      <td>0.241835</td>\n",
              "      <td>0.067886</td>\n",
              "      <td>0.388491</td>\n",
              "      <td>0.307518</td>\n",
              "      <td>1.000000</td>\n",
              "      <td>0.037829</td>\n",
              "      <td>0.104373</td>\n",
              "      <td>0.128702</td>\n",
              "      <td>-0.009020</td>\n",
              "      <td>0.047213</td>\n",
              "      <td>-0.009617</td>\n",
              "    </tr>\n",
              "    <tr>\n",
              "      <th>Landsize</th>\n",
              "      <td>0.037402</td>\n",
              "      <td>0.032748</td>\n",
              "      <td>0.060862</td>\n",
              "      <td>0.040664</td>\n",
              "      <td>0.037019</td>\n",
              "      <td>0.036333</td>\n",
              "      <td>0.037829</td>\n",
              "      <td>1.000000</td>\n",
              "      <td>0.354530</td>\n",
              "      <td>0.044474</td>\n",
              "      <td>0.025318</td>\n",
              "      <td>-0.002582</td>\n",
              "      <td>-0.018195</td>\n",
              "    </tr>\n",
              "    <tr>\n",
              "      <th>BuildingArea</th>\n",
              "      <td>0.156229</td>\n",
              "      <td>0.100754</td>\n",
              "      <td>0.076301</td>\n",
              "      <td>0.042437</td>\n",
              "      <td>0.154157</td>\n",
              "      <td>0.147558</td>\n",
              "      <td>0.104373</td>\n",
              "      <td>0.354530</td>\n",
              "      <td>1.000000</td>\n",
              "      <td>0.067811</td>\n",
              "      <td>0.017155</td>\n",
              "      <td>-0.002143</td>\n",
              "      <td>-0.024523</td>\n",
              "    </tr>\n",
              "    <tr>\n",
              "      <th>YearBuilt</th>\n",
              "      <td>-0.012749</td>\n",
              "      <td>-0.333306</td>\n",
              "      <td>0.323059</td>\n",
              "      <td>0.089805</td>\n",
              "      <td>-0.002022</td>\n",
              "      <td>0.167955</td>\n",
              "      <td>0.128702</td>\n",
              "      <td>0.044474</td>\n",
              "      <td>0.067811</td>\n",
              "      <td>1.000000</td>\n",
              "      <td>0.091592</td>\n",
              "      <td>-0.022175</td>\n",
              "      <td>0.022420</td>\n",
              "    </tr>\n",
              "    <tr>\n",
              "      <th>Lattitude</th>\n",
              "      <td>0.004872</td>\n",
              "      <td>-0.215607</td>\n",
              "      <td>-0.100417</td>\n",
              "      <td>-0.231027</td>\n",
              "      <td>0.003447</td>\n",
              "      <td>-0.059183</td>\n",
              "      <td>-0.009020</td>\n",
              "      <td>0.025318</td>\n",
              "      <td>0.017155</td>\n",
              "      <td>0.091592</td>\n",
              "      <td>1.000000</td>\n",
              "      <td>-0.345589</td>\n",
              "      <td>0.011112</td>\n",
              "    </tr>\n",
              "    <tr>\n",
              "      <th>Longtitude</th>\n",
              "      <td>0.103235</td>\n",
              "      <td>0.197874</td>\n",
              "      <td>0.200946</td>\n",
              "      <td>0.362895</td>\n",
              "      <td>0.106164</td>\n",
              "      <td>0.106531</td>\n",
              "      <td>0.047213</td>\n",
              "      <td>-0.002582</td>\n",
              "      <td>-0.002143</td>\n",
              "      <td>-0.022175</td>\n",
              "      <td>-0.345589</td>\n",
              "      <td>1.000000</td>\n",
              "      <td>0.016326</td>\n",
              "    </tr>\n",
              "    <tr>\n",
              "      <th>Propertycount</th>\n",
              "      <td>-0.071677</td>\n",
              "      <td>-0.059017</td>\n",
              "      <td>-0.018140</td>\n",
              "      <td>0.017108</td>\n",
              "      <td>-0.053451</td>\n",
              "      <td>-0.032887</td>\n",
              "      <td>-0.009617</td>\n",
              "      <td>-0.018195</td>\n",
              "      <td>-0.024523</td>\n",
              "      <td>0.022420</td>\n",
              "      <td>0.011112</td>\n",
              "      <td>0.016326</td>\n",
              "      <td>1.000000</td>\n",
              "    </tr>\n",
              "  </tbody>\n",
              "</table>\n",
              "</div>\n",
              "      <button class=\"colab-df-convert\" onclick=\"convertToInteractive('df-de190edf-36f7-49aa-8cd5-cff600153f06')\"\n",
              "              title=\"Convert this dataframe to an interactive table.\"\n",
              "              style=\"display:none;\">\n",
              "        \n",
              "  <svg xmlns=\"http://www.w3.org/2000/svg\" height=\"24px\"viewBox=\"0 0 24 24\"\n",
              "       width=\"24px\">\n",
              "    <path d=\"M0 0h24v24H0V0z\" fill=\"none\"/>\n",
              "    <path d=\"M18.56 5.44l.94 2.06.94-2.06 2.06-.94-2.06-.94-.94-2.06-.94 2.06-2.06.94zm-11 1L8.5 8.5l.94-2.06 2.06-.94-2.06-.94L8.5 2.5l-.94 2.06-2.06.94zm10 10l.94 2.06.94-2.06 2.06-.94-2.06-.94-.94-2.06-.94 2.06-2.06.94z\"/><path d=\"M17.41 7.96l-1.37-1.37c-.4-.4-.92-.59-1.43-.59-.52 0-1.04.2-1.43.59L10.3 9.45l-7.72 7.72c-.78.78-.78 2.05 0 2.83L4 21.41c.39.39.9.59 1.41.59.51 0 1.02-.2 1.41-.59l7.78-7.78 2.81-2.81c.8-.78.8-2.07 0-2.86zM5.41 20L4 18.59l7.72-7.72 1.47 1.35L5.41 20z\"/>\n",
              "  </svg>\n",
              "      </button>\n",
              "      \n",
              "  <style>\n",
              "    .colab-df-container {\n",
              "      display:flex;\n",
              "      flex-wrap:wrap;\n",
              "      gap: 12px;\n",
              "    }\n",
              "\n",
              "    .colab-df-convert {\n",
              "      background-color: #E8F0FE;\n",
              "      border: none;\n",
              "      border-radius: 50%;\n",
              "      cursor: pointer;\n",
              "      display: none;\n",
              "      fill: #1967D2;\n",
              "      height: 32px;\n",
              "      padding: 0 0 0 0;\n",
              "      width: 32px;\n",
              "    }\n",
              "\n",
              "    .colab-df-convert:hover {\n",
              "      background-color: #E2EBFA;\n",
              "      box-shadow: 0px 1px 2px rgba(60, 64, 67, 0.3), 0px 1px 3px 1px rgba(60, 64, 67, 0.15);\n",
              "      fill: #174EA6;\n",
              "    }\n",
              "\n",
              "    [theme=dark] .colab-df-convert {\n",
              "      background-color: #3B4455;\n",
              "      fill: #D2E3FC;\n",
              "    }\n",
              "\n",
              "    [theme=dark] .colab-df-convert:hover {\n",
              "      background-color: #434B5C;\n",
              "      box-shadow: 0px 1px 3px 1px rgba(0, 0, 0, 0.15);\n",
              "      filter: drop-shadow(0px 1px 2px rgba(0, 0, 0, 0.3));\n",
              "      fill: #FFFFFF;\n",
              "    }\n",
              "  </style>\n",
              "\n",
              "      <script>\n",
              "        const buttonEl =\n",
              "          document.querySelector('#df-de190edf-36f7-49aa-8cd5-cff600153f06 button.colab-df-convert');\n",
              "        buttonEl.style.display =\n",
              "          google.colab.kernel.accessAllowed ? 'block' : 'none';\n",
              "\n",
              "        async function convertToInteractive(key) {\n",
              "          const element = document.querySelector('#df-de190edf-36f7-49aa-8cd5-cff600153f06');\n",
              "          const dataTable =\n",
              "            await google.colab.kernel.invokeFunction('convertToInteractive',\n",
              "                                                     [key], {});\n",
              "          if (!dataTable) return;\n",
              "\n",
              "          const docLinkHtml = 'Like what you see? Visit the ' +\n",
              "            '<a target=\"_blank\" href=https://colab.research.google.com/notebooks/data_table.ipynb>data table notebook</a>'\n",
              "            + ' to learn more about interactive tables.';\n",
              "          element.innerHTML = '';\n",
              "          dataTable['output_type'] = 'display_data';\n",
              "          await google.colab.output.renderOutput(dataTable, element);\n",
              "          const docLink = document.createElement('div');\n",
              "          docLink.innerHTML = docLinkHtml;\n",
              "          element.appendChild(docLink);\n",
              "        }\n",
              "      </script>\n",
              "    </div>\n",
              "  </div>\n",
              "  "
            ],
            "text/plain": [
              "                  Rooms     Price  ...  Longtitude  Propertycount\n",
              "Rooms          1.000000  0.465238  ...    0.103235      -0.071677\n",
              "Price          0.465238  1.000000  ...    0.197874      -0.059017\n",
              "Distance       0.271511 -0.211384  ...    0.200946      -0.018140\n",
              "Postcode       0.085890  0.044950  ...    0.362895       0.017108\n",
              "Bedroom2       0.946755  0.430275  ...    0.106164      -0.053451\n",
              "Bathroom       0.611826  0.429878  ...    0.106531      -0.032887\n",
              "Car            0.393878  0.201803  ...    0.047213      -0.009617\n",
              "Landsize       0.037402  0.032748  ...   -0.002582      -0.018195\n",
              "BuildingArea   0.156229  0.100754  ...   -0.002143      -0.024523\n",
              "YearBuilt     -0.012749 -0.333306  ...   -0.022175       0.022420\n",
              "Lattitude      0.004872 -0.215607  ...   -0.345589       0.011112\n",
              "Longtitude     0.103235  0.197874  ...    1.000000       0.016326\n",
              "Propertycount -0.071677 -0.059017  ...    0.016326       1.000000\n",
              "\n",
              "[13 rows x 13 columns]"
            ]
          },
          "metadata": {},
          "execution_count": 152
        }
      ]
    },
    {
      "cell_type": "code",
      "metadata": {
        "id": "5aIBcqMYl4Aq"
      },
      "source": [
        "# Mendapatkan nilai korelasi dari atribut nonnumerik, dengan method \"chi2\"\n",
        "def compute_freq_chi2(x,y):\n",
        "    freqtab = pd.crosstab(x,y)\n",
        "    print(\"Frequency table\")\n",
        "    print(\"============================\")\n",
        "    print(freqtab)\n",
        "    print(\"============================\")\n",
        "    chi2,pval,dof,expected = scp.chi2_contingency(freqtab)\n",
        "    print(\"ChiSquare test statistic: \",chi2)\n",
        "    print(\"p-value: \",pval)\n",
        "    return"
      ],
      "execution_count": 153,
      "outputs": []
    },
    {
      "cell_type": "markdown",
      "metadata": {
        "id": "Aagq_rTll4Aq"
      },
      "source": [
        "Chi-square dapat digunakan untuk melihat pengaruh atau korelasi dua buah variabel kategorikal dan mengukur\n",
        "kuatnya hubungan antara variabel yang satu dengan\n",
        "variabel kategorikal lainnya. Dalam pengertian yang lebih umum, chi-square berguna untuk melihat apakah distribusi variabel kategori berbeda satu sama lain.\n",
        "\n",
        "Bisa baca lebih lanjut disini: \n",
        "https://en.wikipedia.org/wiki/Pearson%27s_chi-squared_test"
      ]
    },
    {
      "cell_type": "code",
      "metadata": {
        "id": "BxA7pNJPl4Ar",
        "colab": {
          "base_uri": "https://localhost:8080/"
        },
        "outputId": "2b0e2a6b-219a-4b6d-dafe-40efda3e3b1a"
      },
      "source": [
        "# Korelasi antara survived dengan pclass\n",
        "compute_freq_chi2(housing1.Type,housing1.Regionname)"
      ],
      "execution_count": 154,
      "outputs": [
        {
          "output_type": "stream",
          "name": "stdout",
          "text": [
            "Frequency table\n",
            "============================\n",
            "Regionname  Eastern Metropolitan  ...  Western Victoria\n",
            "Type                              ...                  \n",
            "H                              6  ...                 0\n",
            "h                           3432  ...               113\n",
            "t                            391  ...                 0\n",
            "u                            548  ...                 2\n",
            "\n",
            "[4 rows x 8 columns]\n",
            "============================\n",
            "ChiSquare test statistic:  1375.3437897978106\n",
            "p-value:  1.7976648869650594e-278\n"
          ]
        }
      ]
    },
    {
      "cell_type": "markdown",
      "metadata": {
        "id": "KF0FAJ2ql4Ar"
      },
      "source": [
        "Untuk uji coba Chi-square, disini kita ingin menguji apakah variabel \"Type\" dan \"Regionname\" memiliki korelasi (dependent) atau tidak (independent). Oleh karena itu H0nya adalah variabel \"Type\" dan \"Regionname\" independent. Setelah kita perhitungkan hasil chi-square dan p-valuenya, kita bisa melihat apabila p-valuenya < 0.05 sehingga H0-nya dapat kita tolak. Artinya terdapat hubungan/korelasi antar variabel \"Type\" dan \"Regionname\" "
      ]
    },
    {
      "cell_type": "code",
      "metadata": {
        "id": "j5Lu1r57l4Ar",
        "colab": {
          "base_uri": "https://localhost:8080/"
        },
        "outputId": "b2bd7c59-fa8f-49f4-d6e4-72ceaf783d39"
      },
      "source": [
        "# Korelasi antara survived dengan embarked\n",
        "compute_freq_chi2(housing1.Method,housing1.Type)"
      ],
      "execution_count": 155,
      "outputs": [
        {
          "output_type": "stream",
          "name": "stdout",
          "text": [
            "Frequency table\n",
            "============================\n",
            "Type     H      h     t     u\n",
            "Method                       \n",
            "PI       0   3214   605  1031\n",
            "PN       0    182    49    77\n",
            "S       12  14035  1881  3816\n",
            "SA       0    155    27    44\n",
            "SN       0   1015   111   191\n",
            "SP       1   3292   510  1292\n",
            "SS       0     28     4     4\n",
            "VB       2   1940   380   786\n",
            "W        0    104    13    56\n",
            "============================\n",
            "ChiSquare test statistic:  278.76995995942195\n",
            "p-value:  3.065555329045943e-45\n"
          ]
        }
      ]
    },
    {
      "cell_type": "markdown",
      "metadata": {
        "id": "7ggceYpel4Ar"
      },
      "source": [
        "Berdasarkan hasil uji-coba p-value kurang dari 0.05, sehingga H0 dapat kita tolak dan menyimpulkan apabila terdapat hubungan antara \"Type\" dan \"Regionname\""
      ]
    },
    {
      "cell_type": "markdown",
      "metadata": {
        "id": "EiPrpogLl4Ar"
      },
      "source": [
        "## Data Preprocessing\n",
        "\n",
        "Data Preparation atau data preprocessing adalah suatu proses pembersihan dan transformasi pada raw data sebelum diproses dan dianalisis. Pada beberapa algoritma klasifikasi, dibutuhkan preprocessing khusus agar algoritma dapat berjalan dengan baik.\n",
        "\n",
        "**DISCLAIMER!**  Pada contoh ini, preprocessing yang \n",
        "dilakukan dimaksudkan untuk algoritma yang memiliki karakteristik:\n",
        "* sensitif terhadap outlier\n",
        "* fitur-fiturnya perlu memiliki range yang setara"
      ]
    },
    {
      "cell_type": "markdown",
      "metadata": {
        "id": "6b1LvH0Sl4Ar"
      },
      "source": [
        "## **SOAL 1**"
      ]
    },
    {
      "cell_type": "code",
      "metadata": {
        "id": "73w-dStgl4As"
      },
      "source": [
        "# Import data_melbourne_housing2\n",
        "housing2 = pd.read_csv('data_melbourne_housing2.csv')"
      ],
      "execution_count": 156,
      "outputs": []
    },
    {
      "cell_type": "code",
      "metadata": {
        "id": "wvSAHzQxl4As"
      },
      "source": [
        "# Menggabungkan dua data frame\n",
        "frames = [housing1, housing2] \n",
        "housing1_2= pd.concat(frames).reset_index(drop=True)"
      ],
      "execution_count": 157,
      "outputs": []
    },
    {
      "cell_type": "markdown",
      "source": [
        "(a) Gabungkanlah, housing1_2 dengan data 'data_melbourne_housing3.csv' untuk membuat merged_housing!"
      ],
      "metadata": {
        "id": "ekaDt1XxvuZw"
      }
    },
    {
      "cell_type": "code",
      "source": [
        "# 1(a) Implementasi koding disini\n",
        "housing3 = pd.read_csv('data_melbourne_housing3.csv')\n",
        "# lanjutkan...\n",
        "frames123 = [housing1, housing2, housing3]\n",
        "merged_housing = pd.concat(frames123).reset_index(drop = True)"
      ],
      "metadata": {
        "id": "BtSW5Nh9v3R4"
      },
      "execution_count": 158,
      "outputs": []
    },
    {
      "cell_type": "markdown",
      "metadata": {
        "id": "dyVuQmXBl4As"
      },
      "source": [
        "(b) Dari data merged_housing di atas, apakah terdapat redudansi data? Implementasikan dengan code!"
      ]
    },
    {
      "cell_type": "code",
      "metadata": {
        "id": "WDqaB0Xxl4As",
        "colab": {
          "base_uri": "https://localhost:8080/"
        },
        "outputId": "5f84af89-532c-4997-8e62-91959632e833"
      },
      "source": [
        "# 1(b) Implementasi code di sini\n",
        "print(merged_housing)\n",
        "merged_housing.duplicated()"
      ],
      "execution_count": 159,
      "outputs": [
        {
          "output_type": "stream",
          "name": "stdout",
          "text": [
            "                 Suburb  ... Propertycount\n",
            "0            Abbotsford  ...        4019.0\n",
            "1            Abbotsford  ...        4019.0\n",
            "2            Abbotsford  ...        4019.0\n",
            "3            Abbotsford  ...        4019.0\n",
            "4            Abbotsford  ...        4019.0\n",
            "...                 ...  ...           ...\n",
            "35670  Avondale Heights  ...        4502.0\n",
            "35671  Avondale Heights  ...        4502.0\n",
            "35672  Avondale Heights  ...        4502.0\n",
            "35673  Avondale Heights  ...        4502.0\n",
            "35674  Avondale Heights  ...        4502.0\n",
            "\n",
            "[35675 rows x 21 columns]\n"
          ]
        },
        {
          "output_type": "execute_result",
          "data": {
            "text/plain": [
              "0        False\n",
              "1        False\n",
              "2        False\n",
              "3        False\n",
              "4        False\n",
              "         ...  \n",
              "35670     True\n",
              "35671     True\n",
              "35672     True\n",
              "35673     True\n",
              "35674     True\n",
              "Length: 35675, dtype: bool"
            ]
          },
          "metadata": {},
          "execution_count": 159
        }
      ]
    },
    {
      "cell_type": "markdown",
      "metadata": {
        "id": "BEd-4G1_l4As"
      },
      "source": [
        "(c) Apa yang dapat Anda lakukan untuk menangani redudansi data tersebut? Implementasikan dengan code!"
      ]
    },
    {
      "cell_type": "code",
      "metadata": {
        "id": "A9O0ELOPl4As",
        "colab": {
          "base_uri": "https://localhost:8080/",
          "height": 938
        },
        "outputId": "cffa252f-1dbf-4dfc-b53b-61cb853a19b8"
      },
      "source": [
        "# 1(c) Implementasi code di sini\n",
        "print(merged_housing)\n",
        "merged_housing.drop_duplicates()"
      ],
      "execution_count": 160,
      "outputs": [
        {
          "output_type": "stream",
          "name": "stdout",
          "text": [
            "                 Suburb  ... Propertycount\n",
            "0            Abbotsford  ...        4019.0\n",
            "1            Abbotsford  ...        4019.0\n",
            "2            Abbotsford  ...        4019.0\n",
            "3            Abbotsford  ...        4019.0\n",
            "4            Abbotsford  ...        4019.0\n",
            "...                 ...  ...           ...\n",
            "35670  Avondale Heights  ...        4502.0\n",
            "35671  Avondale Heights  ...        4502.0\n",
            "35672  Avondale Heights  ...        4502.0\n",
            "35673  Avondale Heights  ...        4502.0\n",
            "35674  Avondale Heights  ...        4502.0\n",
            "\n",
            "[35675 rows x 21 columns]\n"
          ]
        },
        {
          "output_type": "execute_result",
          "data": {
            "text/html": [
              "\n",
              "  <div id=\"df-f45d42a9-cf22-40d0-915e-22700f5d584f\">\n",
              "    <div class=\"colab-df-container\">\n",
              "      <div>\n",
              "<style scoped>\n",
              "    .dataframe tbody tr th:only-of-type {\n",
              "        vertical-align: middle;\n",
              "    }\n",
              "\n",
              "    .dataframe tbody tr th {\n",
              "        vertical-align: top;\n",
              "    }\n",
              "\n",
              "    .dataframe thead th {\n",
              "        text-align: right;\n",
              "    }\n",
              "</style>\n",
              "<table border=\"1\" class=\"dataframe\">\n",
              "  <thead>\n",
              "    <tr style=\"text-align: right;\">\n",
              "      <th></th>\n",
              "      <th>Suburb</th>\n",
              "      <th>Address</th>\n",
              "      <th>Rooms</th>\n",
              "      <th>Type</th>\n",
              "      <th>Price</th>\n",
              "      <th>Method</th>\n",
              "      <th>SellerG</th>\n",
              "      <th>Date</th>\n",
              "      <th>Distance</th>\n",
              "      <th>Postcode</th>\n",
              "      <th>Bedroom2</th>\n",
              "      <th>Bathroom</th>\n",
              "      <th>Car</th>\n",
              "      <th>Landsize</th>\n",
              "      <th>BuildingArea</th>\n",
              "      <th>YearBuilt</th>\n",
              "      <th>CouncilArea</th>\n",
              "      <th>Lattitude</th>\n",
              "      <th>Longtitude</th>\n",
              "      <th>Regionname</th>\n",
              "      <th>Propertycount</th>\n",
              "    </tr>\n",
              "  </thead>\n",
              "  <tbody>\n",
              "    <tr>\n",
              "      <th>0</th>\n",
              "      <td>Abbotsford</td>\n",
              "      <td>68 Studley St</td>\n",
              "      <td>2</td>\n",
              "      <td>h</td>\n",
              "      <td>NaN</td>\n",
              "      <td>SS</td>\n",
              "      <td>Jellis</td>\n",
              "      <td>3/09/2016</td>\n",
              "      <td>2.5</td>\n",
              "      <td>3067.0</td>\n",
              "      <td>2.0</td>\n",
              "      <td>1.0</td>\n",
              "      <td>1.0</td>\n",
              "      <td>126.0</td>\n",
              "      <td>NaN</td>\n",
              "      <td>NaN</td>\n",
              "      <td>Yarra City Council</td>\n",
              "      <td>-37.80140</td>\n",
              "      <td>144.99580</td>\n",
              "      <td>Northern Metropolitan</td>\n",
              "      <td>4019.0</td>\n",
              "    </tr>\n",
              "    <tr>\n",
              "      <th>1</th>\n",
              "      <td>Abbotsford</td>\n",
              "      <td>85 Turner St</td>\n",
              "      <td>2</td>\n",
              "      <td>h</td>\n",
              "      <td>1480000.0</td>\n",
              "      <td>S</td>\n",
              "      <td>Biggin</td>\n",
              "      <td>3/12/2016</td>\n",
              "      <td>2.5</td>\n",
              "      <td>3067.0</td>\n",
              "      <td>2.0</td>\n",
              "      <td>1.0</td>\n",
              "      <td>1.0</td>\n",
              "      <td>202.0</td>\n",
              "      <td>NaN</td>\n",
              "      <td>NaN</td>\n",
              "      <td>Yarra City Council</td>\n",
              "      <td>-37.79960</td>\n",
              "      <td>144.99840</td>\n",
              "      <td>Northern Metropolitan</td>\n",
              "      <td>4019.0</td>\n",
              "    </tr>\n",
              "    <tr>\n",
              "      <th>2</th>\n",
              "      <td>Abbotsford</td>\n",
              "      <td>25 Bloomburg St</td>\n",
              "      <td>2</td>\n",
              "      <td>h</td>\n",
              "      <td>1035000.0</td>\n",
              "      <td>S</td>\n",
              "      <td>Biggin</td>\n",
              "      <td>4/02/2016</td>\n",
              "      <td>2.5</td>\n",
              "      <td>3067.0</td>\n",
              "      <td>2.0</td>\n",
              "      <td>1.0</td>\n",
              "      <td>0.0</td>\n",
              "      <td>156.0</td>\n",
              "      <td>79.0</td>\n",
              "      <td>1900.0</td>\n",
              "      <td>Yarra City Council</td>\n",
              "      <td>-37.80790</td>\n",
              "      <td>144.99340</td>\n",
              "      <td>Northern Metropolitan</td>\n",
              "      <td>4019.0</td>\n",
              "    </tr>\n",
              "    <tr>\n",
              "      <th>3</th>\n",
              "      <td>Abbotsford</td>\n",
              "      <td>18/659 Victoria St</td>\n",
              "      <td>3</td>\n",
              "      <td>u</td>\n",
              "      <td>NaN</td>\n",
              "      <td>VB</td>\n",
              "      <td>Rounds</td>\n",
              "      <td>4/02/2016</td>\n",
              "      <td>2.5</td>\n",
              "      <td>3067.0</td>\n",
              "      <td>3.0</td>\n",
              "      <td>2.0</td>\n",
              "      <td>1.0</td>\n",
              "      <td>0.0</td>\n",
              "      <td>NaN</td>\n",
              "      <td>NaN</td>\n",
              "      <td>Yarra City Council</td>\n",
              "      <td>-37.81140</td>\n",
              "      <td>145.01160</td>\n",
              "      <td>Northern Metropolitan</td>\n",
              "      <td>4019.0</td>\n",
              "    </tr>\n",
              "    <tr>\n",
              "      <th>4</th>\n",
              "      <td>Abbotsford</td>\n",
              "      <td>5 Charles St</td>\n",
              "      <td>3</td>\n",
              "      <td>h</td>\n",
              "      <td>1465000.0</td>\n",
              "      <td>SP</td>\n",
              "      <td>Biggin</td>\n",
              "      <td>4/03/2017</td>\n",
              "      <td>2.5</td>\n",
              "      <td>3067.0</td>\n",
              "      <td>3.0</td>\n",
              "      <td>2.0</td>\n",
              "      <td>0.0</td>\n",
              "      <td>134.0</td>\n",
              "      <td>150.0</td>\n",
              "      <td>1900.0</td>\n",
              "      <td>Yarra City Council</td>\n",
              "      <td>-37.80930</td>\n",
              "      <td>144.99440</td>\n",
              "      <td>Northern Metropolitan</td>\n",
              "      <td>4019.0</td>\n",
              "    </tr>\n",
              "    <tr>\n",
              "      <th>...</th>\n",
              "      <td>...</td>\n",
              "      <td>...</td>\n",
              "      <td>...</td>\n",
              "      <td>...</td>\n",
              "      <td>...</td>\n",
              "      <td>...</td>\n",
              "      <td>...</td>\n",
              "      <td>...</td>\n",
              "      <td>...</td>\n",
              "      <td>...</td>\n",
              "      <td>...</td>\n",
              "      <td>...</td>\n",
              "      <td>...</td>\n",
              "      <td>...</td>\n",
              "      <td>...</td>\n",
              "      <td>...</td>\n",
              "      <td>...</td>\n",
              "      <td>...</td>\n",
              "      <td>...</td>\n",
              "      <td>...</td>\n",
              "      <td>...</td>\n",
              "    </tr>\n",
              "    <tr>\n",
              "      <th>34852</th>\n",
              "      <td>Yarraville</td>\n",
              "      <td>13 Burns St</td>\n",
              "      <td>4</td>\n",
              "      <td>h</td>\n",
              "      <td>1480000.0</td>\n",
              "      <td>PI</td>\n",
              "      <td>Jas</td>\n",
              "      <td>24/02/2018</td>\n",
              "      <td>6.3</td>\n",
              "      <td>3013.0</td>\n",
              "      <td>4.0</td>\n",
              "      <td>1.0</td>\n",
              "      <td>3.0</td>\n",
              "      <td>593.0</td>\n",
              "      <td>NaN</td>\n",
              "      <td>NaN</td>\n",
              "      <td>Maribyrnong City Council</td>\n",
              "      <td>-37.81053</td>\n",
              "      <td>144.88467</td>\n",
              "      <td>Western Metropolitan</td>\n",
              "      <td>6543.0</td>\n",
              "    </tr>\n",
              "    <tr>\n",
              "      <th>34853</th>\n",
              "      <td>Yarraville</td>\n",
              "      <td>29A Murray St</td>\n",
              "      <td>2</td>\n",
              "      <td>h</td>\n",
              "      <td>888000.0</td>\n",
              "      <td>SP</td>\n",
              "      <td>Sweeney</td>\n",
              "      <td>24/02/2018</td>\n",
              "      <td>6.3</td>\n",
              "      <td>3013.0</td>\n",
              "      <td>2.0</td>\n",
              "      <td>2.0</td>\n",
              "      <td>1.0</td>\n",
              "      <td>98.0</td>\n",
              "      <td>104.0</td>\n",
              "      <td>2018.0</td>\n",
              "      <td>Maribyrnong City Council</td>\n",
              "      <td>-37.81551</td>\n",
              "      <td>144.88826</td>\n",
              "      <td>Western Metropolitan</td>\n",
              "      <td>6543.0</td>\n",
              "    </tr>\n",
              "    <tr>\n",
              "      <th>34854</th>\n",
              "      <td>Yarraville</td>\n",
              "      <td>147A Severn St</td>\n",
              "      <td>2</td>\n",
              "      <td>t</td>\n",
              "      <td>705000.0</td>\n",
              "      <td>S</td>\n",
              "      <td>Jas</td>\n",
              "      <td>24/02/2018</td>\n",
              "      <td>6.3</td>\n",
              "      <td>3013.0</td>\n",
              "      <td>2.0</td>\n",
              "      <td>1.0</td>\n",
              "      <td>2.0</td>\n",
              "      <td>220.0</td>\n",
              "      <td>120.0</td>\n",
              "      <td>2000.0</td>\n",
              "      <td>Maribyrnong City Council</td>\n",
              "      <td>-37.82286</td>\n",
              "      <td>144.87856</td>\n",
              "      <td>Western Metropolitan</td>\n",
              "      <td>6543.0</td>\n",
              "    </tr>\n",
              "    <tr>\n",
              "      <th>34855</th>\n",
              "      <td>Yarraville</td>\n",
              "      <td>12/37 Stephen St</td>\n",
              "      <td>3</td>\n",
              "      <td>h</td>\n",
              "      <td>1140000.0</td>\n",
              "      <td>SP</td>\n",
              "      <td>hockingstuart</td>\n",
              "      <td>24/02/2018</td>\n",
              "      <td>6.3</td>\n",
              "      <td>3013.0</td>\n",
              "      <td>NaN</td>\n",
              "      <td>NaN</td>\n",
              "      <td>NaN</td>\n",
              "      <td>NaN</td>\n",
              "      <td>NaN</td>\n",
              "      <td>NaN</td>\n",
              "      <td>Maribyrnong City Council</td>\n",
              "      <td>NaN</td>\n",
              "      <td>NaN</td>\n",
              "      <td>Western Metropolitan</td>\n",
              "      <td>6543.0</td>\n",
              "    </tr>\n",
              "    <tr>\n",
              "      <th>34856</th>\n",
              "      <td>Yarraville</td>\n",
              "      <td>3 Tarrengower St</td>\n",
              "      <td>2</td>\n",
              "      <td>h</td>\n",
              "      <td>1020000.0</td>\n",
              "      <td>PI</td>\n",
              "      <td>RW</td>\n",
              "      <td>24/02/2018</td>\n",
              "      <td>6.3</td>\n",
              "      <td>3013.0</td>\n",
              "      <td>2.0</td>\n",
              "      <td>1.0</td>\n",
              "      <td>0.0</td>\n",
              "      <td>250.0</td>\n",
              "      <td>103.0</td>\n",
              "      <td>1930.0</td>\n",
              "      <td>Maribyrnong City Council</td>\n",
              "      <td>-37.81810</td>\n",
              "      <td>144.89351</td>\n",
              "      <td>Western Metropolitan</td>\n",
              "      <td>6543.0</td>\n",
              "    </tr>\n",
              "  </tbody>\n",
              "</table>\n",
              "<p>34856 rows × 21 columns</p>\n",
              "</div>\n",
              "      <button class=\"colab-df-convert\" onclick=\"convertToInteractive('df-f45d42a9-cf22-40d0-915e-22700f5d584f')\"\n",
              "              title=\"Convert this dataframe to an interactive table.\"\n",
              "              style=\"display:none;\">\n",
              "        \n",
              "  <svg xmlns=\"http://www.w3.org/2000/svg\" height=\"24px\"viewBox=\"0 0 24 24\"\n",
              "       width=\"24px\">\n",
              "    <path d=\"M0 0h24v24H0V0z\" fill=\"none\"/>\n",
              "    <path d=\"M18.56 5.44l.94 2.06.94-2.06 2.06-.94-2.06-.94-.94-2.06-.94 2.06-2.06.94zm-11 1L8.5 8.5l.94-2.06 2.06-.94-2.06-.94L8.5 2.5l-.94 2.06-2.06.94zm10 10l.94 2.06.94-2.06 2.06-.94-2.06-.94-.94-2.06-.94 2.06-2.06.94z\"/><path d=\"M17.41 7.96l-1.37-1.37c-.4-.4-.92-.59-1.43-.59-.52 0-1.04.2-1.43.59L10.3 9.45l-7.72 7.72c-.78.78-.78 2.05 0 2.83L4 21.41c.39.39.9.59 1.41.59.51 0 1.02-.2 1.41-.59l7.78-7.78 2.81-2.81c.8-.78.8-2.07 0-2.86zM5.41 20L4 18.59l7.72-7.72 1.47 1.35L5.41 20z\"/>\n",
              "  </svg>\n",
              "      </button>\n",
              "      \n",
              "  <style>\n",
              "    .colab-df-container {\n",
              "      display:flex;\n",
              "      flex-wrap:wrap;\n",
              "      gap: 12px;\n",
              "    }\n",
              "\n",
              "    .colab-df-convert {\n",
              "      background-color: #E8F0FE;\n",
              "      border: none;\n",
              "      border-radius: 50%;\n",
              "      cursor: pointer;\n",
              "      display: none;\n",
              "      fill: #1967D2;\n",
              "      height: 32px;\n",
              "      padding: 0 0 0 0;\n",
              "      width: 32px;\n",
              "    }\n",
              "\n",
              "    .colab-df-convert:hover {\n",
              "      background-color: #E2EBFA;\n",
              "      box-shadow: 0px 1px 2px rgba(60, 64, 67, 0.3), 0px 1px 3px 1px rgba(60, 64, 67, 0.15);\n",
              "      fill: #174EA6;\n",
              "    }\n",
              "\n",
              "    [theme=dark] .colab-df-convert {\n",
              "      background-color: #3B4455;\n",
              "      fill: #D2E3FC;\n",
              "    }\n",
              "\n",
              "    [theme=dark] .colab-df-convert:hover {\n",
              "      background-color: #434B5C;\n",
              "      box-shadow: 0px 1px 3px 1px rgba(0, 0, 0, 0.15);\n",
              "      filter: drop-shadow(0px 1px 2px rgba(0, 0, 0, 0.3));\n",
              "      fill: #FFFFFF;\n",
              "    }\n",
              "  </style>\n",
              "\n",
              "      <script>\n",
              "        const buttonEl =\n",
              "          document.querySelector('#df-f45d42a9-cf22-40d0-915e-22700f5d584f button.colab-df-convert');\n",
              "        buttonEl.style.display =\n",
              "          google.colab.kernel.accessAllowed ? 'block' : 'none';\n",
              "\n",
              "        async function convertToInteractive(key) {\n",
              "          const element = document.querySelector('#df-f45d42a9-cf22-40d0-915e-22700f5d584f');\n",
              "          const dataTable =\n",
              "            await google.colab.kernel.invokeFunction('convertToInteractive',\n",
              "                                                     [key], {});\n",
              "          if (!dataTable) return;\n",
              "\n",
              "          const docLinkHtml = 'Like what you see? Visit the ' +\n",
              "            '<a target=\"_blank\" href=https://colab.research.google.com/notebooks/data_table.ipynb>data table notebook</a>'\n",
              "            + ' to learn more about interactive tables.';\n",
              "          element.innerHTML = '';\n",
              "          dataTable['output_type'] = 'display_data';\n",
              "          await google.colab.output.renderOutput(dataTable, element);\n",
              "          const docLink = document.createElement('div');\n",
              "          docLink.innerHTML = docLinkHtml;\n",
              "          element.appendChild(docLink);\n",
              "        }\n",
              "      </script>\n",
              "    </div>\n",
              "  </div>\n",
              "  "
            ],
            "text/plain": [
              "           Suburb             Address  ...             Regionname Propertycount\n",
              "0      Abbotsford       68 Studley St  ...  Northern Metropolitan        4019.0\n",
              "1      Abbotsford        85 Turner St  ...  Northern Metropolitan        4019.0\n",
              "2      Abbotsford     25 Bloomburg St  ...  Northern Metropolitan        4019.0\n",
              "3      Abbotsford  18/659 Victoria St  ...  Northern Metropolitan        4019.0\n",
              "4      Abbotsford        5 Charles St  ...  Northern Metropolitan        4019.0\n",
              "...           ...                 ...  ...                    ...           ...\n",
              "34852  Yarraville         13 Burns St  ...   Western Metropolitan        6543.0\n",
              "34853  Yarraville       29A Murray St  ...   Western Metropolitan        6543.0\n",
              "34854  Yarraville      147A Severn St  ...   Western Metropolitan        6543.0\n",
              "34855  Yarraville    12/37 Stephen St  ...   Western Metropolitan        6543.0\n",
              "34856  Yarraville    3 Tarrengower St  ...   Western Metropolitan        6543.0\n",
              "\n",
              "[34856 rows x 21 columns]"
            ]
          },
          "metadata": {},
          "execution_count": 160
        }
      ]
    },
    {
      "cell_type": "markdown",
      "metadata": {
        "id": "Mz7RWdqQl4At"
      },
      "source": [
        "(d) Berikan alasan mengapa redudansi data perlu ditangani.\n",
        "\n",
        "\n"
      ]
    },
    {
      "cell_type": "markdown",
      "source": [
        "> Karena pada dasarnya data redundancy dapat mempengaruhi kita dalam mengolah data, salah satu pengaruh yang dapat dirasakan adalah kecenderungan untuk terjadinya anomali data. Selain terbentuknya anomali data, juga rentan terbentuknya bias representation yang dapat menyebabkan kita mengambil kesimpulan yang salah terhadap suatu data"
      ],
      "metadata": {
        "id": "GBGNMcHVfKKg"
      }
    },
    {
      "cell_type": "markdown",
      "source": [
        "(e) Coba analisa data pada kolom \"type\". Apakah terdapat kejanggalan? Bagaimana cara anda untuk membersihkannya? Implementasikan dengan code!"
      ],
      "metadata": {
        "id": "elrJ7uNI5yPp"
      }
    },
    {
      "cell_type": "code",
      "source": [
        "# 1(e) Implementasi code di sini\n",
        "# BEFORE cleaning\n",
        "number_of_H_type = (merged_housing['Type'] == 'H').sum()\n",
        "print(number_of_H_type)\n",
        "\n",
        "# AFTER cleaning\n",
        "merged_housing_without_H_type = merged_housing.replace('H', 'h')\n",
        "print((merged_housing_without_H_type['Type'] == 'H').sum())"
      ],
      "metadata": {
        "id": "X1z4dvzL6Ffn",
        "colab": {
          "base_uri": "https://localhost:8080/"
        },
        "outputId": "1cbfa5cf-68e4-4548-ea89-d86c6f0a1b3a"
      },
      "execution_count": 161,
      "outputs": [
        {
          "output_type": "stream",
          "name": "stdout",
          "text": [
            "15\n",
            "0\n"
          ]
        }
      ]
    },
    {
      "cell_type": "markdown",
      "metadata": {
        "id": "18v2FKJzjcPQ"
      },
      "source": [
        "### Outlier"
      ]
    },
    {
      "cell_type": "markdown",
      "metadata": {
        "id": "GN-hQ0_1vUel"
      },
      "source": [
        "Outlier merupakan observasi yang tidak biasa yang muncul pada salah satu titik ekstrim dari sebagian besar data. Titik ekstrim di sini adalah nilai yang terlalu kecil atau nilai yang terlalu besar jika dibandingkan dengan sebagian besar nilai lain dalam kelompoknya."
      ]
    },
    {
      "cell_type": "markdown",
      "source": [
        "Outlier perlu ditangani dengan hati-hati. Hanya karena sebuah data adalah outlier bukan berarti otomatis dihapuskan. Perlu dianalisa kira-kira apa penyebab munculnya outlier. Ada beberapa skenario yang perlu dipertimbangkan:\n",
        "\n",
        "*   Outliernya terjadi karena _human error_ atau masalah pada input data. Tanda-tanda outlier seperti ini misalkan ada data yang tidak memungkinkan, seperti usia negatif. Apabila jelas seperti ini, data outlier bisa didrop.\n",
        "*   Apabila outliernya tidak mengubah hasil perhitungan algoritma, tetapi mempengaruhi asumsi, bisa didrop.\n",
        "* Mungkin outliernya mempengaruhi hasil perhitungan algoritma. Bisa dilakukan perhitungan dengan dan tanpa outlier untuk membandingkan hasilnya.\n",
        "* Apabila outlier sangat mempengaruhi hasil perhitungan seperti menggambarkan assosiasi pada data yang seharusnya tidak berassosiasi, outliernya bisa didrop.\n",
        "* Mungkin datanya bisa ditransformasi dengan _square root_ atau log, sehingga outliernya tidak terlalu ekstrem.\n",
        "* Mungkin model yang digunakan untuk menggambarkan datanya bisa diubah. Ini perlu dilakukan dengan hati-hati. Misalkan menggunakan model non-linear untuk menggambarkan data, dibandingkan model linear.\n",
        "\n",
        "Ketika mengurus outlier bisa berkonsultasi dengan _domain expert_ untuk lebih memahami sifat outliernya dan mengambil langkah terbaik dalam mengurusnya. Pada akhirnya, perlakuan terhadap outlier disesuaikan dengan observasi dan analisa pada outlier.\n",
        "\n",
        "\n"
      ],
      "metadata": {
        "id": "yT85gQ04M01P"
      }
    },
    {
      "cell_type": "code",
      "metadata": {
        "colab": {
          "base_uri": "https://localhost:8080/",
          "height": 340
        },
        "scrolled": true,
        "outputId": "4c7ecb05-d411-4bce-9491-d94eda6a7ac0",
        "id": "ZxKovTOwZjLf"
      },
      "source": [
        "merged_housing.plot.scatter(x=\"Price\", y='Type', figsize=(6,4))"
      ],
      "execution_count": 162,
      "outputs": [
        {
          "output_type": "stream",
          "name": "stderr",
          "text": [
            "*c* argument looks like a single numeric RGB or RGBA sequence, which should be avoided as value-mapping will have precedence in case its length matches with *x* & *y*.  Please use the *color* keyword-argument or provide a 2-D array with a single row if you intend to specify the same RGB or RGBA value for all points.\n"
          ]
        },
        {
          "output_type": "execute_result",
          "data": {
            "text/plain": [
              "<matplotlib.axes._subplots.AxesSubplot at 0x7fd7030db590>"
            ]
          },
          "metadata": {},
          "execution_count": 162
        },
        {
          "output_type": "display_data",
          "data": {
            "image/png": "[encoded data removed]",
            "text/plain": [
              "<Figure size 432x288 with 1 Axes>"
            ]
          },
          "metadata": {}
        }
      ]
    },
    {
      "cell_type": "markdown",
      "metadata": {
        "id": "af03UEXVz-Rh"
      },
      "source": [
        "Dari scatter plot di atas terlihat bahwa ada nilai price yang sangat besar (outlier) pada rumah bertipe \"h\""
      ]
    },
    {
      "cell_type": "code",
      "metadata": {
        "id": "02ShW0HTOVF7",
        "colab": {
          "base_uri": "https://localhost:8080/",
          "height": 655
        },
        "outputId": "af1b6623-6048-46ec-9b2a-e0b4b55fad96"
      },
      "source": [
        "merged_housing.boxplot(figsize=(20,10))"
      ],
      "execution_count": 163,
      "outputs": [
        {
          "output_type": "stream",
          "name": "stderr",
          "text": [
            "/usr/local/lib/python3.7/dist-packages/matplotlib/cbook/__init__.py:1376: VisibleDeprecationWarning: Creating an ndarray from ragged nested sequences (which is a list-or-tuple of lists-or-tuples-or ndarrays with different lengths or shapes) is deprecated. If you meant to do this, you must specify 'dtype=object' when creating the ndarray.\n",
            "  X = np.atleast_1d(X.T if isinstance(X, np.ndarray) else np.asarray(X))\n"
          ]
        },
        {
          "output_type": "execute_result",
          "data": {
            "text/plain": [
              "<matplotlib.axes._subplots.AxesSubplot at 0x7fd701ec3150>"
            ]
          },
          "metadata": {},
          "execution_count": 163
        },
        {
          "output_type": "display_data",
          "data": {
            "image/png": "[encoded data removed]",
            "text/plain": [
              "<Figure size 1440x720 with 1 Axes>"
            ]
          },
          "metadata": {}
        }
      ]
    },
    {
      "cell_type": "markdown",
      "metadata": {
        "id": "l2Mz6B6Ylku7"
      },
      "source": [
        "Boxplot juga dapat digunakan untuk menunjukkan adanya outlier. Bagian utama boxplot merupakan sebuah kotak Box yang menyajikan interquartile range (IQR). Garis yang merupakan perpanjangan dari box dinamakan dengan whiskers. Nilai yang berada di atas atau di bawah whisker dinamakan nilai outlier atau ekstrim."
      ]
    },
    {
      "cell_type": "markdown",
      "metadata": {
        "id": "Qs6DEaIu0_-3"
      },
      "source": [
        "## **SOAL 2**\n",
        "\n",
        "(a) Dari boxplot yang Anda lihat, atribut apa yang mengandung outlier paling banyak?"
      ]
    },
    {
      "cell_type": "markdown",
      "metadata": {
        "id": "7yICBAehl4Au"
      },
      "source": [
        "> Apabila ukuran citranya saya perpanjang kebawah. Attribute yang menurut saya mengandung outlier paling banyak adalah **Price** kemudian disusul **Landsize** pada posisi kedua.\n"
      ]
    },
    {
      "cell_type": "markdown",
      "metadata": {
        "id": "9clvzQNg7MRx"
      },
      "source": [
        "(b) Implementasikan code untuk menampilkan banyaknya outlier pada atribut tersebut!"
      ]
    },
    {
      "cell_type": "code",
      "metadata": {
        "id": "9FNJvGOyz-Rj",
        "colab": {
          "base_uri": "https://localhost:8080/"
        },
        "outputId": "bb629856-45b1-4f3f-da55-62730df918b2"
      },
      "source": [
        "# 2(b) Implementasi code di sini\n",
        "price_list = merged_housing['Price']\n",
        "clean_price_list_sorted = sorted(price_list.dropna())\n",
        "q1, q3= np.percentile(clean_price_list_sorted, [25, 75])\n",
        "iqr = q3 - q1\n",
        "lower_bound = q1 - (1.5 * iqr) \n",
        "upper_bound = q3 + (1.5 * iqr)\n",
        "number_of_outliers = ((clean_price_list_sorted < lower_bound) | (clean_price_list_sorted > upper_bound)).sum()\n",
        "\n",
        "number_of_outliers"
      ],
      "execution_count": 164,
      "outputs": [
        {
          "output_type": "execute_result",
          "data": {
            "text/plain": [
              "1301"
            ]
          },
          "metadata": {},
          "execution_count": 164
        }
      ]
    },
    {
      "cell_type": "markdown",
      "metadata": {
        "id": "X85RWnpBz-Rj"
      },
      "source": [
        "(c) Apa yang dapat Anda lakukan untuk menangani outlier tersebut? Implementasikan dengan code!\n",
        "\n"
      ]
    },
    {
      "cell_type": "code",
      "metadata": {
        "id": "vMBAr9Rb7cFd",
        "colab": {
          "base_uri": "https://localhost:8080/"
        },
        "outputId": "e3ba6862-9390-455e-96f5-b0ef11dcc4ac"
      },
      "source": [
        "# 2(c) Implementasi code di sini\n",
        "\n",
        "# MEAN, MEDIAN, MODE data with outlier\n",
        "with_outlier_mean = np.mean(clean_price_list_sorted)\n",
        "with_outlier_median = np.median(clean_price_list_sorted)\n",
        "dataframeMode = pd.DataFrame(clean_price_list_sorted)\n",
        "with_outlier_mode = dataframeMode.mode()\n",
        "with_outlier_variance = np.var(clean_price_list_sorted)\n",
        "with_outlier_std = np.std(clean_price_list_sorted)\n",
        "\n",
        "print(\"with_outlier_mean:\", with_outlier_mean)\n",
        "print(\"with_outlier_median:\", with_outlier_median)\n",
        "print(\"with_outlier_mode:\", with_outlier_mode[0][0])\n",
        "print(\"with_outlier_variance:\", with_outlier_variance)\n",
        "print(\"with_outlier_std:\", with_outlier_std)\n",
        "print()\n",
        "\n",
        "# MEAN, MEDIAN, MODE data without outlier\n",
        "without_outlier = [x for x in clean_price_list_sorted if (x > lower_bound) and (x < upper_bound)]\n",
        "without_outlier_mean = np.mean(without_outlier)\n",
        "without_outlier_median = np.median(without_outlier)\n",
        "dataframeMode2 = pd.DataFrame(without_outlier)\n",
        "without_outlier_mode = dataframeMode2.mode()\n",
        "without_outlier_variance = np.var(without_outlier)\n",
        "without_outlier_std = np.std(without_outlier)\n",
        "\n",
        "print(\"without_outlier_mean:\", without_outlier_mean)\n",
        "print(\"without_outlier_median:\", without_outlier_median)\n",
        "print(\"without_outlier_mode:\", without_outlier_mode[0][0])\n",
        "print(\"without_outlier_variance:\", without_outlier_variance)\n",
        "print(\"without_outlier_std:\", without_outlier_std)"
      ],
      "execution_count": 186,
      "outputs": [
        {
          "output_type": "stream",
          "name": "stdout",
          "text": [
            "with_outlier_mean: 1051431.666427701\n",
            "with_outlier_median: 872000.0\n",
            "with_outlier_mode: 1100000.0\n",
            "with_outlier_variance: 411314670777.1843\n",
            "with_outlier_std: 641338.1875244795\n",
            "\n",
            "without_outlier_mean: 953460.7565514907\n",
            "without_outlier_median: 850000.0\n",
            "without_outlier_mode: 1100000.0\n",
            "without_outlier_variance: 188505351245.92072\n",
            "without_outlier_std: 434172.02955271164\n"
          ]
        }
      ]
    },
    {
      "cell_type": "markdown",
      "source": [
        "> Penjelasan nomor 2c\n",
        "Mengingat kehadiran outlier dapat berpengaruh pada keempat nilai diatas (kecuali mode).\n",
        "Sehingga saya memutuskan untuk menghilangkan outlier pada data tersebut"
      ],
      "metadata": {
        "id": "KTbYbNyIr_ug"
      }
    },
    {
      "cell_type": "markdown",
      "metadata": {
        "id": "bd-aKJ9lwI0O"
      },
      "source": [
        "### Missing Values"
      ]
    },
    {
      "cell_type": "markdown",
      "metadata": {
        "id": "ZdkXMlUHWxzY"
      },
      "source": [
        "Terkadang data mungkin dalam format yang benar, tetapi beberapa nilainya hilang.\n",
        "\n",
        "*   Nilai yang hilang terjadi ketika tidak ada nilai data yang disimpan untuk suatu variabel (fitur) dalam suatu observasi.\n",
        "*   Biasanya missing value di datase muncul sebagai “?”, “T/A”, 0 atau hanya sel kosong."
      ]
    },
    {
      "cell_type": "markdown",
      "metadata": {
        "id": "tw3zM_5DY3C6"
      },
      "source": [
        "Untuk menangani missing values, tidak terdapat jawaban tunggal yang selalu bekerja untuk semua skenario, karena  tentunya penanganan missing values harus disesuaikan dengan kondisi data atau fitur yang memiliki missing values. Namun, terdapat beberapa opsi umum yang dapat dipertimbangkan, yaitu: \n",
        "\n",
        "*   Periksa lagi dengan orang/kelompok yang mengumpulkan data.\n",
        "*   Jika kita tidak mengetahui nilai yang hilang, opsi yang mungkin adalah menghapus/drop missing values.\n",
        "    * Menghapus kolom yang mengandung missing values, atau \n",
        "    * Menghapus beberapa baris data yang mengandung missing values.\n",
        "*  Jika data relatif sedikit, opsi yang mungkin adalah mengganti/replace nilai missing values. \n",
        "    * Mengganti nilai missing value dengan nilai mean keseluruhan variabel apabila pada data tidak terdapat terlalu banyak outlier. Dikarenakan mean dipengaruhi oleh outlier.\n",
        "    * Mengganti nilai missing value dengan nilai median keseluruhan variabel apabila pada data terdapat cukup banyak outlier. \n",
        "    * Jika variabelnya non-numerik, ganti nilai missing value dengan frekuensi/modus. \n",
        "*   Jika kita berasumsi data tersebut tetap akan berguna meskipun ada fitur yang hilang, maka kita dapat membiarkan missing values. \n",
        "\n",
        "\n",
        "\n",
        "\n"
      ]
    },
    {
      "cell_type": "code",
      "metadata": {
        "id": "jxmLWlatOVF8"
      },
      "source": [
        "# Cek missing value\n",
        "def cek_null(df):\n",
        "    col_na = df.isnull().sum().sort_values(ascending=False)# Menghitung jumlah null value pada setiap kolom kemudian disort dari yang terbesar\n",
        "    percent = col_na / len(df)\n",
        "    \n",
        "    missing_data = pd.concat([col_na, percent], axis=1, keys=['Total', 'Percent'])# Membuat dataframe untuk menampilkan jumlah nilai null per kolom\n",
        "    print(missing_data[missing_data['Total'] > 0])# Menampilkan kolon yang memiliki null value"
      ],
      "execution_count": 166,
      "outputs": []
    },
    {
      "cell_type": "code",
      "metadata": {
        "id": "G_vYn8ZxOVF9",
        "colab": {
          "base_uri": "https://localhost:8080/"
        },
        "outputId": "3ac90c22-5d58-418e-9191-6ca08b48988b"
      },
      "source": [
        "cek_null(merged_housing)"
      ],
      "execution_count": 167,
      "outputs": [
        {
          "output_type": "stream",
          "name": "stdout",
          "text": [
            "               Total   Percent\n",
            "BuildingArea   21571  0.604653\n",
            "YearBuilt      19731  0.553076\n",
            "Landsize       12017  0.336847\n",
            "Car             8935  0.250456\n",
            "Bathroom        8433  0.236384\n",
            "Bedroom2        8424  0.236132\n",
            "Longtitude      8177  0.229208\n",
            "Lattitude       8177  0.229208\n",
            "Price           7777  0.217996\n",
            "Regionname         3  0.000084\n",
            "CouncilArea        3  0.000084\n",
            "Propertycount      3  0.000084\n",
            "Postcode           1  0.000028\n",
            "Distance           1  0.000028\n"
          ]
        }
      ]
    },
    {
      "cell_type": "markdown",
      "metadata": {
        "id": "E6VwvbP5z-Rk"
      },
      "source": [
        "Terdapat beberapa atribut memiliki null value yang sangat banyak, atribut \"BuildingArea\" memiliki null value yang paling banyak hingga 60%, \"YearBuilt\" hingga 55%"
      ]
    },
    {
      "cell_type": "code",
      "metadata": {
        "id": "1Lf9rpqPpQUe",
        "colab": {
          "base_uri": "https://localhost:8080/"
        },
        "outputId": "9400986b-32f6-4465-be98-0216805ada6d"
      },
      "source": [
        "# Melihat isi BuildingArea (20 baris pertama)\n",
        "merged_housing['BuildingArea'].head(20)"
      ],
      "execution_count": 168,
      "outputs": [
        {
          "output_type": "execute_result",
          "data": {
            "text/plain": [
              "0       NaN\n",
              "1       NaN\n",
              "2      79.0\n",
              "3       NaN\n",
              "4     150.0\n",
              "5       NaN\n",
              "6     142.0\n",
              "7     220.0\n",
              "8       NaN\n",
              "9       NaN\n",
              "10      NaN\n",
              "11    210.0\n",
              "12     82.0\n",
              "13    147.0\n",
              "14    107.0\n",
              "15      NaN\n",
              "16      NaN\n",
              "17      NaN\n",
              "18     75.0\n",
              "19      NaN\n",
              "Name: BuildingArea, dtype: float64"
            ]
          },
          "metadata": {},
          "execution_count": 168
        }
      ]
    },
    {
      "cell_type": "code",
      "metadata": {
        "id": "SaljTpbZqsvH",
        "colab": {
          "base_uri": "https://localhost:8080/",
          "height": 357
        },
        "outputId": "659e550f-23fb-42d4-c848-77bc67295be4"
      },
      "source": [
        "# Drop atribut yang dianggap tidak penting\n",
        "housing_cleaned = merged_housing.drop(['Date' , 'YearBuilt', 'BuildingArea', 'Bedroom2', \"Address\"], axis=1)\n",
        "housing_cleaned.head()"
      ],
      "execution_count": 169,
      "outputs": [
        {
          "output_type": "execute_result",
          "data": {
            "text/html": [
              "\n",
              "  <div id=\"df-d3b19803-d584-479d-968c-f94f848c2062\">\n",
              "    <div class=\"colab-df-container\">\n",
              "      <div>\n",
              "<style scoped>\n",
              "    .dataframe tbody tr th:only-of-type {\n",
              "        vertical-align: middle;\n",
              "    }\n",
              "\n",
              "    .dataframe tbody tr th {\n",
              "        vertical-align: top;\n",
              "    }\n",
              "\n",
              "    .dataframe thead th {\n",
              "        text-align: right;\n",
              "    }\n",
              "</style>\n",
              "<table border=\"1\" class=\"dataframe\">\n",
              "  <thead>\n",
              "    <tr style=\"text-align: right;\">\n",
              "      <th></th>\n",
              "      <th>Suburb</th>\n",
              "      <th>Rooms</th>\n",
              "      <th>Type</th>\n",
              "      <th>Price</th>\n",
              "      <th>Method</th>\n",
              "      <th>SellerG</th>\n",
              "      <th>Distance</th>\n",
              "      <th>Postcode</th>\n",
              "      <th>Bathroom</th>\n",
              "      <th>Car</th>\n",
              "      <th>Landsize</th>\n",
              "      <th>CouncilArea</th>\n",
              "      <th>Lattitude</th>\n",
              "      <th>Longtitude</th>\n",
              "      <th>Regionname</th>\n",
              "      <th>Propertycount</th>\n",
              "    </tr>\n",
              "  </thead>\n",
              "  <tbody>\n",
              "    <tr>\n",
              "      <th>0</th>\n",
              "      <td>Abbotsford</td>\n",
              "      <td>2</td>\n",
              "      <td>h</td>\n",
              "      <td>NaN</td>\n",
              "      <td>SS</td>\n",
              "      <td>Jellis</td>\n",
              "      <td>2.5</td>\n",
              "      <td>3067.0</td>\n",
              "      <td>1.0</td>\n",
              "      <td>1.0</td>\n",
              "      <td>126.0</td>\n",
              "      <td>Yarra City Council</td>\n",
              "      <td>-37.8014</td>\n",
              "      <td>144.9958</td>\n",
              "      <td>Northern Metropolitan</td>\n",
              "      <td>4019.0</td>\n",
              "    </tr>\n",
              "    <tr>\n",
              "      <th>1</th>\n",
              "      <td>Abbotsford</td>\n",
              "      <td>2</td>\n",
              "      <td>h</td>\n",
              "      <td>1480000.0</td>\n",
              "      <td>S</td>\n",
              "      <td>Biggin</td>\n",
              "      <td>2.5</td>\n",
              "      <td>3067.0</td>\n",
              "      <td>1.0</td>\n",
              "      <td>1.0</td>\n",
              "      <td>202.0</td>\n",
              "      <td>Yarra City Council</td>\n",
              "      <td>-37.7996</td>\n",
              "      <td>144.9984</td>\n",
              "      <td>Northern Metropolitan</td>\n",
              "      <td>4019.0</td>\n",
              "    </tr>\n",
              "    <tr>\n",
              "      <th>2</th>\n",
              "      <td>Abbotsford</td>\n",
              "      <td>2</td>\n",
              "      <td>h</td>\n",
              "      <td>1035000.0</td>\n",
              "      <td>S</td>\n",
              "      <td>Biggin</td>\n",
              "      <td>2.5</td>\n",
              "      <td>3067.0</td>\n",
              "      <td>1.0</td>\n",
              "      <td>0.0</td>\n",
              "      <td>156.0</td>\n",
              "      <td>Yarra City Council</td>\n",
              "      <td>-37.8079</td>\n",
              "      <td>144.9934</td>\n",
              "      <td>Northern Metropolitan</td>\n",
              "      <td>4019.0</td>\n",
              "    </tr>\n",
              "    <tr>\n",
              "      <th>3</th>\n",
              "      <td>Abbotsford</td>\n",
              "      <td>3</td>\n",
              "      <td>u</td>\n",
              "      <td>NaN</td>\n",
              "      <td>VB</td>\n",
              "      <td>Rounds</td>\n",
              "      <td>2.5</td>\n",
              "      <td>3067.0</td>\n",
              "      <td>2.0</td>\n",
              "      <td>1.0</td>\n",
              "      <td>0.0</td>\n",
              "      <td>Yarra City Council</td>\n",
              "      <td>-37.8114</td>\n",
              "      <td>145.0116</td>\n",
              "      <td>Northern Metropolitan</td>\n",
              "      <td>4019.0</td>\n",
              "    </tr>\n",
              "    <tr>\n",
              "      <th>4</th>\n",
              "      <td>Abbotsford</td>\n",
              "      <td>3</td>\n",
              "      <td>h</td>\n",
              "      <td>1465000.0</td>\n",
              "      <td>SP</td>\n",
              "      <td>Biggin</td>\n",
              "      <td>2.5</td>\n",
              "      <td>3067.0</td>\n",
              "      <td>2.0</td>\n",
              "      <td>0.0</td>\n",
              "      <td>134.0</td>\n",
              "      <td>Yarra City Council</td>\n",
              "      <td>-37.8093</td>\n",
              "      <td>144.9944</td>\n",
              "      <td>Northern Metropolitan</td>\n",
              "      <td>4019.0</td>\n",
              "    </tr>\n",
              "  </tbody>\n",
              "</table>\n",
              "</div>\n",
              "      <button class=\"colab-df-convert\" onclick=\"convertToInteractive('df-d3b19803-d584-479d-968c-f94f848c2062')\"\n",
              "              title=\"Convert this dataframe to an interactive table.\"\n",
              "              style=\"display:none;\">\n",
              "        \n",
              "  <svg xmlns=\"http://www.w3.org/2000/svg\" height=\"24px\"viewBox=\"0 0 24 24\"\n",
              "       width=\"24px\">\n",
              "    <path d=\"M0 0h24v24H0V0z\" fill=\"none\"/>\n",
              "    <path d=\"M18.56 5.44l.94 2.06.94-2.06 2.06-.94-2.06-.94-.94-2.06-.94 2.06-2.06.94zm-11 1L8.5 8.5l.94-2.06 2.06-.94-2.06-.94L8.5 2.5l-.94 2.06-2.06.94zm10 10l.94 2.06.94-2.06 2.06-.94-2.06-.94-.94-2.06-.94 2.06-2.06.94z\"/><path d=\"M17.41 7.96l-1.37-1.37c-.4-.4-.92-.59-1.43-.59-.52 0-1.04.2-1.43.59L10.3 9.45l-7.72 7.72c-.78.78-.78 2.05 0 2.83L4 21.41c.39.39.9.59 1.41.59.51 0 1.02-.2 1.41-.59l7.78-7.78 2.81-2.81c.8-.78.8-2.07 0-2.86zM5.41 20L4 18.59l7.72-7.72 1.47 1.35L5.41 20z\"/>\n",
              "  </svg>\n",
              "      </button>\n",
              "      \n",
              "  <style>\n",
              "    .colab-df-container {\n",
              "      display:flex;\n",
              "      flex-wrap:wrap;\n",
              "      gap: 12px;\n",
              "    }\n",
              "\n",
              "    .colab-df-convert {\n",
              "      background-color: #E8F0FE;\n",
              "      border: none;\n",
              "      border-radius: 50%;\n",
              "      cursor: pointer;\n",
              "      display: none;\n",
              "      fill: #1967D2;\n",
              "      height: 32px;\n",
              "      padding: 0 0 0 0;\n",
              "      width: 32px;\n",
              "    }\n",
              "\n",
              "    .colab-df-convert:hover {\n",
              "      background-color: #E2EBFA;\n",
              "      box-shadow: 0px 1px 2px rgba(60, 64, 67, 0.3), 0px 1px 3px 1px rgba(60, 64, 67, 0.15);\n",
              "      fill: #174EA6;\n",
              "    }\n",
              "\n",
              "    [theme=dark] .colab-df-convert {\n",
              "      background-color: #3B4455;\n",
              "      fill: #D2E3FC;\n",
              "    }\n",
              "\n",
              "    [theme=dark] .colab-df-convert:hover {\n",
              "      background-color: #434B5C;\n",
              "      box-shadow: 0px 1px 3px 1px rgba(0, 0, 0, 0.15);\n",
              "      filter: drop-shadow(0px 1px 2px rgba(0, 0, 0, 0.3));\n",
              "      fill: #FFFFFF;\n",
              "    }\n",
              "  </style>\n",
              "\n",
              "      <script>\n",
              "        const buttonEl =\n",
              "          document.querySelector('#df-d3b19803-d584-479d-968c-f94f848c2062 button.colab-df-convert');\n",
              "        buttonEl.style.display =\n",
              "          google.colab.kernel.accessAllowed ? 'block' : 'none';\n",
              "\n",
              "        async function convertToInteractive(key) {\n",
              "          const element = document.querySelector('#df-d3b19803-d584-479d-968c-f94f848c2062');\n",
              "          const dataTable =\n",
              "            await google.colab.kernel.invokeFunction('convertToInteractive',\n",
              "                                                     [key], {});\n",
              "          if (!dataTable) return;\n",
              "\n",
              "          const docLinkHtml = 'Like what you see? Visit the ' +\n",
              "            '<a target=\"_blank\" href=https://colab.research.google.com/notebooks/data_table.ipynb>data table notebook</a>'\n",
              "            + ' to learn more about interactive tables.';\n",
              "          element.innerHTML = '';\n",
              "          dataTable['output_type'] = 'display_data';\n",
              "          await google.colab.output.renderOutput(dataTable, element);\n",
              "          const docLink = document.createElement('div');\n",
              "          docLink.innerHTML = docLinkHtml;\n",
              "          element.appendChild(docLink);\n",
              "        }\n",
              "      </script>\n",
              "    </div>\n",
              "  </div>\n",
              "  "
            ],
            "text/plain": [
              "       Suburb  Rooms Type  ...  Longtitude             Regionname Propertycount\n",
              "0  Abbotsford      2    h  ...    144.9958  Northern Metropolitan        4019.0\n",
              "1  Abbotsford      2    h  ...    144.9984  Northern Metropolitan        4019.0\n",
              "2  Abbotsford      2    h  ...    144.9934  Northern Metropolitan        4019.0\n",
              "3  Abbotsford      3    u  ...    145.0116  Northern Metropolitan        4019.0\n",
              "4  Abbotsford      3    h  ...    144.9944  Northern Metropolitan        4019.0\n",
              "\n",
              "[5 rows x 16 columns]"
            ]
          },
          "metadata": {},
          "execution_count": 169
        }
      ]
    },
    {
      "cell_type": "markdown",
      "metadata": {
        "id": "kv7NsoTEm_zU"
      },
      "source": [
        "Atribut-atribut tersebut dianggap tidak penting berdasarkan pertimbangan, nalar, atau basic knowledge manusia. Sebagai contoh, apabila kita ingin mengetahui region dari suatu rumah, atribut Date pada dataset ini tidak mengindikasikan apakah asal region dari suatu rumah. Selain itu, ada beberapa atribut juga yang mungkin tidak akan mempengaruhi pengukuran tersebut. Sehingga atribut-atribut tersebut dapat didrop. \n"
      ]
    },
    {
      "cell_type": "markdown",
      "metadata": {
        "id": "2wg_F4N3tQPn"
      },
      "source": [
        "Atribut perlu didrop apabila:\n",
        "\n",
        "*   Atribut tidak intuitif.\n",
        "*   Atribut mempunyai banyak missing values.\n",
        "*   Atribut tidak informatif.\n",
        "*   Atribut dapat membahayakan untuk model tertentu.\n",
        "*   Atribut tersebut dapat dihasilkan dari atribut yang lain.\n",
        "\n"
      ]
    },
    {
      "cell_type": "code",
      "metadata": {
        "id": "TSXGJngarAAT",
        "colab": {
          "base_uri": "https://localhost:8080/"
        },
        "outputId": "b15fece5-5eb8-4754-d264-153e8241c47d"
      },
      "source": [
        "cek_null(housing_cleaned)"
      ],
      "execution_count": 170,
      "outputs": [
        {
          "output_type": "stream",
          "name": "stdout",
          "text": [
            "               Total   Percent\n",
            "Landsize       12017  0.336847\n",
            "Car             8935  0.250456\n",
            "Bathroom        8433  0.236384\n",
            "Lattitude       8177  0.229208\n",
            "Longtitude      8177  0.229208\n",
            "Price           7777  0.217996\n",
            "CouncilArea        3  0.000084\n",
            "Regionname         3  0.000084\n",
            "Propertycount      3  0.000084\n",
            "Distance           1  0.000028\n",
            "Postcode           1  0.000028\n"
          ]
        }
      ]
    },
    {
      "cell_type": "markdown",
      "metadata": {
        "id": "e7Q-qUDPz-Rm"
      },
      "source": [
        "Setelah atribut yang tidak penting dihapus, perlu ditangani atribut yang masih mengandung null value."
      ]
    },
    {
      "cell_type": "code",
      "metadata": {
        "id": "vlyjIawArFUI",
        "colab": {
          "base_uri": "https://localhost:8080/"
        },
        "outputId": "211df550-04bd-4d0a-b2cd-faef552dcf61"
      },
      "source": [
        "# Untuk atribute \"Price\", null value akan diisi dengan nilai median\n",
        "col = [\"Price\"]\n",
        "for c in col:\n",
        "    median = housing_cleaned[~housing_cleaned.isna()].median().Price\n",
        "    housing_cleaned[c] = housing_cleaned[c].fillna(median)"
      ],
      "execution_count": 171,
      "outputs": [
        {
          "output_type": "stream",
          "name": "stderr",
          "text": [
            "/usr/local/lib/python3.7/dist-packages/ipykernel_launcher.py:4: FutureWarning: Dropping of nuisance columns in DataFrame reductions (with 'numeric_only=None') is deprecated; in a future version this will raise TypeError.  Select only valid columns before calling the reduction.\n",
            "  after removing the cwd from sys.path.\n"
          ]
        }
      ]
    },
    {
      "cell_type": "code",
      "source": [
        "# Untuk atribute \"Car\", null value akan diisi dengan nilai modus\n",
        "mode = int(housing_cleaned[~housing_cleaned.isna()].Car.mode())\n",
        "housing_cleaned[\"Car\"].fillna(mode, inplace=True)"
      ],
      "metadata": {
        "id": "nPzdYPJ06_tG"
      },
      "execution_count": 172,
      "outputs": []
    },
    {
      "cell_type": "code",
      "source": [
        "# Untuk atribute \"Bathroom\", null value akan diisi dengan nilai modus\n",
        "col = [\"Bathroom\"]\n",
        "for c in col:\n",
        "    mode = int(housing_cleaned[~housing_cleaned.isna()].Bathroom.mode())\n",
        "    housing_cleaned[c] = housing_cleaned[c].fillna(mode)"
      ],
      "metadata": {
        "id": "7gDvZiYG7JAL"
      },
      "execution_count": 173,
      "outputs": []
    },
    {
      "cell_type": "code",
      "source": [
        "# Untuk atribute \"Landsize\", null value akan diisi dengan nilai median\n",
        "col = [\"Landsize\"]\n",
        "for c in col:\n",
        "    median = housing_cleaned[~housing_cleaned.isna()].median().Landsize\n",
        "    housing_cleaned[c] = housing_cleaned[c].fillna(median)"
      ],
      "metadata": {
        "id": "EF36GuiA7OsF",
        "colab": {
          "base_uri": "https://localhost:8080/"
        },
        "outputId": "0aecb375-b74e-42c2-e5b3-f283671dfb75"
      },
      "execution_count": 174,
      "outputs": [
        {
          "output_type": "stream",
          "name": "stderr",
          "text": [
            "/usr/local/lib/python3.7/dist-packages/ipykernel_launcher.py:4: FutureWarning: Dropping of nuisance columns in DataFrame reductions (with 'numeric_only=None') is deprecated; in a future version this will raise TypeError.  Select only valid columns before calling the reduction.\n",
            "  after removing the cwd from sys.path.\n"
          ]
        }
      ]
    },
    {
      "cell_type": "code",
      "metadata": {
        "id": "IIZieScPrn5K",
        "colab": {
          "base_uri": "https://localhost:8080/"
        },
        "outputId": "237a703d-d728-46ad-d5ae-d649ab59b33e"
      },
      "source": [
        "cek_null(housing_cleaned)"
      ],
      "execution_count": 175,
      "outputs": [
        {
          "output_type": "stream",
          "name": "stdout",
          "text": [
            "               Total   Percent\n",
            "Lattitude       8177  0.229208\n",
            "Longtitude      8177  0.229208\n",
            "CouncilArea        3  0.000084\n",
            "Regionname         3  0.000084\n",
            "Propertycount      3  0.000084\n",
            "Distance           1  0.000028\n",
            "Postcode           1  0.000028\n"
          ]
        }
      ]
    },
    {
      "cell_type": "code",
      "metadata": {
        "id": "vj9pull1OVGK"
      },
      "source": [
        "# Hapus sisa baris yang memiliki atribut null\n",
        "housing_cleaned.dropna(inplace=True)"
      ],
      "execution_count": 176,
      "outputs": []
    },
    {
      "cell_type": "code",
      "source": [
        "cek_null(housing_cleaned)"
      ],
      "metadata": {
        "id": "ojdhqH_j_JmU",
        "colab": {
          "base_uri": "https://localhost:8080/"
        },
        "outputId": "0378c829-0df9-49db-db5e-9faca76d7b8e"
      },
      "execution_count": 177,
      "outputs": [
        {
          "output_type": "stream",
          "name": "stdout",
          "text": [
            "Empty DataFrame\n",
            "Columns: [Total, Percent]\n",
            "Index: []\n"
          ]
        }
      ]
    },
    {
      "cell_type": "code",
      "metadata": {
        "id": "ISI2cUbBuapN",
        "colab": {
          "base_uri": "https://localhost:8080/"
        },
        "outputId": "af06c3db-1645-4588-c260-f3b78cc12a0a"
      },
      "source": [
        "housing_cleaned.shape"
      ],
      "execution_count": 178,
      "outputs": [
        {
          "output_type": "execute_result",
          "data": {
            "text/plain": [
              "(27498, 16)"
            ]
          },
          "metadata": {},
          "execution_count": 178
        }
      ]
    },
    {
      "cell_type": "code",
      "metadata": {
        "id": "9IFXEigrOVGK",
        "colab": {
          "base_uri": "https://localhost:8080/",
          "height": 357
        },
        "outputId": "4212a2c8-942b-457d-c9f4-28abed898215"
      },
      "source": [
        "housing_cleaned.head()"
      ],
      "execution_count": 179,
      "outputs": [
        {
          "output_type": "execute_result",
          "data": {
            "text/html": [
              "\n",
              "  <div id=\"df-b53007d2-c4ab-48ca-bb55-b32694723a52\">\n",
              "    <div class=\"colab-df-container\">\n",
              "      <div>\n",
              "<style scoped>\n",
              "    .dataframe tbody tr th:only-of-type {\n",
              "        vertical-align: middle;\n",
              "    }\n",
              "\n",
              "    .dataframe tbody tr th {\n",
              "        vertical-align: top;\n",
              "    }\n",
              "\n",
              "    .dataframe thead th {\n",
              "        text-align: right;\n",
              "    }\n",
              "</style>\n",
              "<table border=\"1\" class=\"dataframe\">\n",
              "  <thead>\n",
              "    <tr style=\"text-align: right;\">\n",
              "      <th></th>\n",
              "      <th>Suburb</th>\n",
              "      <th>Rooms</th>\n",
              "      <th>Type</th>\n",
              "      <th>Price</th>\n",
              "      <th>Method</th>\n",
              "      <th>SellerG</th>\n",
              "      <th>Distance</th>\n",
              "      <th>Postcode</th>\n",
              "      <th>Bathroom</th>\n",
              "      <th>Car</th>\n",
              "      <th>Landsize</th>\n",
              "      <th>CouncilArea</th>\n",
              "      <th>Lattitude</th>\n",
              "      <th>Longtitude</th>\n",
              "      <th>Regionname</th>\n",
              "      <th>Propertycount</th>\n",
              "    </tr>\n",
              "  </thead>\n",
              "  <tbody>\n",
              "    <tr>\n",
              "      <th>0</th>\n",
              "      <td>Abbotsford</td>\n",
              "      <td>2</td>\n",
              "      <td>h</td>\n",
              "      <td>872000.0</td>\n",
              "      <td>SS</td>\n",
              "      <td>Jellis</td>\n",
              "      <td>2.5</td>\n",
              "      <td>3067.0</td>\n",
              "      <td>1.0</td>\n",
              "      <td>1.0</td>\n",
              "      <td>126.0</td>\n",
              "      <td>Yarra City Council</td>\n",
              "      <td>-37.8014</td>\n",
              "      <td>144.9958</td>\n",
              "      <td>Northern Metropolitan</td>\n",
              "      <td>4019.0</td>\n",
              "    </tr>\n",
              "    <tr>\n",
              "      <th>1</th>\n",
              "      <td>Abbotsford</td>\n",
              "      <td>2</td>\n",
              "      <td>h</td>\n",
              "      <td>1480000.0</td>\n",
              "      <td>S</td>\n",
              "      <td>Biggin</td>\n",
              "      <td>2.5</td>\n",
              "      <td>3067.0</td>\n",
              "      <td>1.0</td>\n",
              "      <td>1.0</td>\n",
              "      <td>202.0</td>\n",
              "      <td>Yarra City Council</td>\n",
              "      <td>-37.7996</td>\n",
              "      <td>144.9984</td>\n",
              "      <td>Northern Metropolitan</td>\n",
              "      <td>4019.0</td>\n",
              "    </tr>\n",
              "    <tr>\n",
              "      <th>2</th>\n",
              "      <td>Abbotsford</td>\n",
              "      <td>2</td>\n",
              "      <td>h</td>\n",
              "      <td>1035000.0</td>\n",
              "      <td>S</td>\n",
              "      <td>Biggin</td>\n",
              "      <td>2.5</td>\n",
              "      <td>3067.0</td>\n",
              "      <td>1.0</td>\n",
              "      <td>0.0</td>\n",
              "      <td>156.0</td>\n",
              "      <td>Yarra City Council</td>\n",
              "      <td>-37.8079</td>\n",
              "      <td>144.9934</td>\n",
              "      <td>Northern Metropolitan</td>\n",
              "      <td>4019.0</td>\n",
              "    </tr>\n",
              "    <tr>\n",
              "      <th>3</th>\n",
              "      <td>Abbotsford</td>\n",
              "      <td>3</td>\n",
              "      <td>u</td>\n",
              "      <td>872000.0</td>\n",
              "      <td>VB</td>\n",
              "      <td>Rounds</td>\n",
              "      <td>2.5</td>\n",
              "      <td>3067.0</td>\n",
              "      <td>2.0</td>\n",
              "      <td>1.0</td>\n",
              "      <td>0.0</td>\n",
              "      <td>Yarra City Council</td>\n",
              "      <td>-37.8114</td>\n",
              "      <td>145.0116</td>\n",
              "      <td>Northern Metropolitan</td>\n",
              "      <td>4019.0</td>\n",
              "    </tr>\n",
              "    <tr>\n",
              "      <th>4</th>\n",
              "      <td>Abbotsford</td>\n",
              "      <td>3</td>\n",
              "      <td>h</td>\n",
              "      <td>1465000.0</td>\n",
              "      <td>SP</td>\n",
              "      <td>Biggin</td>\n",
              "      <td>2.5</td>\n",
              "      <td>3067.0</td>\n",
              "      <td>2.0</td>\n",
              "      <td>0.0</td>\n",
              "      <td>134.0</td>\n",
              "      <td>Yarra City Council</td>\n",
              "      <td>-37.8093</td>\n",
              "      <td>144.9944</td>\n",
              "      <td>Northern Metropolitan</td>\n",
              "      <td>4019.0</td>\n",
              "    </tr>\n",
              "  </tbody>\n",
              "</table>\n",
              "</div>\n",
              "      <button class=\"colab-df-convert\" onclick=\"convertToInteractive('df-b53007d2-c4ab-48ca-bb55-b32694723a52')\"\n",
              "              title=\"Convert this dataframe to an interactive table.\"\n",
              "              style=\"display:none;\">\n",
              "        \n",
              "  <svg xmlns=\"http://www.w3.org/2000/svg\" height=\"24px\"viewBox=\"0 0 24 24\"\n",
              "       width=\"24px\">\n",
              "    <path d=\"M0 0h24v24H0V0z\" fill=\"none\"/>\n",
              "    <path d=\"M18.56 5.44l.94 2.06.94-2.06 2.06-.94-2.06-.94-.94-2.06-.94 2.06-2.06.94zm-11 1L8.5 8.5l.94-2.06 2.06-.94-2.06-.94L8.5 2.5l-.94 2.06-2.06.94zm10 10l.94 2.06.94-2.06 2.06-.94-2.06-.94-.94-2.06-.94 2.06-2.06.94z\"/><path d=\"M17.41 7.96l-1.37-1.37c-.4-.4-.92-.59-1.43-.59-.52 0-1.04.2-1.43.59L10.3 9.45l-7.72 7.72c-.78.78-.78 2.05 0 2.83L4 21.41c.39.39.9.59 1.41.59.51 0 1.02-.2 1.41-.59l7.78-7.78 2.81-2.81c.8-.78.8-2.07 0-2.86zM5.41 20L4 18.59l7.72-7.72 1.47 1.35L5.41 20z\"/>\n",
              "  </svg>\n",
              "      </button>\n",
              "      \n",
              "  <style>\n",
              "    .colab-df-container {\n",
              "      display:flex;\n",
              "      flex-wrap:wrap;\n",
              "      gap: 12px;\n",
              "    }\n",
              "\n",
              "    .colab-df-convert {\n",
              "      background-color: #E8F0FE;\n",
              "      border: none;\n",
              "      border-radius: 50%;\n",
              "      cursor: pointer;\n",
              "      display: none;\n",
              "      fill: #1967D2;\n",
              "      height: 32px;\n",
              "      padding: 0 0 0 0;\n",
              "      width: 32px;\n",
              "    }\n",
              "\n",
              "    .colab-df-convert:hover {\n",
              "      background-color: #E2EBFA;\n",
              "      box-shadow: 0px 1px 2px rgba(60, 64, 67, 0.3), 0px 1px 3px 1px rgba(60, 64, 67, 0.15);\n",
              "      fill: #174EA6;\n",
              "    }\n",
              "\n",
              "    [theme=dark] .colab-df-convert {\n",
              "      background-color: #3B4455;\n",
              "      fill: #D2E3FC;\n",
              "    }\n",
              "\n",
              "    [theme=dark] .colab-df-convert:hover {\n",
              "      background-color: #434B5C;\n",
              "      box-shadow: 0px 1px 3px 1px rgba(0, 0, 0, 0.15);\n",
              "      filter: drop-shadow(0px 1px 2px rgba(0, 0, 0, 0.3));\n",
              "      fill: #FFFFFF;\n",
              "    }\n",
              "  </style>\n",
              "\n",
              "      <script>\n",
              "        const buttonEl =\n",
              "          document.querySelector('#df-b53007d2-c4ab-48ca-bb55-b32694723a52 button.colab-df-convert');\n",
              "        buttonEl.style.display =\n",
              "          google.colab.kernel.accessAllowed ? 'block' : 'none';\n",
              "\n",
              "        async function convertToInteractive(key) {\n",
              "          const element = document.querySelector('#df-b53007d2-c4ab-48ca-bb55-b32694723a52');\n",
              "          const dataTable =\n",
              "            await google.colab.kernel.invokeFunction('convertToInteractive',\n",
              "                                                     [key], {});\n",
              "          if (!dataTable) return;\n",
              "\n",
              "          const docLinkHtml = 'Like what you see? Visit the ' +\n",
              "            '<a target=\"_blank\" href=https://colab.research.google.com/notebooks/data_table.ipynb>data table notebook</a>'\n",
              "            + ' to learn more about interactive tables.';\n",
              "          element.innerHTML = '';\n",
              "          dataTable['output_type'] = 'display_data';\n",
              "          await google.colab.output.renderOutput(dataTable, element);\n",
              "          const docLink = document.createElement('div');\n",
              "          docLink.innerHTML = docLinkHtml;\n",
              "          element.appendChild(docLink);\n",
              "        }\n",
              "      </script>\n",
              "    </div>\n",
              "  </div>\n",
              "  "
            ],
            "text/plain": [
              "       Suburb  Rooms Type  ...  Longtitude             Regionname Propertycount\n",
              "0  Abbotsford      2    h  ...    144.9958  Northern Metropolitan        4019.0\n",
              "1  Abbotsford      2    h  ...    144.9984  Northern Metropolitan        4019.0\n",
              "2  Abbotsford      2    h  ...    144.9934  Northern Metropolitan        4019.0\n",
              "3  Abbotsford      3    u  ...    145.0116  Northern Metropolitan        4019.0\n",
              "4  Abbotsford      3    h  ...    144.9944  Northern Metropolitan        4019.0\n",
              "\n",
              "[5 rows x 16 columns]"
            ]
          },
          "metadata": {},
          "execution_count": 179
        }
      ]
    },
    {
      "cell_type": "code",
      "metadata": {
        "id": "fwlxWzK7ujcs",
        "colab": {
          "base_uri": "https://localhost:8080/",
          "height": 174
        },
        "outputId": "77f8557d-877a-47d1-ffda-4923a34c5f69"
      },
      "source": [
        "display(housing_cleaned.describe(include=object))"
      ],
      "execution_count": 180,
      "outputs": [
        {
          "output_type": "display_data",
          "data": {
            "text/html": [
              "\n",
              "  <div id=\"df-4167eb6e-9653-4b7f-9c6c-0002adc703d7\">\n",
              "    <div class=\"colab-df-container\">\n",
              "      <div>\n",
              "<style scoped>\n",
              "    .dataframe tbody tr th:only-of-type {\n",
              "        vertical-align: middle;\n",
              "    }\n",
              "\n",
              "    .dataframe tbody tr th {\n",
              "        vertical-align: top;\n",
              "    }\n",
              "\n",
              "    .dataframe thead th {\n",
              "        text-align: right;\n",
              "    }\n",
              "</style>\n",
              "<table border=\"1\" class=\"dataframe\">\n",
              "  <thead>\n",
              "    <tr style=\"text-align: right;\">\n",
              "      <th></th>\n",
              "      <th>Suburb</th>\n",
              "      <th>Type</th>\n",
              "      <th>Method</th>\n",
              "      <th>SellerG</th>\n",
              "      <th>CouncilArea</th>\n",
              "      <th>Regionname</th>\n",
              "    </tr>\n",
              "  </thead>\n",
              "  <tbody>\n",
              "    <tr>\n",
              "      <th>count</th>\n",
              "      <td>27498</td>\n",
              "      <td>27498</td>\n",
              "      <td>27498</td>\n",
              "      <td>27498</td>\n",
              "      <td>27498</td>\n",
              "      <td>27498</td>\n",
              "    </tr>\n",
              "    <tr>\n",
              "      <th>unique</th>\n",
              "      <td>345</td>\n",
              "      <td>4</td>\n",
              "      <td>9</td>\n",
              "      <td>361</td>\n",
              "      <td>33</td>\n",
              "      <td>8</td>\n",
              "    </tr>\n",
              "    <tr>\n",
              "      <th>top</th>\n",
              "      <td>Reservoir</td>\n",
              "      <td>h</td>\n",
              "      <td>S</td>\n",
              "      <td>Nelson</td>\n",
              "      <td>Boroondara City Council</td>\n",
              "      <td>Southern Metropolitan</td>\n",
              "    </tr>\n",
              "    <tr>\n",
              "      <th>freq</th>\n",
              "      <td>575</td>\n",
              "      <td>20981</td>\n",
              "      <td>15860</td>\n",
              "      <td>2702</td>\n",
              "      <td>2848</td>\n",
              "      <td>9215</td>\n",
              "    </tr>\n",
              "  </tbody>\n",
              "</table>\n",
              "</div>\n",
              "      <button class=\"colab-df-convert\" onclick=\"convertToInteractive('df-4167eb6e-9653-4b7f-9c6c-0002adc703d7')\"\n",
              "              title=\"Convert this dataframe to an interactive table.\"\n",
              "              style=\"display:none;\">\n",
              "        \n",
              "  <svg xmlns=\"http://www.w3.org/2000/svg\" height=\"24px\"viewBox=\"0 0 24 24\"\n",
              "       width=\"24px\">\n",
              "    <path d=\"M0 0h24v24H0V0z\" fill=\"none\"/>\n",
              "    <path d=\"M18.56 5.44l.94 2.06.94-2.06 2.06-.94-2.06-.94-.94-2.06-.94 2.06-2.06.94zm-11 1L8.5 8.5l.94-2.06 2.06-.94-2.06-.94L8.5 2.5l-.94 2.06-2.06.94zm10 10l.94 2.06.94-2.06 2.06-.94-2.06-.94-.94-2.06-.94 2.06-2.06.94z\"/><path d=\"M17.41 7.96l-1.37-1.37c-.4-.4-.92-.59-1.43-.59-.52 0-1.04.2-1.43.59L10.3 9.45l-7.72 7.72c-.78.78-.78 2.05 0 2.83L4 21.41c.39.39.9.59 1.41.59.51 0 1.02-.2 1.41-.59l7.78-7.78 2.81-2.81c.8-.78.8-2.07 0-2.86zM5.41 20L4 18.59l7.72-7.72 1.47 1.35L5.41 20z\"/>\n",
              "  </svg>\n",
              "      </button>\n",
              "      \n",
              "  <style>\n",
              "    .colab-df-container {\n",
              "      display:flex;\n",
              "      flex-wrap:wrap;\n",
              "      gap: 12px;\n",
              "    }\n",
              "\n",
              "    .colab-df-convert {\n",
              "      background-color: #E8F0FE;\n",
              "      border: none;\n",
              "      border-radius: 50%;\n",
              "      cursor: pointer;\n",
              "      display: none;\n",
              "      fill: #1967D2;\n",
              "      height: 32px;\n",
              "      padding: 0 0 0 0;\n",
              "      width: 32px;\n",
              "    }\n",
              "\n",
              "    .colab-df-convert:hover {\n",
              "      background-color: #E2EBFA;\n",
              "      box-shadow: 0px 1px 2px rgba(60, 64, 67, 0.3), 0px 1px 3px 1px rgba(60, 64, 67, 0.15);\n",
              "      fill: #174EA6;\n",
              "    }\n",
              "\n",
              "    [theme=dark] .colab-df-convert {\n",
              "      background-color: #3B4455;\n",
              "      fill: #D2E3FC;\n",
              "    }\n",
              "\n",
              "    [theme=dark] .colab-df-convert:hover {\n",
              "      background-color: #434B5C;\n",
              "      box-shadow: 0px 1px 3px 1px rgba(0, 0, 0, 0.15);\n",
              "      filter: drop-shadow(0px 1px 2px rgba(0, 0, 0, 0.3));\n",
              "      fill: #FFFFFF;\n",
              "    }\n",
              "  </style>\n",
              "\n",
              "      <script>\n",
              "        const buttonEl =\n",
              "          document.querySelector('#df-4167eb6e-9653-4b7f-9c6c-0002adc703d7 button.colab-df-convert');\n",
              "        buttonEl.style.display =\n",
              "          google.colab.kernel.accessAllowed ? 'block' : 'none';\n",
              "\n",
              "        async function convertToInteractive(key) {\n",
              "          const element = document.querySelector('#df-4167eb6e-9653-4b7f-9c6c-0002adc703d7');\n",
              "          const dataTable =\n",
              "            await google.colab.kernel.invokeFunction('convertToInteractive',\n",
              "                                                     [key], {});\n",
              "          if (!dataTable) return;\n",
              "\n",
              "          const docLinkHtml = 'Like what you see? Visit the ' +\n",
              "            '<a target=\"_blank\" href=https://colab.research.google.com/notebooks/data_table.ipynb>data table notebook</a>'\n",
              "            + ' to learn more about interactive tables.';\n",
              "          element.innerHTML = '';\n",
              "          dataTable['output_type'] = 'display_data';\n",
              "          await google.colab.output.renderOutput(dataTable, element);\n",
              "          const docLink = document.createElement('div');\n",
              "          docLink.innerHTML = docLinkHtml;\n",
              "          element.appendChild(docLink);\n",
              "        }\n",
              "      </script>\n",
              "    </div>\n",
              "  </div>\n",
              "  "
            ],
            "text/plain": [
              "           Suburb   Type  ...              CouncilArea             Regionname\n",
              "count       27498  27498  ...                    27498                  27498\n",
              "unique        345      4  ...                       33                      8\n",
              "top     Reservoir      h  ...  Boroondara City Council  Southern Metropolitan\n",
              "freq          575  20981  ...                     2848                   9215\n",
              "\n",
              "[4 rows x 6 columns]"
            ]
          },
          "metadata": {}
        }
      ]
    },
    {
      "cell_type": "code",
      "metadata": {
        "id": "YBTW9QWaunGK"
      },
      "source": [
        "# Melakukan label encoding, untuk mengubah data kategorikal bertipe string ke numeric value\n",
        "col = housing_cleaned.select_dtypes(include=[\"object\"]).columns\n",
        "\n",
        "for c in col:\n",
        "    if len(housing_cleaned[c].value_counts()) <= 361:\n",
        "        le = LabelEncoder() \n",
        "        le.fit(list(housing_cleaned[c].values)) \n",
        "        housing_cleaned[c] = le.transform(list(housing_cleaned[c].values))"
      ],
      "execution_count": 181,
      "outputs": []
    },
    {
      "cell_type": "code",
      "metadata": {
        "id": "oF5FvWysu97L",
        "colab": {
          "base_uri": "https://localhost:8080/",
          "height": 270
        },
        "outputId": "314f4842-ccef-411d-8048-6ee66be7c371"
      },
      "source": [
        "housing_cleaned.head()"
      ],
      "execution_count": 182,
      "outputs": [
        {
          "output_type": "execute_result",
          "data": {
            "text/html": [
              "\n",
              "  <div id=\"df-d61f0468-d272-4bb6-af9a-005fb9976891\">\n",
              "    <div class=\"colab-df-container\">\n",
              "      <div>\n",
              "<style scoped>\n",
              "    .dataframe tbody tr th:only-of-type {\n",
              "        vertical-align: middle;\n",
              "    }\n",
              "\n",
              "    .dataframe tbody tr th {\n",
              "        vertical-align: top;\n",
              "    }\n",
              "\n",
              "    .dataframe thead th {\n",
              "        text-align: right;\n",
              "    }\n",
              "</style>\n",
              "<table border=\"1\" class=\"dataframe\">\n",
              "  <thead>\n",
              "    <tr style=\"text-align: right;\">\n",
              "      <th></th>\n",
              "      <th>Suburb</th>\n",
              "      <th>Rooms</th>\n",
              "      <th>Type</th>\n",
              "      <th>Price</th>\n",
              "      <th>Method</th>\n",
              "      <th>SellerG</th>\n",
              "      <th>Distance</th>\n",
              "      <th>Postcode</th>\n",
              "      <th>Bathroom</th>\n",
              "      <th>Car</th>\n",
              "      <th>Landsize</th>\n",
              "      <th>CouncilArea</th>\n",
              "      <th>Lattitude</th>\n",
              "      <th>Longtitude</th>\n",
              "      <th>Regionname</th>\n",
              "      <th>Propertycount</th>\n",
              "    </tr>\n",
              "  </thead>\n",
              "  <tbody>\n",
              "    <tr>\n",
              "      <th>0</th>\n",
              "      <td>0</td>\n",
              "      <td>2</td>\n",
              "      <td>1</td>\n",
              "      <td>872000.0</td>\n",
              "      <td>6</td>\n",
              "      <td>142</td>\n",
              "      <td>2.5</td>\n",
              "      <td>3067.0</td>\n",
              "      <td>1.0</td>\n",
              "      <td>1.0</td>\n",
              "      <td>126.0</td>\n",
              "      <td>31</td>\n",
              "      <td>-37.8014</td>\n",
              "      <td>144.9958</td>\n",
              "      <td>2</td>\n",
              "      <td>4019.0</td>\n",
              "    </tr>\n",
              "    <tr>\n",
              "      <th>1</th>\n",
              "      <td>0</td>\n",
              "      <td>2</td>\n",
              "      <td>1</td>\n",
              "      <td>1480000.0</td>\n",
              "      <td>2</td>\n",
              "      <td>28</td>\n",
              "      <td>2.5</td>\n",
              "      <td>3067.0</td>\n",
              "      <td>1.0</td>\n",
              "      <td>1.0</td>\n",
              "      <td>202.0</td>\n",
              "      <td>31</td>\n",
              "      <td>-37.7996</td>\n",
              "      <td>144.9984</td>\n",
              "      <td>2</td>\n",
              "      <td>4019.0</td>\n",
              "    </tr>\n",
              "    <tr>\n",
              "      <th>2</th>\n",
              "      <td>0</td>\n",
              "      <td>2</td>\n",
              "      <td>1</td>\n",
              "      <td>1035000.0</td>\n",
              "      <td>2</td>\n",
              "      <td>28</td>\n",
              "      <td>2.5</td>\n",
              "      <td>3067.0</td>\n",
              "      <td>1.0</td>\n",
              "      <td>0.0</td>\n",
              "      <td>156.0</td>\n",
              "      <td>31</td>\n",
              "      <td>-37.8079</td>\n",
              "      <td>144.9934</td>\n",
              "      <td>2</td>\n",
              "      <td>4019.0</td>\n",
              "    </tr>\n",
              "    <tr>\n",
              "      <th>3</th>\n",
              "      <td>0</td>\n",
              "      <td>3</td>\n",
              "      <td>3</td>\n",
              "      <td>872000.0</td>\n",
              "      <td>7</td>\n",
              "      <td>279</td>\n",
              "      <td>2.5</td>\n",
              "      <td>3067.0</td>\n",
              "      <td>2.0</td>\n",
              "      <td>1.0</td>\n",
              "      <td>0.0</td>\n",
              "      <td>31</td>\n",
              "      <td>-37.8114</td>\n",
              "      <td>145.0116</td>\n",
              "      <td>2</td>\n",
              "      <td>4019.0</td>\n",
              "    </tr>\n",
              "    <tr>\n",
              "      <th>4</th>\n",
              "      <td>0</td>\n",
              "      <td>3</td>\n",
              "      <td>1</td>\n",
              "      <td>1465000.0</td>\n",
              "      <td>5</td>\n",
              "      <td>28</td>\n",
              "      <td>2.5</td>\n",
              "      <td>3067.0</td>\n",
              "      <td>2.0</td>\n",
              "      <td>0.0</td>\n",
              "      <td>134.0</td>\n",
              "      <td>31</td>\n",
              "      <td>-37.8093</td>\n",
              "      <td>144.9944</td>\n",
              "      <td>2</td>\n",
              "      <td>4019.0</td>\n",
              "    </tr>\n",
              "  </tbody>\n",
              "</table>\n",
              "</div>\n",
              "      <button class=\"colab-df-convert\" onclick=\"convertToInteractive('df-d61f0468-d272-4bb6-af9a-005fb9976891')\"\n",
              "              title=\"Convert this dataframe to an interactive table.\"\n",
              "              style=\"display:none;\">\n",
              "        \n",
              "  <svg xmlns=\"http://www.w3.org/2000/svg\" height=\"24px\"viewBox=\"0 0 24 24\"\n",
              "       width=\"24px\">\n",
              "    <path d=\"M0 0h24v24H0V0z\" fill=\"none\"/>\n",
              "    <path d=\"M18.56 5.44l.94 2.06.94-2.06 2.06-.94-2.06-.94-.94-2.06-.94 2.06-2.06.94zm-11 1L8.5 8.5l.94-2.06 2.06-.94-2.06-.94L8.5 2.5l-.94 2.06-2.06.94zm10 10l.94 2.06.94-2.06 2.06-.94-2.06-.94-.94-2.06-.94 2.06-2.06.94z\"/><path d=\"M17.41 7.96l-1.37-1.37c-.4-.4-.92-.59-1.43-.59-.52 0-1.04.2-1.43.59L10.3 9.45l-7.72 7.72c-.78.78-.78 2.05 0 2.83L4 21.41c.39.39.9.59 1.41.59.51 0 1.02-.2 1.41-.59l7.78-7.78 2.81-2.81c.8-.78.8-2.07 0-2.86zM5.41 20L4 18.59l7.72-7.72 1.47 1.35L5.41 20z\"/>\n",
              "  </svg>\n",
              "      </button>\n",
              "      \n",
              "  <style>\n",
              "    .colab-df-container {\n",
              "      display:flex;\n",
              "      flex-wrap:wrap;\n",
              "      gap: 12px;\n",
              "    }\n",
              "\n",
              "    .colab-df-convert {\n",
              "      background-color: #E8F0FE;\n",
              "      border: none;\n",
              "      border-radius: 50%;\n",
              "      cursor: pointer;\n",
              "      display: none;\n",
              "      fill: #1967D2;\n",
              "      height: 32px;\n",
              "      padding: 0 0 0 0;\n",
              "      width: 32px;\n",
              "    }\n",
              "\n",
              "    .colab-df-convert:hover {\n",
              "      background-color: #E2EBFA;\n",
              "      box-shadow: 0px 1px 2px rgba(60, 64, 67, 0.3), 0px 1px 3px 1px rgba(60, 64, 67, 0.15);\n",
              "      fill: #174EA6;\n",
              "    }\n",
              "\n",
              "    [theme=dark] .colab-df-convert {\n",
              "      background-color: #3B4455;\n",
              "      fill: #D2E3FC;\n",
              "    }\n",
              "\n",
              "    [theme=dark] .colab-df-convert:hover {\n",
              "      background-color: #434B5C;\n",
              "      box-shadow: 0px 1px 3px 1px rgba(0, 0, 0, 0.15);\n",
              "      filter: drop-shadow(0px 1px 2px rgba(0, 0, 0, 0.3));\n",
              "      fill: #FFFFFF;\n",
              "    }\n",
              "  </style>\n",
              "\n",
              "      <script>\n",
              "        const buttonEl =\n",
              "          document.querySelector('#df-d61f0468-d272-4bb6-af9a-005fb9976891 button.colab-df-convert');\n",
              "        buttonEl.style.display =\n",
              "          google.colab.kernel.accessAllowed ? 'block' : 'none';\n",
              "\n",
              "        async function convertToInteractive(key) {\n",
              "          const element = document.querySelector('#df-d61f0468-d272-4bb6-af9a-005fb9976891');\n",
              "          const dataTable =\n",
              "            await google.colab.kernel.invokeFunction('convertToInteractive',\n",
              "                                                     [key], {});\n",
              "          if (!dataTable) return;\n",
              "\n",
              "          const docLinkHtml = 'Like what you see? Visit the ' +\n",
              "            '<a target=\"_blank\" href=https://colab.research.google.com/notebooks/data_table.ipynb>data table notebook</a>'\n",
              "            + ' to learn more about interactive tables.';\n",
              "          element.innerHTML = '';\n",
              "          dataTable['output_type'] = 'display_data';\n",
              "          await google.colab.output.renderOutput(dataTable, element);\n",
              "          const docLink = document.createElement('div');\n",
              "          docLink.innerHTML = docLinkHtml;\n",
              "          element.appendChild(docLink);\n",
              "        }\n",
              "      </script>\n",
              "    </div>\n",
              "  </div>\n",
              "  "
            ],
            "text/plain": [
              "   Suburb  Rooms  Type  ...  Longtitude  Regionname  Propertycount\n",
              "0       0      2     1  ...    144.9958           2         4019.0\n",
              "1       0      2     1  ...    144.9984           2         4019.0\n",
              "2       0      2     1  ...    144.9934           2         4019.0\n",
              "3       0      3     3  ...    145.0116           2         4019.0\n",
              "4       0      3     1  ...    144.9944           2         4019.0\n",
              "\n",
              "[5 rows x 16 columns]"
            ]
          },
          "metadata": {},
          "execution_count": 182
        }
      ]
    },
    {
      "cell_type": "code",
      "metadata": {
        "id": "xBtyn8GqvKyB",
        "colab": {
          "base_uri": "https://localhost:8080/"
        },
        "outputId": "139f30c8-5620-47ea-a4ca-fdd76b0753f6"
      },
      "source": [
        "housing_cleaned.info()"
      ],
      "execution_count": 183,
      "outputs": [
        {
          "output_type": "stream",
          "name": "stdout",
          "text": [
            "<class 'pandas.core.frame.DataFrame'>\n",
            "Int64Index: 27498 entries, 0 to 35673\n",
            "Data columns (total 16 columns):\n",
            " #   Column         Non-Null Count  Dtype  \n",
            "---  ------         --------------  -----  \n",
            " 0   Suburb         27498 non-null  int64  \n",
            " 1   Rooms          27498 non-null  int64  \n",
            " 2   Type           27498 non-null  int64  \n",
            " 3   Price          27498 non-null  float64\n",
            " 4   Method         27498 non-null  int64  \n",
            " 5   SellerG        27498 non-null  int64  \n",
            " 6   Distance       27498 non-null  float64\n",
            " 7   Postcode       27498 non-null  float64\n",
            " 8   Bathroom       27498 non-null  float64\n",
            " 9   Car            27498 non-null  float64\n",
            " 10  Landsize       27498 non-null  float64\n",
            " 11  CouncilArea    27498 non-null  int64  \n",
            " 12  Lattitude      27498 non-null  float64\n",
            " 13  Longtitude     27498 non-null  float64\n",
            " 14  Regionname     27498 non-null  int64  \n",
            " 15  Propertycount  27498 non-null  float64\n",
            "dtypes: float64(9), int64(7)\n",
            "memory usage: 3.6 MB\n"
          ]
        }
      ]
    },
    {
      "cell_type": "markdown",
      "metadata": {
        "id": "6nDpp29PwYOk"
      },
      "source": [
        "## Preparation for Machine Learning"
      ]
    },
    {
      "cell_type": "markdown",
      "metadata": {
        "id": "fM4zMQnVz-Rp"
      },
      "source": [
        "Misalkan kita diberikan tugas untuk melakukan prediksi asal region dari suatu rumah. Atribut yang menjadi target adalah \"Regionname\", sedangkan atribut lainnya menjadi *predictor* (fitur yang akan menentukan hasil prediksi).\n",
        "\n",
        "Beberapa pemrosesan yang dapat dilakukan sebelum data kita dimasukkan di antaranya (tapi tidak terbatas pada):\n",
        "* Memisahkan atribut target dan atribut *predictor*\n",
        "* Melakukan normalisasi jika diperlukan\n",
        "* Memisahkan data menjadi data training dan testing (Akan dibahas pada beberapa Lab selanjutnya)"
      ]
    },
    {
      "cell_type": "code",
      "metadata": {
        "id": "mSFQ0swwvj1U"
      },
      "source": [
        "# Memisahkan atribut target (Y) dengan atribut predictor (X)\n",
        "X = housing_cleaned.drop('Regionname', axis=1)\n",
        "Y = housing_cleaned['Regionname']"
      ],
      "execution_count": 184,
      "outputs": []
    },
    {
      "cell_type": "markdown",
      "metadata": {
        "id": "IEdkNNOqz-Rp"
      },
      "source": [
        "## SOAL 3 \n",
        "\n",
        "(a) Lakukan normalisasi pada X. Implementasikan dengan code! Hint: [Dokumentasi Preprocessing Data](https://scikit-learn.org/stable/modules/preprocessing.html#standardization-or-mean-removal-and-variance-scaling)"
      ]
    },
    {
      "cell_type": "code",
      "metadata": {
        "id": "09NpBqacl4A4"
      },
      "source": [
        "# 3(a) Implementasi code di sini\n",
        "from sklearn import preprocessing\n",
        "X_norm_1 = preprocessing.normalize(X, norm = 'l1')\n",
        "X_norm_2 = preprocessing.normalize(X, norm = 'l2')\n",
        "X_norm_inf = preprocessing.normalize(X, norm = 'max')"
      ],
      "execution_count": 185,
      "outputs": []
    },
    {
      "cell_type": "markdown",
      "metadata": {
        "id": "n2F8ksSpz-Rp"
      },
      "source": [
        "(b) Bentuk normalisasi apa yang Anda pilih? Apa alasannya? \n"
      ]
    },
    {
      "cell_type": "markdown",
      "source": [
        "> Meskipun diatas saya memberikan tiga jenis normalisasi, yakni pada norm 1, norm 2 (euclidean) dan infinite norm. Namun saya prefer untuk menggunakan normalisasi kedalam norm-2 atau euclidean form. Kenapa demikian? Karena pada dasarnya euclidean form didapat dari akar kuadrat terhadap penjumlahan kuadrat elemen-elemennya. Berdasarkan literatur yang saya baca, cara ini lebih baik ketimbang cara pada norm 1, yang menjumlahkan nilai mutlak dari setiap elemennya. Juga ketimbang norm-inf yang mencari nilai mutlak dari elemen terbesar didalam data tersebut."
      ],
      "metadata": {
        "id": "vVOeTzaCeMVO"
      }
    },
    {
      "cell_type": "markdown",
      "metadata": {
        "id": "PKskkBe55OBI"
      },
      "source": [
        "(c) Mengapa perlu dinormalisasi?\n"
      ]
    },
    {
      "cell_type": "markdown",
      "source": [
        "> Tujuan dari normalisasi pada dasarnya adalah membuat data sample kita menjadi memiliki panjang (unit length). Kenapa demikian? Dengan masing-masing sample data direpresentasikan dengan unit lengthnya, dapat lebih mudah bagi mesin untuk mempelajari dan memproses data tersebut.\n",
        "\n",
        "> Karena judul section ini adalah **Preparation for Machine Learning** sehingga saya mengasumsikan tujuan dari data ini adalah untuk dimanfaatkan pada algoritma machine learning yang tidak menggunakan distribusi data macam KNN dan Neural Network."
      ],
      "metadata": {
        "id": "cuyh0S72eTdX"
      }
    }
  ]
}